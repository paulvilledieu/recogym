{
 "cells": [
  {
   "cell_type": "code",
   "execution_count": 108,
   "metadata": {
    "colab": {
     "base_uri": "https://localhost:8080/",
     "height": 1000
    },
    "colab_type": "code",
    "id": "0p4SVzvMi5yn",
    "outputId": "c9566966-5f7a-4a24-cf92-874b88752041"
   },
   "outputs": [
    {
     "name": "stdout",
     "output_type": "stream",
     "text": [
      "Requirement already satisfied: recogym in /home/keridan/venvs/rema-venv/lib/python3.6/site-packages (0.1.3.0)\n",
      "Requirement already satisfied: numba in /home/keridan/venvs/rema-venv/lib/python3.6/site-packages (from recogym) (0.46.0)\n",
      "Requirement already satisfied: torch in /home/keridan/venvs/rema-venv/lib/python3.6/site-packages (from recogym) (1.3.1)\n",
      "Requirement already satisfied: scikit-learn in /home/keridan/venvs/rema-venv/lib/python3.6/site-packages (from recogym) (0.22)\n",
      "Requirement already satisfied: gym in /home/keridan/venvs/rema-venv/lib/python3.6/site-packages (from recogym) (0.15.4)\n",
      "Requirement already satisfied: absl-py in /home/keridan/venvs/rema-venv/lib/python3.6/site-packages (from recogym) (0.8.1)\n",
      "Requirement already satisfied: pandas in /home/keridan/venvs/rema-venv/lib/python3.6/site-packages (from recogym) (0.25.3)\n",
      "Requirement already satisfied: tensorflow in /home/keridan/venvs/rema-venv/lib/python3.6/site-packages (from recogym) (2.0.0)\n",
      "Requirement already satisfied: datetime in /home/keridan/venvs/rema-venv/lib/python3.6/site-packages (from recogym) (4.3)\n",
      "Requirement already satisfied: matplotlib in /home/keridan/venvs/rema-venv/lib/python3.6/site-packages (from recogym) (3.1.2)\n",
      "Requirement already satisfied: simplegeneric in /home/keridan/venvs/rema-venv/lib/python3.6/site-packages (from recogym) (0.8.1)\n",
      "Requirement already satisfied: scipy in /home/keridan/venvs/rema-venv/lib/python3.6/site-packages (from recogym) (1.3.3)\n",
      "Requirement already satisfied: jupyter in /home/keridan/venvs/rema-venv/lib/python3.6/site-packages (from recogym) (1.0.0)\n",
      "Requirement already satisfied: tqdm in /home/keridan/venvs/rema-venv/lib/python3.6/site-packages (from recogym) (4.40.2)\n",
      "Requirement already satisfied: numpy in /home/keridan/venvs/rema-venv/lib/python3.6/site-packages (from recogym) (1.17.4)\n",
      "Requirement already satisfied: llvmlite>=0.30.0dev0 in /home/keridan/venvs/rema-venv/lib/python3.6/site-packages (from numba->recogym) (0.30.0)\n",
      "Requirement already satisfied: joblib>=0.11 in /home/keridan/venvs/rema-venv/lib/python3.6/site-packages (from scikit-learn->recogym) (0.14.1)\n",
      "Requirement already satisfied: cloudpickle~=1.2.0 in /home/keridan/venvs/rema-venv/lib/python3.6/site-packages (from gym->recogym) (1.2.2)\n",
      "Requirement already satisfied: six in /home/keridan/venvs/rema-venv/lib/python3.6/site-packages (from gym->recogym) (1.13.0)\n",
      "Requirement already satisfied: opencv-python in /home/keridan/venvs/rema-venv/lib/python3.6/site-packages (from gym->recogym) (4.1.2.30)\n",
      "Requirement already satisfied: pyglet<=1.3.2,>=1.2.0 in /home/keridan/venvs/rema-venv/lib/python3.6/site-packages (from gym->recogym) (1.3.2)\n",
      "Requirement already satisfied: pytz>=2017.2 in /home/keridan/venvs/rema-venv/lib/python3.6/site-packages (from pandas->recogym) (2019.3)\n",
      "Requirement already satisfied: python-dateutil>=2.6.1 in /home/keridan/venvs/rema-venv/lib/python3.6/site-packages (from pandas->recogym) (2.8.1)\n",
      "Requirement already satisfied: google-pasta>=0.1.6 in /home/keridan/venvs/rema-venv/lib/python3.6/site-packages (from tensorflow->recogym) (0.1.8)\n",
      "Requirement already satisfied: wheel>=0.26 in /home/keridan/venvs/rema-venv/lib/python3.6/site-packages (from tensorflow->recogym) (0.33.6)\n",
      "Requirement already satisfied: keras-preprocessing>=1.0.5 in /home/keridan/venvs/rema-venv/lib/python3.6/site-packages (from tensorflow->recogym) (1.1.0)\n",
      "Requirement already satisfied: wrapt>=1.11.1 in /home/keridan/venvs/rema-venv/lib/python3.6/site-packages (from tensorflow->recogym) (1.11.2)\n",
      "Requirement already satisfied: termcolor>=1.1.0 in /home/keridan/venvs/rema-venv/lib/python3.6/site-packages (from tensorflow->recogym) (1.1.0)\n",
      "Requirement already satisfied: tensorflow-estimator<2.1.0,>=2.0.0 in /home/keridan/venvs/rema-venv/lib/python3.6/site-packages (from tensorflow->recogym) (2.0.1)\n",
      "Requirement already satisfied: opt-einsum>=2.3.2 in /home/keridan/venvs/rema-venv/lib/python3.6/site-packages (from tensorflow->recogym) (3.1.0)\n",
      "Requirement already satisfied: gast==0.2.2 in /home/keridan/venvs/rema-venv/lib/python3.6/site-packages (from tensorflow->recogym) (0.2.2)\n",
      "Requirement already satisfied: keras-applications>=1.0.8 in /home/keridan/venvs/rema-venv/lib/python3.6/site-packages (from tensorflow->recogym) (1.0.8)\n",
      "Requirement already satisfied: protobuf>=3.6.1 in /home/keridan/venvs/rema-venv/lib/python3.6/site-packages (from tensorflow->recogym) (3.11.1)\n",
      "Requirement already satisfied: tensorboard<2.1.0,>=2.0.0 in /home/keridan/venvs/rema-venv/lib/python3.6/site-packages (from tensorflow->recogym) (2.0.2)\n",
      "Requirement already satisfied: astor>=0.6.0 in /home/keridan/venvs/rema-venv/lib/python3.6/site-packages (from tensorflow->recogym) (0.8.1)\n",
      "Requirement already satisfied: grpcio>=1.8.6 in /home/keridan/venvs/rema-venv/lib/python3.6/site-packages (from tensorflow->recogym) (1.25.0)\n",
      "Requirement already satisfied: zope.interface in /home/keridan/venvs/rema-venv/lib/python3.6/site-packages (from datetime->recogym) (4.7.1)\n",
      "Requirement already satisfied: cycler>=0.10 in /home/keridan/venvs/rema-venv/lib/python3.6/site-packages (from matplotlib->recogym) (0.10.0)\n",
      "Requirement already satisfied: pyparsing!=2.0.4,!=2.1.2,!=2.1.6,>=2.0.1 in /home/keridan/venvs/rema-venv/lib/python3.6/site-packages (from matplotlib->recogym) (2.4.5)\n",
      "Requirement already satisfied: kiwisolver>=1.0.1 in /home/keridan/venvs/rema-venv/lib/python3.6/site-packages (from matplotlib->recogym) (1.1.0)\n",
      "Requirement already satisfied: jupyter-console in /home/keridan/venvs/rema-venv/lib/python3.6/site-packages (from jupyter->recogym) (6.0.0)\n",
      "Requirement already satisfied: ipywidgets in /home/keridan/venvs/rema-venv/lib/python3.6/site-packages (from jupyter->recogym) (7.5.1)\n",
      "Requirement already satisfied: nbconvert in /home/keridan/venvs/rema-venv/lib/python3.6/site-packages (from jupyter->recogym) (5.6.1)\n",
      "Requirement already satisfied: notebook in /home/keridan/venvs/rema-venv/lib/python3.6/site-packages (from jupyter->recogym) (6.0.2)\n",
      "Requirement already satisfied: qtconsole in /home/keridan/venvs/rema-venv/lib/python3.6/site-packages (from jupyter->recogym) (4.6.0)\n",
      "Requirement already satisfied: ipykernel in /home/keridan/venvs/rema-venv/lib/python3.6/site-packages (from jupyter->recogym) (5.1.3)\n",
      "Requirement already satisfied: future in /home/keridan/venvs/rema-venv/lib/python3.6/site-packages (from pyglet<=1.3.2,>=1.2.0->gym->recogym) (0.18.2)\n",
      "Requirement already satisfied: h5py in /home/keridan/venvs/rema-venv/lib/python3.6/site-packages (from keras-applications>=1.0.8->tensorflow->recogym) (2.10.0)\n",
      "Requirement already satisfied: setuptools in /home/keridan/venvs/rema-venv/lib/python3.6/site-packages (from protobuf>=3.6.1->tensorflow->recogym) (42.0.2)\n",
      "Requirement already satisfied: requests<3,>=2.21.0 in /home/keridan/venvs/rema-venv/lib/python3.6/site-packages (from tensorboard<2.1.0,>=2.0.0->tensorflow->recogym) (2.22.0)\n",
      "Requirement already satisfied: google-auth<2,>=1.6.3 in /home/keridan/venvs/rema-venv/lib/python3.6/site-packages (from tensorboard<2.1.0,>=2.0.0->tensorflow->recogym) (1.8.2)\n",
      "Requirement already satisfied: werkzeug>=0.11.15 in /home/keridan/venvs/rema-venv/lib/python3.6/site-packages (from tensorboard<2.1.0,>=2.0.0->tensorflow->recogym) (0.16.0)\n",
      "Requirement already satisfied: markdown>=2.6.8 in /home/keridan/venvs/rema-venv/lib/python3.6/site-packages (from tensorboard<2.1.0,>=2.0.0->tensorflow->recogym) (3.1.1)\n",
      "Requirement already satisfied: google-auth-oauthlib<0.5,>=0.4.1 in /home/keridan/venvs/rema-venv/lib/python3.6/site-packages (from tensorboard<2.1.0,>=2.0.0->tensorflow->recogym) (0.4.1)\n",
      "Requirement already satisfied: jupyter-client in /home/keridan/venvs/rema-venv/lib/python3.6/site-packages (from jupyter-console->jupyter->recogym) (5.3.4)\n",
      "Requirement already satisfied: prompt-toolkit<2.1.0,>=2.0.0 in /home/keridan/venvs/rema-venv/lib/python3.6/site-packages (from jupyter-console->jupyter->recogym) (2.0.10)\n",
      "Requirement already satisfied: ipython in /home/keridan/venvs/rema-venv/lib/python3.6/site-packages (from jupyter-console->jupyter->recogym) (7.10.2)\n",
      "Requirement already satisfied: pygments in /home/keridan/venvs/rema-venv/lib/python3.6/site-packages (from jupyter-console->jupyter->recogym) (2.5.2)\n",
      "Requirement already satisfied: widgetsnbextension~=3.5.0 in /home/keridan/venvs/rema-venv/lib/python3.6/site-packages (from ipywidgets->jupyter->recogym) (3.5.1)\n",
      "Requirement already satisfied: traitlets>=4.3.1 in /home/keridan/venvs/rema-venv/lib/python3.6/site-packages (from ipywidgets->jupyter->recogym) (4.3.3)\n",
      "Requirement already satisfied: nbformat>=4.2.0 in /home/keridan/venvs/rema-venv/lib/python3.6/site-packages (from ipywidgets->jupyter->recogym) (4.4.0)\n",
      "Requirement already satisfied: jinja2>=2.4 in /home/keridan/venvs/rema-venv/lib/python3.6/site-packages (from nbconvert->jupyter->recogym) (2.10.3)\n",
      "Requirement already satisfied: pandocfilters>=1.4.1 in /home/keridan/venvs/rema-venv/lib/python3.6/site-packages (from nbconvert->jupyter->recogym) (1.4.2)\n",
      "Requirement already satisfied: entrypoints>=0.2.2 in /home/keridan/venvs/rema-venv/lib/python3.6/site-packages (from nbconvert->jupyter->recogym) (0.3)\n",
      "Requirement already satisfied: testpath in /home/keridan/venvs/rema-venv/lib/python3.6/site-packages (from nbconvert->jupyter->recogym) (0.4.4)\n",
      "Requirement already satisfied: mistune<2,>=0.8.1 in /home/keridan/venvs/rema-venv/lib/python3.6/site-packages (from nbconvert->jupyter->recogym) (0.8.4)\n",
      "Requirement already satisfied: defusedxml in /home/keridan/venvs/rema-venv/lib/python3.6/site-packages (from nbconvert->jupyter->recogym) (0.6.0)\n",
      "Requirement already satisfied: jupyter-core in /home/keridan/venvs/rema-venv/lib/python3.6/site-packages (from nbconvert->jupyter->recogym) (4.6.1)\n",
      "Requirement already satisfied: bleach in /home/keridan/venvs/rema-venv/lib/python3.6/site-packages (from nbconvert->jupyter->recogym) (3.1.0)\n",
      "Requirement already satisfied: pyzmq>=17 in /home/keridan/venvs/rema-venv/lib/python3.6/site-packages (from notebook->jupyter->recogym) (18.1.1)\n",
      "Requirement already satisfied: terminado>=0.8.1 in /home/keridan/venvs/rema-venv/lib/python3.6/site-packages (from notebook->jupyter->recogym) (0.8.3)\n",
      "Requirement already satisfied: ipython-genutils in /home/keridan/venvs/rema-venv/lib/python3.6/site-packages (from notebook->jupyter->recogym) (0.2.0)\n",
      "Requirement already satisfied: tornado>=5.0 in /home/keridan/venvs/rema-venv/lib/python3.6/site-packages (from notebook->jupyter->recogym) (6.0.3)\n",
      "Requirement already satisfied: prometheus-client in /home/keridan/venvs/rema-venv/lib/python3.6/site-packages (from notebook->jupyter->recogym) (0.7.1)\n",
      "Requirement already satisfied: Send2Trash in /home/keridan/venvs/rema-venv/lib/python3.6/site-packages (from notebook->jupyter->recogym) (1.5.0)\n",
      "Requirement already satisfied: chardet<3.1.0,>=3.0.2 in /home/keridan/venvs/rema-venv/lib/python3.6/site-packages (from requests<3,>=2.21.0->tensorboard<2.1.0,>=2.0.0->tensorflow->recogym) (3.0.4)\n",
      "Requirement already satisfied: idna<2.9,>=2.5 in /home/keridan/venvs/rema-venv/lib/python3.6/site-packages (from requests<3,>=2.21.0->tensorboard<2.1.0,>=2.0.0->tensorflow->recogym) (2.8)\n",
      "Requirement already satisfied: urllib3!=1.25.0,!=1.25.1,<1.26,>=1.21.1 in /home/keridan/venvs/rema-venv/lib/python3.6/site-packages (from requests<3,>=2.21.0->tensorboard<2.1.0,>=2.0.0->tensorflow->recogym) (1.25.7)\n",
      "Requirement already satisfied: certifi>=2017.4.17 in /home/keridan/venvs/rema-venv/lib/python3.6/site-packages (from requests<3,>=2.21.0->tensorboard<2.1.0,>=2.0.0->tensorflow->recogym) (2019.11.28)\n",
      "Requirement already satisfied: pyasn1-modules>=0.2.1 in /home/keridan/venvs/rema-venv/lib/python3.6/site-packages (from google-auth<2,>=1.6.3->tensorboard<2.1.0,>=2.0.0->tensorflow->recogym) (0.2.7)\n",
      "Requirement already satisfied: cachetools<3.2,>=2.0.0 in /home/keridan/venvs/rema-venv/lib/python3.6/site-packages (from google-auth<2,>=1.6.3->tensorboard<2.1.0,>=2.0.0->tensorflow->recogym) (3.1.1)\n",
      "Requirement already satisfied: rsa<4.1,>=3.1.4 in /home/keridan/venvs/rema-venv/lib/python3.6/site-packages (from google-auth<2,>=1.6.3->tensorboard<2.1.0,>=2.0.0->tensorflow->recogym) (4.0)\n",
      "Requirement already satisfied: requests-oauthlib>=0.7.0 in /home/keridan/venvs/rema-venv/lib/python3.6/site-packages (from google-auth-oauthlib<0.5,>=0.4.1->tensorboard<2.1.0,>=2.0.0->tensorflow->recogym) (1.3.0)\n",
      "Requirement already satisfied: wcwidth in /home/keridan/venvs/rema-venv/lib/python3.6/site-packages (from prompt-toolkit<2.1.0,>=2.0.0->jupyter-console->jupyter->recogym) (0.1.7)\n",
      "Requirement already satisfied: jedi>=0.10 in /home/keridan/venvs/rema-venv/lib/python3.6/site-packages (from ipython->jupyter-console->jupyter->recogym) (0.15.1)\n",
      "Requirement already satisfied: pickleshare in /home/keridan/venvs/rema-venv/lib/python3.6/site-packages (from ipython->jupyter-console->jupyter->recogym) (0.7.5)\n",
      "Requirement already satisfied: decorator in /home/keridan/venvs/rema-venv/lib/python3.6/site-packages (from ipython->jupyter-console->jupyter->recogym) (4.4.1)\n",
      "Requirement already satisfied: backcall in /home/keridan/venvs/rema-venv/lib/python3.6/site-packages (from ipython->jupyter-console->jupyter->recogym) (0.1.0)\n",
      "Requirement already satisfied: pexpect; sys_platform != \"win32\" in /home/keridan/venvs/rema-venv/lib/python3.6/site-packages (from ipython->jupyter-console->jupyter->recogym) (4.7.0)\n",
      "Requirement already satisfied: jsonschema!=2.5.0,>=2.4 in /home/keridan/venvs/rema-venv/lib/python3.6/site-packages (from nbformat>=4.2.0->ipywidgets->jupyter->recogym) (3.2.0)\n",
      "Requirement already satisfied: MarkupSafe>=0.23 in /home/keridan/venvs/rema-venv/lib/python3.6/site-packages (from jinja2>=2.4->nbconvert->jupyter->recogym) (1.1.1)\n",
      "Requirement already satisfied: webencodings in /home/keridan/venvs/rema-venv/lib/python3.6/site-packages (from bleach->nbconvert->jupyter->recogym) (0.5.1)\n",
      "Requirement already satisfied: ptyprocess; os_name != \"nt\" in /home/keridan/venvs/rema-venv/lib/python3.6/site-packages (from terminado>=0.8.1->notebook->jupyter->recogym) (0.6.0)\n",
      "Requirement already satisfied: pyasn1<0.5.0,>=0.4.6 in /home/keridan/venvs/rema-venv/lib/python3.6/site-packages (from pyasn1-modules>=0.2.1->google-auth<2,>=1.6.3->tensorboard<2.1.0,>=2.0.0->tensorflow->recogym) (0.4.8)\n",
      "Requirement already satisfied: oauthlib>=3.0.0 in /home/keridan/venvs/rema-venv/lib/python3.6/site-packages (from requests-oauthlib>=0.7.0->google-auth-oauthlib<0.5,>=0.4.1->tensorboard<2.1.0,>=2.0.0->tensorflow->recogym) (3.1.0)\n",
      "Requirement already satisfied: parso>=0.5.0 in /home/keridan/venvs/rema-venv/lib/python3.6/site-packages (from jedi>=0.10->ipython->jupyter-console->jupyter->recogym) (0.5.2)\n",
      "Requirement already satisfied: importlib-metadata; python_version < \"3.8\" in /home/keridan/venvs/rema-venv/lib/python3.6/site-packages (from jsonschema!=2.5.0,>=2.4->nbformat>=4.2.0->ipywidgets->jupyter->recogym) (1.3.0)\n",
      "Requirement already satisfied: attrs>=17.4.0 in /home/keridan/venvs/rema-venv/lib/python3.6/site-packages (from jsonschema!=2.5.0,>=2.4->nbformat>=4.2.0->ipywidgets->jupyter->recogym) (19.3.0)\n",
      "Requirement already satisfied: pyrsistent>=0.14.0 in /home/keridan/venvs/rema-venv/lib/python3.6/site-packages (from jsonschema!=2.5.0,>=2.4->nbformat>=4.2.0->ipywidgets->jupyter->recogym) (0.15.6)\n",
      "Requirement already satisfied: zipp>=0.5 in /home/keridan/venvs/rema-venv/lib/python3.6/site-packages (from importlib-metadata; python_version < \"3.8\"->jsonschema!=2.5.0,>=2.4->nbformat>=4.2.0->ipywidgets->jupyter->recogym) (0.6.0)\n",
      "Requirement already satisfied: more-itertools in /home/keridan/venvs/rema-venv/lib/python3.6/site-packages (from zipp>=0.5->importlib-metadata; python_version < \"3.8\"->jsonschema!=2.5.0,>=2.4->nbformat>=4.2.0->ipywidgets->jupyter->recogym) (8.0.2)\n"
     ]
    }
   ],
   "source": [
    "!pip install recogym"
   ]
  },
  {
   "cell_type": "markdown",
   "metadata": {
    "colab_type": "text",
    "id": "c0gTBl6Fjc61"
   },
   "source": [
    "## Offline"
   ]
  },
  {
   "cell_type": "code",
   "execution_count": 2,
   "metadata": {
    "colab": {
     "base_uri": "https://localhost:8080/",
     "height": 84
    },
    "colab_type": "code",
    "id": "ifsEEYAaiKRS",
    "outputId": "7ce63aa6-54b2-43f2-a884-d133aab3c6b3"
   },
   "outputs": [
    {
     "name": "stdout",
     "output_type": "stream",
     "text": [
      "Step: 0 - Action: None - Observation: [{'t': 0, 'u': 0, 'z': 'pageview', 'v': 0}] - Reward: None\n",
      "Step: 1 - Action: {'t': 1, 'u': 0, 'a': 3, 'ps': 0.1, 'ps-a': ()} - Observation: [] - Reward: 0\n",
      "Step: 2 - Action: {'t': 2, 'u': 0, 'a': 4, 'ps': 0.1, 'ps-a': ()} - Observation: [] - Reward: 0\n",
      "Step: 3 - Action: {'t': 3, 'u': 0, 'a': 5, 'ps': 0.1, 'ps-a': ()} - Observation: [] - Reward: 0\n"
     ]
    }
   ],
   "source": [
    "import gym, recogym\n",
    "\n",
    "# env_0_args is a dictionary of default parameters (i.e. number of products)\n",
    "from recogym import env_1_args, Configuration\n",
    "\n",
    "# You can overwrite environment arguments here:\n",
    "env_1_args['random_seed'] = 42\n",
    "\n",
    "# Initialize the gym for the first time by calling .make() and .init_gym()\n",
    "env = gym.make('reco-gym-v1')\n",
    "env.init_gym(env_1_args)\n",
    "\n",
    "# .reset() env before each episode (one episode per user).\n",
    "env.reset()\n",
    "done = False\n",
    "\n",
    "# Counting how many steps.\n",
    "i = 0\n",
    "\n",
    "observation, reward, done = None, 0, False\n",
    "while not done:\n",
    "    action, observation, reward, done, info = env.step_offline(observation, reward, done)\n",
    "    print(f\"Step: {i} - Action: {action} - Observation: {observation.sessions()} - Reward: {reward}\")\n",
    "    i += 1"
   ]
  },
  {
   "cell_type": "markdown",
   "metadata": {
    "colab_type": "text",
    "id": "Dcqm2s_VjWYG"
   },
   "source": [
    "## Online"
   ]
  },
  {
   "cell_type": "code",
   "execution_count": 3,
   "metadata": {
    "colab": {
     "base_uri": "https://localhost:8080/",
     "height": 138
    },
    "colab_type": "code",
    "id": "zgAlHMH0iO9x",
    "outputId": "50a69bab-bd89-4e31-ffed-a95335874598"
   },
   "outputs": [
    {
     "name": "stdout",
     "output_type": "stream",
     "text": [
      "Step: 0 - Action: None - Observation: [{'t': 0, 'u': 0, 'z': 'pageview', 'v': 1}] - Reward: None\n",
      "Step: 1 - Action: 1 - Observation: [] - Reward: 0\n",
      "Step: 2 - Action: 2 - Observation: [] - Reward: 0\n",
      "Step: 3 - Action: 3 - Observation: [] - Reward: 0\n",
      "Step: 4 - Action: 4 - Observation: [] - Reward: 0\n",
      "Step: 5 - Action: 5 - Observation: [{'t': 6, 'u': 0, 'z': 'pageview', 'v': 4}, {'t': 7, 'u': 0, 'z': 'pageview', 'v': 4}, {'t': 8, 'u': 0, 'z': 'pageview', 'v': 4}, {'t': 9, 'u': 0, 'z': 'pageview', 'v': 4}, {'t': 10, 'u': 0, 'z': 'pageview', 'v': 4}, {'t': 11, 'u': 0, 'z': 'pageview', 'v': 6}, {'t': 12, 'u': 0, 'z': 'pageview', 'v': 4}, {'t': 13, 'u': 0, 'z': 'pageview', 'v': 4}, {'t': 14, 'u': 0, 'z': 'pageview', 'v': 4}, {'t': 15, 'u': 0, 'z': 'pageview', 'v': 6}, {'t': 16, 'u': 0, 'z': 'pageview', 'v': 4}, {'t': 17, 'u': 0, 'z': 'pageview', 'v': 1}, {'t': 18, 'u': 0, 'z': 'pageview', 'v': 4}, {'t': 19, 'u': 0, 'z': 'pageview', 'v': 4}, {'t': 20, 'u': 0, 'z': 'pageview', 'v': 4}, {'t': 21, 'u': 0, 'z': 'pageview', 'v': 4}, {'t': 22, 'u': 0, 'z': 'pageview', 'v': 1}, {'t': 23, 'u': 0, 'z': 'pageview', 'v': 6}] - Reward: 0\n"
     ]
    }
   ],
   "source": [
    "# Create list of hard coded actions.\n",
    "actions = [None] + [1, 2, 3, 4, 5]\n",
    "\n",
    "# Reset env and set done to False.\n",
    "env.reset()\n",
    "done = False\n",
    "\n",
    "# Counting how many steps.\n",
    "i = 0\n",
    "\n",
    "while not done and i < len(actions):\n",
    "    action = actions[i]\n",
    "    observation, reward, done, info = env.step(action)\n",
    "    print(f\"Step: {i} - Action: {action} - Observation: {observation.sessions()} - Reward: {reward}\")\n",
    "    i += 1"
   ]
  },
  {
   "cell_type": "markdown",
   "metadata": {
    "colab_type": "text",
    "id": "N5lDxOaOjjNk"
   },
   "source": [
    "## Agents"
   ]
  },
  {
   "cell_type": "code",
   "execution_count": 4,
   "metadata": {
    "colab": {},
    "colab_type": "code",
    "id": "ceus-FBWjeO3"
   },
   "outputs": [],
   "source": [
    "import numpy as np\n",
    "from numpy.random import choice\n",
    "from recogym.agents import Agent"
   ]
  },
  {
   "cell_type": "code",
   "execution_count": 5,
   "metadata": {
    "colab": {},
    "colab_type": "code",
    "id": "neLlfbS1jow_"
   },
   "outputs": [],
   "source": [
    "class PopularityAgent(Agent):\n",
    "    def __init__(self, config):\n",
    "        # Set number of products as an attribute of the Agent.\n",
    "        super(PopularityAgent, self).__init__(config)\n",
    "\n",
    "        # Track number of times each item viewed in Organic session.\n",
    "        self.organic_views = np.zeros(self.config.num_products)\n",
    "\n",
    "    def train(self, observation, action, reward, done):\n",
    "        \"\"\"Train method learns from a tuple of data.\n",
    "            this method can be called for offline or online learning\"\"\"\n",
    "\n",
    "        # Adding organic session to organic view counts.\n",
    "        if observation:\n",
    "            for session in observation.sessions():\n",
    "                #print(session)\n",
    "                self.organic_views[session['v']] += 1\n",
    "\n",
    "    def act(self, observation, reward, done):\n",
    "        \"\"\"Act method returns an action based on current observation and past\n",
    "            history\"\"\"\n",
    "\n",
    "        # Choosing action randomly in proportion with number of views.\n",
    "        prob = self.organic_views / sum(self.organic_views)\n",
    "        action = choice(self.config.num_products, p = prob)\n",
    "\n",
    "        return {\n",
    "            **super().act(observation, reward, done),\n",
    "            **{\n",
    "                'a': action,\n",
    "                'ps': prob[action]\n",
    "            }\n",
    "        }\n",
    "\n",
    "    def __str__(self):\n",
    "        return \"Popularity Agent\"\n",
    "\n",
    "    def __repr__(self):\n",
    "        return str(self)"
   ]
  },
  {
   "cell_type": "code",
   "execution_count": 6,
   "metadata": {
    "colab": {},
    "colab_type": "code",
    "id": "s1a9fcT-j7jD"
   },
   "outputs": [],
   "source": [
    "from recogym import env_1_args\n",
    "\n",
    "from copy import deepcopy\n",
    "\n",
    "env_1_args['random_seed'] = 42\n",
    "env_1_args['num_products'] = 10\n",
    "\n",
    "env = gym.make('reco-gym-v1')\n",
    "env.init_gym(env_1_args)\n",
    "\n",
    "# Import the random agent.\n",
    "from recogym.agents import RandomAgent, random_args\n",
    "\n",
    "# Create the two agents.\n",
    "num_products = env_1_args['num_products']\n",
    "popularity_agent = PopularityAgent(Configuration(env_1_args))\n",
    "agent_rand = RandomAgent(Configuration({\n",
    "    **env_1_args,\n",
    "    **random_args,\n",
    "}))"
   ]
  },
  {
   "cell_type": "code",
   "execution_count": 7,
   "metadata": {
    "colab": {
     "base_uri": "https://localhost:8080/",
     "height": 118
    },
    "colab_type": "code",
    "id": "YV-CkhO4kCt0",
    "outputId": "a796ebf4-f66c-4237-b7c7-e5ff31e92ab3"
   },
   "outputs": [
    {
     "name": "stderr",
     "output_type": "stream",
     "text": [
      "Organic Users: 100%|██████████| 100/100 [00:00<00:00, 2289.29it/s]\n",
      "Users:   0%|          | 0/100 [00:00<?, ?it/s]"
     ]
    },
    {
     "name": "stdout",
     "output_type": "stream",
     "text": [
      "START: Agent Training #0\n",
      "START: Agent Training @ Epoch #0\n"
     ]
    },
    {
     "name": "stderr",
     "output_type": "stream",
     "text": [
      "Users: 100%|██████████| 100/100 [00:01<00:00, 58.08it/s]\n",
      "Organic Users: 0it [00:00, ?it/s]\n",
      "Users:   8%|▊         | 8/100 [00:00<00:01, 72.84it/s]"
     ]
    },
    {
     "name": "stdout",
     "output_type": "stream",
     "text": [
      "END: Agent Training @ Epoch #0 (1.76804518699646s)\n",
      "START: Agent Evaluating @ Epoch #0\n"
     ]
    },
    {
     "name": "stderr",
     "output_type": "stream",
     "text": [
      "Users: 100%|██████████| 100/100 [00:01<00:00, 50.44it/s]"
     ]
    },
    {
     "name": "stdout",
     "output_type": "stream",
     "text": [
      "END: Agent Evaluating @ Epoch #0 (2.003143548965454s)\n"
     ]
    },
    {
     "name": "stderr",
     "output_type": "stream",
     "text": [
      "\n"
     ]
    },
    {
     "data": {
      "text/plain": [
       "(0.013802502037802979, 0.011412602818724443, 0.01649998372466488)"
      ]
     },
     "execution_count": 7,
     "metadata": {},
     "output_type": "execute_result"
    }
   ],
   "source": [
    "    \n",
    "# Credible interval of the CTR median and 0.025 0.975 quantile.\n",
    "recogym.test_agent(deepcopy(env), deepcopy(popularity_agent), 100, 100)"
   ]
  },
  {
   "cell_type": "code",
   "execution_count": 8,
   "metadata": {
    "colab": {},
    "colab_type": "code",
    "id": "PmaazmEhrpol"
   },
   "outputs": [],
   "source": [
    "import pandas as pd\n",
    "from sklearn.metrics.pairwise import cosine_similarity\n",
    "\n",
    "class UserSimilarityAgent(Agent):\n",
    "    def __init__(self, config):\n",
    "        # Set number of products as an attribute of the Agent.\n",
    "        super(UserSimilarityAgent, self).__init__(config)\n",
    "\n",
    "        # Track number of times each item viewed in Organic session.\n",
    "        self.user_items = pd.DataFrame(columns=range(self.config.num_products))\n",
    "        \n",
    "        self.organic_views = np.zeros(self.config.num_products)\n",
    "\n",
    "\n",
    "    def train(self, observation, action, reward, done):\n",
    "\n",
    "        # Adding organic session to organic view counts.\n",
    "        if observation:\n",
    "            for session in observation.sessions():\n",
    "                self.organic_views[session['v']] += 1\n",
    "\n",
    "\n",
    "        if observation is not None and len(observation.sessions()) > 0:\n",
    "\n",
    "            user = observation.current_sessions[-1]['u']\n",
    "            if not user in self.user_items.index:\n",
    "                self.user_items.loc[user] = np.zeros((self.config.num_products))\n",
    "\n",
    "            for elt in observation.sessions():\n",
    "                item = elt['v']\n",
    "                self.user_items.loc[[user], [item]] += 1\n",
    "\n",
    "            \n",
    "\n",
    "    def act(self, observation, reward, done):\n",
    "        \"\"\"Act method returns an action based on current observation and past\n",
    "            history\"\"\"\n",
    "            \n",
    "        cos_similarity = cosine_similarity(self.user_items)\n",
    "\n",
    "        prob = self.organic_views / sum(self.organic_views)\n",
    "\n",
    "        if observation is not None and len(observation.current_sessions) > 0:\n",
    "            current_user = observation.current_sessions[-1]['u']\n",
    "            if not current_user in self.user_items.index:\n",
    "                action = choice(self.config.num_products, p = prob)\n",
    "            else:\n",
    "                np.fill_diagonal(cos_similarity, 0)\n",
    "                indexes = list(self.user_items.index)\n",
    "                \n",
    "                most_similar_user = np.argmax(cos_similarity[indexes.index(current_user), :])\n",
    "                most_similar_user_items = self.user_items.iloc[most_similar_user]\n",
    "                action = np.argmax(most_similar_user_items, axis=1)\n",
    "                print(action)\n",
    "        else:\n",
    "            action = choice(self.config.num_products, p = prob)\n",
    "\n",
    "        return {\n",
    "            **super().act(observation, reward, done),\n",
    "            **{\n",
    "                'a': action,\n",
    "                'ps': 1#prob[action]\n",
    "            }\n",
    "        }\n",
    "\n",
    "        def __str__(self):\n",
    "            return \"User Similarity Agent\"\n",
    "\n",
    "        def __repr(self):\n",
    "            return str(self)"
   ]
  },
  {
   "cell_type": "code",
   "execution_count": 9,
   "metadata": {
    "colab": {},
    "colab_type": "code",
    "id": "TgTxhOTUkJl8"
   },
   "outputs": [],
   "source": [
    "user_similarity_agent = UserSimilarityAgent(Configuration(env_1_args))"
   ]
  },
  {
   "cell_type": "code",
   "execution_count": 10,
   "metadata": {
    "colab": {
     "base_uri": "https://localhost:8080/",
     "height": 118
    },
    "colab_type": "code",
    "id": "CdV8SpdZxatw",
    "outputId": "98827ba9-538e-4630-8a2f-afc7d812eb69"
   },
   "outputs": [
    {
     "name": "stderr",
     "output_type": "stream",
     "text": [
      "Organic Users:   0%|          | 0/100 [00:00<?, ?it/s]"
     ]
    },
    {
     "name": "stdout",
     "output_type": "stream",
     "text": [
      "START: Agent Training #0\n",
      "START: Agent Training @ Epoch #0\n"
     ]
    },
    {
     "name": "stderr",
     "output_type": "stream",
     "text": [
      "Organic Users: 100%|██████████| 100/100 [00:01<00:00, 83.56it/s]\n",
      "Users: 100%|██████████| 10/10 [00:00<00:00, 20.71it/s]\n",
      "Organic Users: 0it [00:00, ?it/s]\n",
      "Users:   0%|          | 0/10 [00:00<?, ?it/s]/home/keridan/venvs/rema-venv/lib/python3.6/site-packages/numpy/core/fromnumeric.py:61: FutureWarning: \n",
      "The current behaviour of 'Series.argmax' is deprecated, use 'idxmax'\n",
      "instead.\n",
      "The behavior of 'argmax' will be corrected to return the positional\n",
      "maximum in the future. For now, use 'series.values.argmax' or\n",
      "'np.argmax(np.array(values))' to get the position of the maximum\n",
      "row.\n",
      "  return bound(*args, **kwds)\n",
      "/home/keridan/venvs/rema-venv/lib/python3.6/site-packages/numpy/core/fromnumeric.py:61: FutureWarning: \n",
      "The current behaviour of 'Series.argmax' is deprecated, use 'idxmax'\n",
      "instead.\n",
      "The behavior of 'argmax' will be corrected to return the positional\n",
      "maximum in the future. For now, use 'series.values.argmax' or\n",
      "'np.argmax(np.array(values))' to get the position of the maximum\n",
      "row.\n",
      "  return bound(*args, **kwds)\n",
      "/home/keridan/venvs/rema-venv/lib/python3.6/site-packages/numpy/core/fromnumeric.py:61: FutureWarning: \n",
      "The current behaviour of 'Series.argmax' is deprecated, use 'idxmax'\n",
      "instead.\n",
      "The behavior of 'argmax' will be corrected to return the positional\n",
      "maximum in the future. For now, use 'series.values.argmax' or\n",
      "'np.argmax(np.array(values))' to get the position of the maximum\n",
      "row.\n",
      "  return bound(*args, **kwds)\n",
      "/home/keridan/venvs/rema-venv/lib/python3.6/site-packages/numpy/core/fromnumeric.py:61: FutureWarning: \n",
      "The current behaviour of 'Series.argmax' is deprecated, use 'idxmax'\n",
      "instead.\n",
      "The behavior of 'argmax' will be corrected to return the positional\n",
      "maximum in the future. For now, use 'series.values.argmax' or\n",
      "'np.argmax(np.array(values))' to get the position of the maximum\n",
      "row.\n",
      "  return bound(*args, **kwds)\n",
      "/home/keridan/venvs/rema-venv/lib/python3.6/site-packages/numpy/core/fromnumeric.py:61: FutureWarning: \n",
      "The current behaviour of 'Series.argmax' is deprecated, use 'idxmax'\n",
      "instead.\n",
      "The behavior of 'argmax' will be corrected to return the positional\n",
      "maximum in the future. For now, use 'series.values.argmax' or\n",
      "'np.argmax(np.array(values))' to get the position of the maximum\n",
      "row.\n",
      "  return bound(*args, **kwds)\n",
      "/home/keridan/venvs/rema-venv/lib/python3.6/site-packages/numpy/core/fromnumeric.py:61: FutureWarning: \n",
      "The current behaviour of 'Series.argmax' is deprecated, use 'idxmax'\n",
      "instead.\n",
      "The behavior of 'argmax' will be corrected to return the positional\n",
      "maximum in the future. For now, use 'series.values.argmax' or\n",
      "'np.argmax(np.array(values))' to get the position of the maximum\n",
      "row.\n",
      "  return bound(*args, **kwds)\n",
      "/home/keridan/venvs/rema-venv/lib/python3.6/site-packages/numpy/core/fromnumeric.py:61: FutureWarning: \n",
      "The current behaviour of 'Series.argmax' is deprecated, use 'idxmax'\n",
      "instead.\n",
      "The behavior of 'argmax' will be corrected to return the positional\n",
      "maximum in the future. For now, use 'series.values.argmax' or\n",
      "'np.argmax(np.array(values))' to get the position of the maximum\n",
      "row.\n",
      "  return bound(*args, **kwds)\n",
      "/home/keridan/venvs/rema-venv/lib/python3.6/site-packages/numpy/core/fromnumeric.py:61: FutureWarning: \n",
      "The current behaviour of 'Series.argmax' is deprecated, use 'idxmax'\n",
      "instead.\n",
      "The behavior of 'argmax' will be corrected to return the positional\n",
      "maximum in the future. For now, use 'series.values.argmax' or\n",
      "'np.argmax(np.array(values))' to get the position of the maximum\n",
      "row.\n",
      "  return bound(*args, **kwds)\n",
      "/home/keridan/venvs/rema-venv/lib/python3.6/site-packages/numpy/core/fromnumeric.py:61: FutureWarning: \n",
      "The current behaviour of 'Series.argmax' is deprecated, use 'idxmax'\n",
      "instead.\n",
      "The behavior of 'argmax' will be corrected to return the positional\n",
      "maximum in the future. For now, use 'series.values.argmax' or\n",
      "'np.argmax(np.array(values))' to get the position of the maximum\n",
      "row.\n",
      "  return bound(*args, **kwds)\n",
      "/home/keridan/venvs/rema-venv/lib/python3.6/site-packages/numpy/core/fromnumeric.py:61: FutureWarning: \n",
      "The current behaviour of 'Series.argmax' is deprecated, use 'idxmax'\n",
      "instead.\n",
      "The behavior of 'argmax' will be corrected to return the positional\n",
      "maximum in the future. For now, use 'series.values.argmax' or\n",
      "'np.argmax(np.array(values))' to get the position of the maximum\n",
      "row.\n",
      "  return bound(*args, **kwds)\n",
      "/home/keridan/venvs/rema-venv/lib/python3.6/site-packages/numpy/core/fromnumeric.py:61: FutureWarning: \n",
      "The current behaviour of 'Series.argmax' is deprecated, use 'idxmax'\n",
      "instead.\n",
      "The behavior of 'argmax' will be corrected to return the positional\n",
      "maximum in the future. For now, use 'series.values.argmax' or\n",
      "'np.argmax(np.array(values))' to get the position of the maximum\n",
      "row.\n",
      "  return bound(*args, **kwds)\n",
      "/home/keridan/venvs/rema-venv/lib/python3.6/site-packages/numpy/core/fromnumeric.py:61: FutureWarning: \n",
      "The current behaviour of 'Series.argmax' is deprecated, use 'idxmax'\n",
      "instead.\n",
      "The behavior of 'argmax' will be corrected to return the positional\n",
      "maximum in the future. For now, use 'series.values.argmax' or\n",
      "'np.argmax(np.array(values))' to get the position of the maximum\n",
      "row.\n",
      "  return bound(*args, **kwds)\n",
      "/home/keridan/venvs/rema-venv/lib/python3.6/site-packages/numpy/core/fromnumeric.py:61: FutureWarning: \n",
      "The current behaviour of 'Series.argmax' is deprecated, use 'idxmax'\n",
      "instead.\n",
      "The behavior of 'argmax' will be corrected to return the positional\n",
      "maximum in the future. For now, use 'series.values.argmax' or\n",
      "'np.argmax(np.array(values))' to get the position of the maximum\n",
      "row.\n",
      "  return bound(*args, **kwds)\n",
      "/home/keridan/venvs/rema-venv/lib/python3.6/site-packages/numpy/core/fromnumeric.py:61: FutureWarning: \n",
      "The current behaviour of 'Series.argmax' is deprecated, use 'idxmax'\n",
      "instead.\n",
      "The behavior of 'argmax' will be corrected to return the positional\n",
      "maximum in the future. For now, use 'series.values.argmax' or\n",
      "'np.argmax(np.array(values))' to get the position of the maximum\n",
      "row.\n",
      "  return bound(*args, **kwds)\n",
      "/home/keridan/venvs/rema-venv/lib/python3.6/site-packages/numpy/core/fromnumeric.py:61: FutureWarning: \n",
      "The current behaviour of 'Series.argmax' is deprecated, use 'idxmax'\n",
      "instead.\n",
      "The behavior of 'argmax' will be corrected to return the positional\n",
      "maximum in the future. For now, use 'series.values.argmax' or\n",
      "'np.argmax(np.array(values))' to get the position of the maximum\n",
      "row.\n",
      "  return bound(*args, **kwds)\n",
      "/home/keridan/venvs/rema-venv/lib/python3.6/site-packages/numpy/core/fromnumeric.py:61: FutureWarning: \n",
      "The current behaviour of 'Series.argmax' is deprecated, use 'idxmax'\n",
      "instead.\n",
      "The behavior of 'argmax' will be corrected to return the positional\n",
      "maximum in the future. For now, use 'series.values.argmax' or\n",
      "'np.argmax(np.array(values))' to get the position of the maximum\n",
      "row.\n",
      "  return bound(*args, **kwds)\n",
      "/home/keridan/venvs/rema-venv/lib/python3.6/site-packages/numpy/core/fromnumeric.py:61: FutureWarning: \n",
      "The current behaviour of 'Series.argmax' is deprecated, use 'idxmax'\n",
      "instead.\n",
      "The behavior of 'argmax' will be corrected to return the positional\n",
      "maximum in the future. For now, use 'series.values.argmax' or\n",
      "'np.argmax(np.array(values))' to get the position of the maximum\n",
      "row.\n",
      "  return bound(*args, **kwds)\n",
      "Users:  40%|████      | 4/10 [00:00<00:00, 31.79it/s]/home/keridan/venvs/rema-venv/lib/python3.6/site-packages/numpy/core/fromnumeric.py:61: FutureWarning: \n",
      "The current behaviour of 'Series.argmax' is deprecated, use 'idxmax'\n",
      "instead.\n",
      "The behavior of 'argmax' will be corrected to return the positional\n",
      "maximum in the future. For now, use 'series.values.argmax' or\n",
      "'np.argmax(np.array(values))' to get the position of the maximum\n",
      "row.\n",
      "  return bound(*args, **kwds)\n",
      "/home/keridan/venvs/rema-venv/lib/python3.6/site-packages/numpy/core/fromnumeric.py:61: FutureWarning: \n",
      "The current behaviour of 'Series.argmax' is deprecated, use 'idxmax'\n",
      "instead.\n",
      "The behavior of 'argmax' will be corrected to return the positional\n",
      "maximum in the future. For now, use 'series.values.argmax' or\n",
      "'np.argmax(np.array(values))' to get the position of the maximum\n",
      "row.\n",
      "  return bound(*args, **kwds)\n",
      "/home/keridan/venvs/rema-venv/lib/python3.6/site-packages/numpy/core/fromnumeric.py:61: FutureWarning: \n",
      "The current behaviour of 'Series.argmax' is deprecated, use 'idxmax'\n",
      "instead.\n",
      "The behavior of 'argmax' will be corrected to return the positional\n",
      "maximum in the future. For now, use 'series.values.argmax' or\n",
      "'np.argmax(np.array(values))' to get the position of the maximum\n",
      "row.\n",
      "  return bound(*args, **kwds)\n",
      "/home/keridan/venvs/rema-venv/lib/python3.6/site-packages/numpy/core/fromnumeric.py:61: FutureWarning: \n",
      "The current behaviour of 'Series.argmax' is deprecated, use 'idxmax'\n",
      "instead.\n",
      "The behavior of 'argmax' will be corrected to return the positional\n",
      "maximum in the future. For now, use 'series.values.argmax' or\n",
      "'np.argmax(np.array(values))' to get the position of the maximum\n",
      "row.\n",
      "  return bound(*args, **kwds)\n",
      "/home/keridan/venvs/rema-venv/lib/python3.6/site-packages/numpy/core/fromnumeric.py:61: FutureWarning: \n",
      "The current behaviour of 'Series.argmax' is deprecated, use 'idxmax'\n",
      "instead.\n",
      "The behavior of 'argmax' will be corrected to return the positional\n",
      "maximum in the future. For now, use 'series.values.argmax' or\n",
      "'np.argmax(np.array(values))' to get the position of the maximum\n",
      "row.\n",
      "  return bound(*args, **kwds)\n",
      "/home/keridan/venvs/rema-venv/lib/python3.6/site-packages/numpy/core/fromnumeric.py:61: FutureWarning: \n",
      "The current behaviour of 'Series.argmax' is deprecated, use 'idxmax'\n",
      "instead.\n",
      "The behavior of 'argmax' will be corrected to return the positional\n",
      "maximum in the future. For now, use 'series.values.argmax' or\n",
      "'np.argmax(np.array(values))' to get the position of the maximum\n",
      "row.\n",
      "  return bound(*args, **kwds)\n",
      "/home/keridan/venvs/rema-venv/lib/python3.6/site-packages/numpy/core/fromnumeric.py:61: FutureWarning: \n",
      "The current behaviour of 'Series.argmax' is deprecated, use 'idxmax'\n",
      "instead.\n",
      "The behavior of 'argmax' will be corrected to return the positional\n",
      "maximum in the future. For now, use 'series.values.argmax' or\n",
      "'np.argmax(np.array(values))' to get the position of the maximum\n",
      "row.\n",
      "  return bound(*args, **kwds)\n",
      "/home/keridan/venvs/rema-venv/lib/python3.6/site-packages/numpy/core/fromnumeric.py:61: FutureWarning: \n",
      "The current behaviour of 'Series.argmax' is deprecated, use 'idxmax'\n",
      "instead.\n",
      "The behavior of 'argmax' will be corrected to return the positional\n",
      "maximum in the future. For now, use 'series.values.argmax' or\n",
      "'np.argmax(np.array(values))' to get the position of the maximum\n",
      "row.\n",
      "  return bound(*args, **kwds)\n",
      "/home/keridan/venvs/rema-venv/lib/python3.6/site-packages/numpy/core/fromnumeric.py:61: FutureWarning: \n",
      "The current behaviour of 'Series.argmax' is deprecated, use 'idxmax'\n",
      "instead.\n",
      "The behavior of 'argmax' will be corrected to return the positional\n",
      "maximum in the future. For now, use 'series.values.argmax' or\n",
      "'np.argmax(np.array(values))' to get the position of the maximum\n",
      "row.\n",
      "  return bound(*args, **kwds)\n",
      "/home/keridan/venvs/rema-venv/lib/python3.6/site-packages/numpy/core/fromnumeric.py:61: FutureWarning: \n",
      "The current behaviour of 'Series.argmax' is deprecated, use 'idxmax'\n",
      "instead.\n",
      "The behavior of 'argmax' will be corrected to return the positional\n",
      "maximum in the future. For now, use 'series.values.argmax' or\n",
      "'np.argmax(np.array(values))' to get the position of the maximum\n",
      "row.\n",
      "  return bound(*args, **kwds)\n",
      "/home/keridan/venvs/rema-venv/lib/python3.6/site-packages/numpy/core/fromnumeric.py:61: FutureWarning: \n",
      "The current behaviour of 'Series.argmax' is deprecated, use 'idxmax'\n",
      "instead.\n",
      "The behavior of 'argmax' will be corrected to return the positional\n",
      "maximum in the future. For now, use 'series.values.argmax' or\n",
      "'np.argmax(np.array(values))' to get the position of the maximum\n",
      "row.\n",
      "  return bound(*args, **kwds)\n"
     ]
    },
    {
     "name": "stdout",
     "output_type": "stream",
     "text": [
      "END: Agent Training @ Epoch #0 (1.6821050643920898s)\n",
      "START: Agent Evaluating @ Epoch #0\n",
      "0\n",
      "1\n",
      "1\n",
      "1\n",
      "9\n",
      "9\n",
      "9\n",
      "9\n",
      "9\n",
      "9\n",
      "9\n",
      "4\n",
      "4\n",
      "4\n",
      "4\n",
      "4\n",
      "4\n",
      "3\n",
      "3\n",
      "3\n",
      "9\n",
      "9\n",
      "9\n",
      "9\n",
      "9\n",
      "9\n",
      "9\n",
      "9\n"
     ]
    },
    {
     "name": "stderr",
     "output_type": "stream",
     "text": [
      "/home/keridan/venvs/rema-venv/lib/python3.6/site-packages/numpy/core/fromnumeric.py:61: FutureWarning: \n",
      "The current behaviour of 'Series.argmax' is deprecated, use 'idxmax'\n",
      "instead.\n",
      "The behavior of 'argmax' will be corrected to return the positional\n",
      "maximum in the future. For now, use 'series.values.argmax' or\n",
      "'np.argmax(np.array(values))' to get the position of the maximum\n",
      "row.\n",
      "  return bound(*args, **kwds)\n",
      "/home/keridan/venvs/rema-venv/lib/python3.6/site-packages/numpy/core/fromnumeric.py:61: FutureWarning: \n",
      "The current behaviour of 'Series.argmax' is deprecated, use 'idxmax'\n",
      "instead.\n",
      "The behavior of 'argmax' will be corrected to return the positional\n",
      "maximum in the future. For now, use 'series.values.argmax' or\n",
      "'np.argmax(np.array(values))' to get the position of the maximum\n",
      "row.\n",
      "  return bound(*args, **kwds)\n",
      "/home/keridan/venvs/rema-venv/lib/python3.6/site-packages/numpy/core/fromnumeric.py:61: FutureWarning: \n",
      "The current behaviour of 'Series.argmax' is deprecated, use 'idxmax'\n",
      "instead.\n",
      "The behavior of 'argmax' will be corrected to return the positional\n",
      "maximum in the future. For now, use 'series.values.argmax' or\n",
      "'np.argmax(np.array(values))' to get the position of the maximum\n",
      "row.\n",
      "  return bound(*args, **kwds)\n",
      "/home/keridan/venvs/rema-venv/lib/python3.6/site-packages/numpy/core/fromnumeric.py:61: FutureWarning: \n",
      "The current behaviour of 'Series.argmax' is deprecated, use 'idxmax'\n",
      "instead.\n",
      "The behavior of 'argmax' will be corrected to return the positional\n",
      "maximum in the future. For now, use 'series.values.argmax' or\n",
      "'np.argmax(np.array(values))' to get the position of the maximum\n",
      "row.\n",
      "  return bound(*args, **kwds)\n",
      "/home/keridan/venvs/rema-venv/lib/python3.6/site-packages/numpy/core/fromnumeric.py:61: FutureWarning: \n",
      "The current behaviour of 'Series.argmax' is deprecated, use 'idxmax'\n",
      "instead.\n",
      "The behavior of 'argmax' will be corrected to return the positional\n",
      "maximum in the future. For now, use 'series.values.argmax' or\n",
      "'np.argmax(np.array(values))' to get the position of the maximum\n",
      "row.\n",
      "  return bound(*args, **kwds)\n",
      "/home/keridan/venvs/rema-venv/lib/python3.6/site-packages/numpy/core/fromnumeric.py:61: FutureWarning: \n",
      "The current behaviour of 'Series.argmax' is deprecated, use 'idxmax'\n",
      "instead.\n",
      "The behavior of 'argmax' will be corrected to return the positional\n",
      "maximum in the future. For now, use 'series.values.argmax' or\n",
      "'np.argmax(np.array(values))' to get the position of the maximum\n",
      "row.\n",
      "  return bound(*args, **kwds)\n",
      "/home/keridan/venvs/rema-venv/lib/python3.6/site-packages/numpy/core/fromnumeric.py:61: FutureWarning: \n",
      "The current behaviour of 'Series.argmax' is deprecated, use 'idxmax'\n",
      "instead.\n",
      "The behavior of 'argmax' will be corrected to return the positional\n",
      "maximum in the future. For now, use 'series.values.argmax' or\n",
      "'np.argmax(np.array(values))' to get the position of the maximum\n",
      "row.\n",
      "  return bound(*args, **kwds)\n",
      "/home/keridan/venvs/rema-venv/lib/python3.6/site-packages/numpy/core/fromnumeric.py:61: FutureWarning: \n",
      "The current behaviour of 'Series.argmax' is deprecated, use 'idxmax'\n",
      "instead.\n",
      "The behavior of 'argmax' will be corrected to return the positional\n",
      "maximum in the future. For now, use 'series.values.argmax' or\n",
      "'np.argmax(np.array(values))' to get the position of the maximum\n",
      "row.\n",
      "  return bound(*args, **kwds)\n",
      "/home/keridan/venvs/rema-venv/lib/python3.6/site-packages/numpy/core/fromnumeric.py:61: FutureWarning: \n",
      "The current behaviour of 'Series.argmax' is deprecated, use 'idxmax'\n",
      "instead.\n",
      "The behavior of 'argmax' will be corrected to return the positional\n",
      "maximum in the future. For now, use 'series.values.argmax' or\n",
      "'np.argmax(np.array(values))' to get the position of the maximum\n",
      "row.\n",
      "  return bound(*args, **kwds)\n",
      "/home/keridan/venvs/rema-venv/lib/python3.6/site-packages/numpy/core/fromnumeric.py:61: FutureWarning: \n",
      "The current behaviour of 'Series.argmax' is deprecated, use 'idxmax'\n",
      "instead.\n",
      "The behavior of 'argmax' will be corrected to return the positional\n",
      "maximum in the future. For now, use 'series.values.argmax' or\n",
      "'np.argmax(np.array(values))' to get the position of the maximum\n",
      "row.\n",
      "  return bound(*args, **kwds)\n",
      "/home/keridan/venvs/rema-venv/lib/python3.6/site-packages/numpy/core/fromnumeric.py:61: FutureWarning: \n",
      "The current behaviour of 'Series.argmax' is deprecated, use 'idxmax'\n",
      "instead.\n",
      "The behavior of 'argmax' will be corrected to return the positional\n",
      "maximum in the future. For now, use 'series.values.argmax' or\n",
      "'np.argmax(np.array(values))' to get the position of the maximum\n",
      "row.\n",
      "  return bound(*args, **kwds)\n",
      "/home/keridan/venvs/rema-venv/lib/python3.6/site-packages/numpy/core/fromnumeric.py:61: FutureWarning: \n",
      "The current behaviour of 'Series.argmax' is deprecated, use 'idxmax'\n",
      "instead.\n",
      "The behavior of 'argmax' will be corrected to return the positional\n",
      "maximum in the future. For now, use 'series.values.argmax' or\n",
      "'np.argmax(np.array(values))' to get the position of the maximum\n",
      "row.\n",
      "  return bound(*args, **kwds)\n",
      "Users:  60%|██████    | 6/10 [00:00<00:00, 21.52it/s]/home/keridan/venvs/rema-venv/lib/python3.6/site-packages/numpy/core/fromnumeric.py:61: FutureWarning: \n",
      "The current behaviour of 'Series.argmax' is deprecated, use 'idxmax'\n",
      "instead.\n",
      "The behavior of 'argmax' will be corrected to return the positional\n",
      "maximum in the future. For now, use 'series.values.argmax' or\n",
      "'np.argmax(np.array(values))' to get the position of the maximum\n",
      "row.\n",
      "  return bound(*args, **kwds)\n",
      "/home/keridan/venvs/rema-venv/lib/python3.6/site-packages/numpy/core/fromnumeric.py:61: FutureWarning: \n",
      "The current behaviour of 'Series.argmax' is deprecated, use 'idxmax'\n",
      "instead.\n",
      "The behavior of 'argmax' will be corrected to return the positional\n",
      "maximum in the future. For now, use 'series.values.argmax' or\n",
      "'np.argmax(np.array(values))' to get the position of the maximum\n",
      "row.\n",
      "  return bound(*args, **kwds)\n",
      "/home/keridan/venvs/rema-venv/lib/python3.6/site-packages/numpy/core/fromnumeric.py:61: FutureWarning: \n",
      "The current behaviour of 'Series.argmax' is deprecated, use 'idxmax'\n",
      "instead.\n",
      "The behavior of 'argmax' will be corrected to return the positional\n",
      "maximum in the future. For now, use 'series.values.argmax' or\n",
      "'np.argmax(np.array(values))' to get the position of the maximum\n",
      "row.\n",
      "  return bound(*args, **kwds)\n",
      "/home/keridan/venvs/rema-venv/lib/python3.6/site-packages/numpy/core/fromnumeric.py:61: FutureWarning: \n",
      "The current behaviour of 'Series.argmax' is deprecated, use 'idxmax'\n",
      "instead.\n",
      "The behavior of 'argmax' will be corrected to return the positional\n",
      "maximum in the future. For now, use 'series.values.argmax' or\n",
      "'np.argmax(np.array(values))' to get the position of the maximum\n",
      "row.\n",
      "  return bound(*args, **kwds)\n",
      "/home/keridan/venvs/rema-venv/lib/python3.6/site-packages/numpy/core/fromnumeric.py:61: FutureWarning: \n",
      "The current behaviour of 'Series.argmax' is deprecated, use 'idxmax'\n",
      "instead.\n",
      "The behavior of 'argmax' will be corrected to return the positional\n",
      "maximum in the future. For now, use 'series.values.argmax' or\n",
      "'np.argmax(np.array(values))' to get the position of the maximum\n",
      "row.\n",
      "  return bound(*args, **kwds)\n",
      "/home/keridan/venvs/rema-venv/lib/python3.6/site-packages/numpy/core/fromnumeric.py:61: FutureWarning: \n",
      "The current behaviour of 'Series.argmax' is deprecated, use 'idxmax'\n",
      "instead.\n",
      "The behavior of 'argmax' will be corrected to return the positional\n",
      "maximum in the future. For now, use 'series.values.argmax' or\n",
      "'np.argmax(np.array(values))' to get the position of the maximum\n",
      "row.\n",
      "  return bound(*args, **kwds)\n",
      "/home/keridan/venvs/rema-venv/lib/python3.6/site-packages/numpy/core/fromnumeric.py:61: FutureWarning: \n",
      "The current behaviour of 'Series.argmax' is deprecated, use 'idxmax'\n",
      "instead.\n",
      "The behavior of 'argmax' will be corrected to return the positional\n",
      "maximum in the future. For now, use 'series.values.argmax' or\n",
      "'np.argmax(np.array(values))' to get the position of the maximum\n",
      "row.\n",
      "  return bound(*args, **kwds)\n",
      "/home/keridan/venvs/rema-venv/lib/python3.6/site-packages/numpy/core/fromnumeric.py:61: FutureWarning: \n",
      "The current behaviour of 'Series.argmax' is deprecated, use 'idxmax'\n",
      "instead.\n",
      "The behavior of 'argmax' will be corrected to return the positional\n",
      "maximum in the future. For now, use 'series.values.argmax' or\n",
      "'np.argmax(np.array(values))' to get the position of the maximum\n",
      "row.\n",
      "  return bound(*args, **kwds)\n",
      "/home/keridan/venvs/rema-venv/lib/python3.6/site-packages/numpy/core/fromnumeric.py:61: FutureWarning: \n",
      "The current behaviour of 'Series.argmax' is deprecated, use 'idxmax'\n",
      "instead.\n",
      "The behavior of 'argmax' will be corrected to return the positional\n",
      "maximum in the future. For now, use 'series.values.argmax' or\n",
      "'np.argmax(np.array(values))' to get the position of the maximum\n",
      "row.\n",
      "  return bound(*args, **kwds)\n",
      "/home/keridan/venvs/rema-venv/lib/python3.6/site-packages/numpy/core/fromnumeric.py:61: FutureWarning: \n",
      "The current behaviour of 'Series.argmax' is deprecated, use 'idxmax'\n",
      "instead.\n",
      "The behavior of 'argmax' will be corrected to return the positional\n",
      "maximum in the future. For now, use 'series.values.argmax' or\n",
      "'np.argmax(np.array(values))' to get the position of the maximum\n",
      "row.\n",
      "  return bound(*args, **kwds)\n",
      "/home/keridan/venvs/rema-venv/lib/python3.6/site-packages/numpy/core/fromnumeric.py:61: FutureWarning: \n",
      "The current behaviour of 'Series.argmax' is deprecated, use 'idxmax'\n",
      "instead.\n",
      "The behavior of 'argmax' will be corrected to return the positional\n",
      "maximum in the future. For now, use 'series.values.argmax' or\n",
      "'np.argmax(np.array(values))' to get the position of the maximum\n",
      "row.\n",
      "  return bound(*args, **kwds)\n",
      "/home/keridan/venvs/rema-venv/lib/python3.6/site-packages/numpy/core/fromnumeric.py:61: FutureWarning: \n",
      "The current behaviour of 'Series.argmax' is deprecated, use 'idxmax'\n",
      "instead.\n",
      "The behavior of 'argmax' will be corrected to return the positional\n",
      "maximum in the future. For now, use 'series.values.argmax' or\n",
      "'np.argmax(np.array(values))' to get the position of the maximum\n",
      "row.\n",
      "  return bound(*args, **kwds)\n",
      "/home/keridan/venvs/rema-venv/lib/python3.6/site-packages/numpy/core/fromnumeric.py:61: FutureWarning: \n",
      "The current behaviour of 'Series.argmax' is deprecated, use 'idxmax'\n",
      "instead.\n",
      "The behavior of 'argmax' will be corrected to return the positional\n",
      "maximum in the future. For now, use 'series.values.argmax' or\n",
      "'np.argmax(np.array(values))' to get the position of the maximum\n",
      "row.\n",
      "  return bound(*args, **kwds)\n",
      "Users: 100%|██████████| 10/10 [00:00<00:00, 28.00it/s]"
     ]
    },
    {
     "name": "stdout",
     "output_type": "stream",
     "text": [
      "9\n",
      "9\n",
      "9\n",
      "9\n",
      "9\n",
      "9\n",
      "9\n",
      "9\n",
      "9\n",
      "9\n",
      "9\n",
      "9\n",
      "4\n",
      "9\n",
      "1\n",
      "1\n",
      "1\n",
      "1\n",
      "1\n",
      "4\n",
      "4\n",
      "4\n",
      "4\n",
      "4\n",
      "4\n",
      "END: Agent Evaluating @ Epoch #0 (0.3655250072479248s)\n"
     ]
    },
    {
     "name": "stderr",
     "output_type": "stream",
     "text": [
      "\n"
     ]
    },
    {
     "data": {
      "text/plain": [
       "(0.010769031843008092, 0.004558382632979687, 0.02097758313786202)"
      ]
     },
     "execution_count": 10,
     "metadata": {},
     "output_type": "execute_result"
    }
   ],
   "source": [
    "recogym.test_agent(deepcopy(env), deepcopy(user_similarity_agent), 10, 10)"
   ]
  },
  {
   "cell_type": "code",
   "execution_count": 11,
   "metadata": {
    "colab": {},
    "colab_type": "code",
    "id": "zNS1n7B9nvws"
   },
   "outputs": [],
   "source": [
    "import pandas as pd\n",
    "from sklearn.cluster import KMeans\n",
    "\n",
    "class ClusteringAgent(Agent):\n",
    "    def __init__(self, config, nb_clusters):\n",
    "        # Set number of products as an attribute of the Agent.\n",
    "        super(ClusteringAgent, self).__init__(config)\n",
    "\n",
    "        # Track number of times each item viewed in Organic session.\n",
    "        self.user_items = pd.DataFrame(columns=range(self.config.num_products))\n",
    "        \n",
    "        self.organic_views = np.zeros(self.config.num_products)\n",
    "        self.nb_clusters = nb_clusters\n",
    "        self.kmeans = None\n",
    "        self.nb_sessions = 0    #count the sessions\n",
    "        self.training_rate = 10 #train each training_rate session to allow scaling\n",
    "\n",
    "    def train(self, observation, action, reward, done):\n",
    "\n",
    "        # Adding organic session to organic view counts.\n",
    "        if observation:\n",
    "            for session in observation.sessions():\n",
    "                self.organic_views[session['v']] += 1\n",
    "\n",
    "\n",
    "        if observation is not None and len(observation.sessions()) > 0:\n",
    "\n",
    "            user = observation.current_sessions[-1]['u']\n",
    "            if not user in self.user_items.index:\n",
    "                self.user_items.loc[user] = np.zeros((self.config.num_products))\n",
    "\n",
    "            for elt in observation.sessions():\n",
    "                item = elt['v']\n",
    "                self.user_items.loc[[user], [item]] += 1\n",
    "\n",
    "        if self.user_items.shape[0] > self.nb_clusters and self.nb_sessions % 10 == 0:#if enought data and not trained since a few sessions\n",
    "            self.kmeans = KMeans(n_clusters=self.nb_clusters, random_state=0).fit(self.user_items)\n",
    "\n",
    "        self.nb_sessions += 1\n",
    "\n",
    "    def act(self, observation, reward, done):\n",
    "        \"\"\"Act method returns an action based on current observation and past\n",
    "            history\"\"\"\n",
    "            \n",
    "        prob = self.organic_views / sum(self.organic_views)\n",
    "\n",
    "        if observation is not None and len(observation.current_sessions) > 0 and self.kmeans:\n",
    "            history = np.zeros((self.config.num_products))\n",
    "            for sess in observation.current_sessions:\n",
    "                history[sess['v']] += 1\n",
    "            \n",
    "            history = history.reshape((1, history.shape[0]))#reshape because single data prediction\n",
    "        \n",
    "            pred = self.kmeans.predict(history)\n",
    "            centroid = self.kmeans.cluster_centers_[pred]\n",
    "            action = np.argmax(centroid)\n",
    "\n",
    "        else:\n",
    "            action = choice(self.config.num_products, p = prob)\n",
    "\n",
    "        return {\n",
    "            **super().act(observation, reward, done),\n",
    "            **{\n",
    "                'a': action,\n",
    "                'ps': 1#prob[action]\n",
    "            }\n",
    "        }\n",
    "\n",
    "        def __str__(self):\n",
    "            return \"User Similarity Agent\"\n",
    "\n",
    "        def __repr(self):\n",
    "            return str(self)"
   ]
  },
  {
   "cell_type": "code",
   "execution_count": 12,
   "metadata": {
    "colab": {},
    "colab_type": "code",
    "id": "CvCHCFNcrzxO"
   },
   "outputs": [],
   "source": [
    "clustering_agent = ClusteringAgent(Configuration(env_1_args), nb_clusters=10)"
   ]
  },
  {
   "cell_type": "code",
   "execution_count": 13,
   "metadata": {
    "colab": {
     "base_uri": "https://localhost:8080/",
     "height": 118
    },
    "colab_type": "code",
    "id": "9hvfUHfisEgr",
    "outputId": "b5ed01ad-6cd5-42e8-a210-ff85380b9e5a"
   },
   "outputs": [
    {
     "name": "stderr",
     "output_type": "stream",
     "text": [
      "Organic Users:   0%|          | 0/100 [00:00<?, ?it/s]"
     ]
    },
    {
     "name": "stdout",
     "output_type": "stream",
     "text": [
      "START: Agent Training #0\n",
      "START: Agent Training @ Epoch #0\n"
     ]
    },
    {
     "name": "stderr",
     "output_type": "stream",
     "text": [
      "Organic Users: 100%|██████████| 100/100 [00:01<00:00, 64.74it/s]\n",
      "Users: 100%|██████████| 10/10 [00:02<00:00,  3.61it/s]\n",
      "Organic Users: 0it [00:00, ?it/s]\n",
      "Users: 100%|██████████| 10/10 [00:00<00:00, 58.54it/s]"
     ]
    },
    {
     "name": "stdout",
     "output_type": "stream",
     "text": [
      "END: Agent Training @ Epoch #0 (4.319154739379883s)\n",
      "START: Agent Evaluating @ Epoch #0\n",
      "END: Agent Evaluating @ Epoch #0 (0.17881321907043457s)\n"
     ]
    },
    {
     "name": "stderr",
     "output_type": "stream",
     "text": [
      "\n"
     ]
    },
    {
     "data": {
      "text/plain": [
       "(0.009009764104843622, 0.0035084439191863173, 0.018452446640405684)"
      ]
     },
     "execution_count": 13,
     "metadata": {},
     "output_type": "execute_result"
    }
   ],
   "source": [
    "recogym.test_agent(deepcopy(env), deepcopy(clustering_agent), 10, 10)"
   ]
  },
  {
   "cell_type": "code",
   "execution_count": 111,
   "metadata": {},
   "outputs": [],
   "source": [
    "import torch\n",
    "from torch.autograd import Variable\n",
    "import torch.nn as nn\n",
    "import torch.nn.functional as F\n",
    "import torch.optim as optim\n",
    "\n",
    "class FeedForward(torch.nn.Module):\n",
    "        def __init__(self, input_size, hidden_size, num_classes):\n",
    "            super(FeedForward, self).__init__()\n",
    "            self.input_size = input_size\n",
    "            self.hidden_size  = hidden_size\n",
    "            self.fc1 = torch.nn.Linear(self.input_size, self.hidden_size)\n",
    "            self.relu = torch.nn.ReLU()\n",
    "            self.fc2 = torch.nn.Linear(self.hidden_size, num_classes)\n",
    "            #self.softmax = torch.nn.Softmax()\n",
    "\n",
    "        def forward(self, x):\n",
    "            hidden = self.fc1(x)\n",
    "            relu = self.relu(hidden)\n",
    "            output = self.fc2(relu)\n",
    "            #output = self.softmax(output)\n",
    "            return output\n",
    "\n",
    "\n",
    "def get_model(max_length, hidden, num_classes):\n",
    "    net = FeedForward(max_length, hidden, num_classes)\n",
    "    return net\n",
    "\n",
    "def criterion(out, label):\n",
    "    return (label - out)**2\n",
    "\n",
    "def train_model(model, x_train, y_train, optimizer, criterion):\n",
    "    for epoch in range(100):\n",
    "        for idx, (x, y) in enumerate(zip(x_train, y_train)):\n",
    "            print(f\"ID({id}), X = {x}, y = {y}\")\n",
    "            x = Variable(torch.FloatTensor([x]), requires_grad=True)\n",
    "            y = Variable(torch.FloatTensor([y]), requires_grad=False)\n",
    "            optimizer.zero_grad()\n",
    "            y_pred = model(x)\n",
    "            loss = criterion(y_pred.squeeze(), y)\n",
    "            loss.backward()\n",
    "            optimizer.step()\n",
    "            if (i % 10 == 0):\n",
    "                print(\"Epoch {} - loss: {}\".format(epoch, loss.data[0]))"
   ]
  },
  {
   "cell_type": "code",
   "execution_count": 114,
   "metadata": {},
   "outputs": [],
   "source": [
    "import torch\n",
    "import tensorflow.keras\n",
    "\n",
    "class MLPAgent(Agent):\n",
    "    def __init__(self, config, max_length, epochs=100):\n",
    "        # Set number of products as an attribute of the Agent.\n",
    "        super(MLPAgent, self).__init__(config)\n",
    "\n",
    "        # Track number of times each item viewed in Organic session.\n",
    "        self.user_items = pd.DataFrame(columns=range(self.config.num_products))\n",
    "        \n",
    "        self.organic_views = np.zeros(self.config.num_products)\n",
    "        self.nb_sessions = 0    #count the sessions\n",
    "        self.training_rate = 10 #train each training_rate session to allow scaling\n",
    "        self.max_length = max_length\n",
    "        self.epochs = epochs\n",
    "        self.model = get_model(self.max_length, 256, self.config.num_products)\n",
    "        self.trained = False\n",
    "        self.sequences = []\n",
    "        self.labels = []\n",
    "\n",
    "    def train(self, observation, action, reward, done):\n",
    "        # Adding organic session to organic view counts.\n",
    "        if observation:\n",
    "            for session in observation.sessions():\n",
    "                self.organic_views[session['v']] += 1\n",
    "\n",
    "\n",
    "        if observation is not None and len(observation.sessions()) > 0:\n",
    "            user = observation.current_sessions[-1]['u']\n",
    "            if not user in self.user_items.index:\n",
    "                self.user_items.loc[user] = np.zeros((self.config.num_products))\n",
    "            seq = np.zeros(self.max_length)\n",
    "            idx = 0\n",
    "            sessions = observation.sessions()\n",
    "            #print(sessions)\n",
    "            for elt in sessions[-(self.max_length + 1):-1]:  \n",
    "                item = elt['v'] # Because we need 0 as a padding value\n",
    "                seq[idx] = item + 1\n",
    "                idx += 1 # We want to update the position, but we want to keep last\n",
    "                self.user_items.loc[[user], [item]] += 1\n",
    "            idx = min(self.max_length - 1, idx)\n",
    "            label = sessions[-1][\"v\"]\n",
    "            #print(seq, \"=\", label)\n",
    "\n",
    "            seq[idx] = 0 # set to mask to remove last\n",
    "            self.sequences.append(seq)\n",
    "            self.labels.append(label)\n",
    "\n",
    "        self.nb_sessions += 1\n",
    "\n",
    "    def act(self, observation, reward, done):\n",
    "        \"\"\"Act method returns an action based on current observation and past\n",
    "            history\"\"\"\n",
    "        if not self.trained:\n",
    "            x_train = torch.FloatTensor(self.sequences)\n",
    "            #print(x_train.size())\n",
    "            y_train = torch.LongTensor(self.labels)\n",
    "            criterion = torch.nn.CrossEntropyLoss()\n",
    "            optimizer = torch.optim.Adam(self.model.parameters(), lr = 0.01)   \n",
    "            self.model.train()\n",
    "            for epoch in range(self.epochs):\n",
    "                optimizer.zero_grad()    # Forward pass\n",
    "                y_pred = self.model(x_train)    # Compute Loss\n",
    "                loss = criterion(y_pred.squeeze(), y_train)\n",
    "                #print('Epoch {}: train loss: {}'.format(epoch, loss.item()))    # Backward pass\n",
    "                loss.backward()\n",
    "                optimizer.step()\n",
    "            self.model.eval()\n",
    "            self.trained = True\n",
    "            \n",
    "            \n",
    "        prob = self.organic_views / sum(self.organic_views)\n",
    "\n",
    "        if observation is not None and len(observation.current_sessions) > 0:# and self.kmeans:\n",
    "            history = np.zeros((self.max_length))\n",
    "            #history = []\n",
    "            sessions = observation.sessions()\n",
    "            for idx, elt in enumerate(sessions[-(self.max_length):]):  \n",
    "                item = elt['v'] # Because we need 0 as a padding value\n",
    "                history[idx] = item + 1\n",
    "            action = self.model(torch.tensor(history,  dtype=torch.float32, requires_grad=False))\n",
    "            \n",
    "            #history = history.reshape((1, history.shape[0]))#reshape because single data prediction\n",
    "        \n",
    "            #pred = self.kmeans.predict(history)\n",
    "            #centroid = self.kmeans.cluster_centers_[pred]\n",
    "            action = np.argmax(action.detach().numpy())\n",
    "\n",
    "        else:\n",
    "            action = choice(self.config.num_products, p = prob)\n",
    "\n",
    "        return {\n",
    "            **super().act(observation, reward, done),\n",
    "            **{\n",
    "                'a': action,\n",
    "                'ps': 1#prob[action]\n",
    "            }\n",
    "        }\n",
    "\n",
    "        def __str__(self):\n",
    "            return \"User Similarity Agent\"\n",
    "\n",
    "        def __repr(self):\n",
    "            return str(self)"
   ]
  },
  {
   "cell_type": "code",
   "execution_count": 115,
   "metadata": {},
   "outputs": [],
   "source": [
    "rnn_agent = MLPAgent(Configuration(env_1_args), max_length=10, epochs=100)"
   ]
  },
  {
   "cell_type": "code",
   "execution_count": 116,
   "metadata": {},
   "outputs": [
    {
     "name": "stderr",
     "output_type": "stream",
     "text": [
      "Organic Users:   9%|▉         | 9/100 [00:00<00:01, 82.14it/s]"
     ]
    },
    {
     "name": "stdout",
     "output_type": "stream",
     "text": [
      "START: Agent Training #0\n",
      "START: Agent Training @ Epoch #0\n"
     ]
    },
    {
     "name": "stderr",
     "output_type": "stream",
     "text": [
      "Organic Users: 100%|██████████| 100/100 [00:00<00:00, 127.28it/s]\n",
      "Users: 100%|██████████| 10/10 [00:00<00:00, 30.13it/s]\n",
      "Organic Users: 0it [00:00, ?it/s]\n",
      "Users:  30%|███       | 3/10 [00:00<00:00, 28.45it/s]"
     ]
    },
    {
     "name": "stdout",
     "output_type": "stream",
     "text": [
      "END: Agent Training @ Epoch #0 (1.1242835521697998s)\n",
      "START: Agent Evaluating @ Epoch #0\n"
     ]
    },
    {
     "name": "stderr",
     "output_type": "stream",
     "text": [
      "Users: 100%|██████████| 10/10 [00:00<00:00, 47.16it/s]"
     ]
    },
    {
     "name": "stdout",
     "output_type": "stream",
     "text": [
      "END: Agent Evaluating @ Epoch #0 (0.22292566299438477s)\n"
     ]
    },
    {
     "name": "stderr",
     "output_type": "stream",
     "text": [
      "\n"
     ]
    },
    {
     "data": {
      "text/plain": [
       "(0.007215591865689798, 0.0025138757590767572, 0.01575313602523143)"
      ]
     },
     "execution_count": 116,
     "metadata": {},
     "output_type": "execute_result"
    }
   ],
   "source": [
    "recogym.test_agent(deepcopy(env), deepcopy(rnn_agent), 10, 10)"
   ]
  },
  {
   "cell_type": "markdown",
   "metadata": {
    "colab_type": "text",
    "id": "IKMKYpHxnqDq"
   },
   "source": [
    "## Benchmark for our agents"
   ]
  },
  {
   "cell_type": "code",
   "execution_count": null,
   "metadata": {
    "colab": {},
    "colab_type": "code",
    "id": "DqDxOu0Cxn1k"
   },
   "outputs": [],
   "source": [
    "import matplotlib.pyplot as plt\n",
    "\n",
    "#simple class that run nb_simulations with a given number of users and plot the resulting curves\n",
    "#just to see which agent is better on the long run\n",
    "\n",
    "class Benchmark:\n",
    "    def __init__(self, agents):\n",
    "        self.agents = agents\n",
    "        self.agents_simu_res = {}\n",
    "        self.agents_scale_res = {}\n",
    "        self.scales = None\n",
    "\n",
    "    def simulate(self, nb_simulations=10, num_offline_users=1000, num_online_users=1000):\n",
    "        self.nb_simulations = nb_simulations\n",
    "\n",
    "        for ag in self.agents:\n",
    "            results = []\n",
    "            for i in range(self.nb_simulations):\n",
    "                \n",
    "                quantiles = recogym.test_agent(deepcopy(env), deepcopy(user_similarity_agent), num_online_users, num_offline_users)\n",
    "                results.append(quantiles)\n",
    "\n",
    "            self.agents_simu_res[str(ag)] = results\n",
    "\n",
    "    def plot_simu_medians(self, quantile=2):#plot median by default\n",
    "        if len(self.agents_simu_res) == 0:\n",
    "            print(\"you need to simulate first\")\n",
    "            return\n",
    "\n",
    "        for k, v in self.agents_simu_res.items():\n",
    "            medians = []\n",
    "\n",
    "            for med in v:\n",
    "                medians.append(med[quantile-1])\n",
    "        \n",
    "            plt.plot(range(1, self.nb_simulations+1), medians, label=k)\n",
    "\n",
    "    def check_scale(self, scales, num_offline_users=1000, num_online_users=1000):\n",
    "        self.scales = scales\n",
    "        for ag in self.agents:\n",
    "            results = []\n",
    "            for nb_users in scales:\n",
    "                quantiles = recogym.test_agent(deepcopy(env), deepcopy(user_similarity_agent), num_online_users, num_offline_users)\n",
    "                results.append(quantiles)\n",
    "            self.agents_scale_res[str(ag)] = results\n",
    "\n",
    "    def plot_scale_res(self, quantile=2):#plot median by default\n",
    "        if len(self.agents_scale_res) == 0:\n",
    "            print(\"you need to check scale first\")\n",
    "            return\n",
    "        \n",
    "        for k, v in self.agents_scale_res.items():\n",
    "            medians = []\n",
    "\n",
    "            for med in v:\n",
    "                medians.append(med[quantile-1])\n",
    "        \n",
    "            plt.plot(self.scales, medians, label=k)"
   ]
  },
  {
   "cell_type": "code",
   "execution_count": null,
   "metadata": {
    "colab": {},
    "colab_type": "code",
    "id": "NibxRDkNjJbu"
   },
   "outputs": [],
   "source": [
    "bench = Benchmark([popularity_agent, user_similarity_agent, clustering_agent])"
   ]
  },
  {
   "cell_type": "code",
   "execution_count": null,
   "metadata": {
    "colab": {},
    "colab_type": "code",
    "id": "brXub7J5xoBd"
   },
   "outputs": [],
   "source": [
    "%%capture\n",
    "bench.simulate(nb_simulations=15, num_offline_users=100, num_online_users=100)"
   ]
  },
  {
   "cell_type": "code",
   "execution_count": null,
   "metadata": {
    "colab": {
     "base_uri": "https://localhost:8080/",
     "height": 265
    },
    "colab_type": "code",
    "id": "G61lA_LZjU7Z",
    "outputId": "9b42e865-d1ec-4d0e-c15b-0d314e4a380d"
   },
   "outputs": [],
   "source": [
    "bench.plot_simu_medians()"
   ]
  },
  {
   "cell_type": "code",
   "execution_count": null,
   "metadata": {
    "colab": {},
    "colab_type": "code",
    "id": "ynGyJ2DFlNFH"
   },
   "outputs": [],
   "source": [
    "%%capture\n",
    "bench.check_scale([10, 20, 50, 100, 500, 1000], num_offline_users=100, num_online_users=100)"
   ]
  },
  {
   "cell_type": "code",
   "execution_count": null,
   "metadata": {
    "colab": {
     "base_uri": "https://localhost:8080/",
     "height": 265
    },
    "colab_type": "code",
    "id": "ZrB5666Cxhwm",
    "outputId": "c47322ec-97e2-47a0-d538-a4495337d864"
   },
   "outputs": [],
   "source": [
    "bench.plot_scale_res()"
   ]
  },
  {
   "cell_type": "code",
   "execution_count": null,
   "metadata": {},
   "outputs": [],
   "source": []
  }
 ],
 "metadata": {
  "colab": {
   "collapsed_sections": [],
   "name": "AgentRecogym.ipynb",
   "provenance": []
  },
  "kernelspec": {
   "display_name": "Python 3",
   "language": "python",
   "name": "python3"
  },
  "language_info": {
   "codemirror_mode": {
    "name": "ipython",
    "version": 3
   },
   "file_extension": ".py",
   "mimetype": "text/x-python",
   "name": "python",
   "nbconvert_exporter": "python",
   "pygments_lexer": "ipython3",
   "version": "3.6.9"
  }
 },
 "nbformat": 4,
 "nbformat_minor": 4
}
