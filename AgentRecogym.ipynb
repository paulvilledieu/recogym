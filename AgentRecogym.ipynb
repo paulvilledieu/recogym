{
  "nbformat": 4,
  "nbformat_minor": 0,
  "metadata": {
    "colab": {
      "name": "AgentRecogym.ipynb",
      "provenance": [],
      "collapsed_sections": []
    },
    "kernelspec": {
      "name": "python3",
      "display_name": "Python 3"
    }
  },
  "cells": [
    {
      "cell_type": "code",
      "metadata": {
        "id": "0p4SVzvMi5yn",
        "colab_type": "code",
        "outputId": "c9566966-5f7a-4a24-cf92-874b88752041",
        "colab": {
          "base_uri": "https://localhost:8080/",
          "height": 1000
        }
      },
      "source": [
        "!pip install recogym"
      ],
      "execution_count": 1,
      "outputs": [
        {
          "output_type": "stream",
          "text": [
            "Requirement already satisfied: recogym in /usr/local/lib/python3.6/dist-packages (0.1.2.3)\n",
            "Requirement already satisfied: intel-scikit-learn in /usr/local/lib/python3.6/dist-packages (from recogym) (0.19.2)\n",
            "Requirement already satisfied: gym in /usr/local/lib/python3.6/dist-packages (from recogym) (0.15.4)\n",
            "Requirement already satisfied: pandas in /usr/local/lib/python3.6/dist-packages (from recogym) (0.25.3)\n",
            "Requirement already satisfied: matplotlib in /usr/local/lib/python3.6/dist-packages (from recogym) (3.1.1)\n",
            "Requirement already satisfied: intel-scipy in /usr/local/lib/python3.6/dist-packages (from recogym) (1.1.0)\n",
            "Requirement already satisfied: datetime in /usr/local/lib/python3.6/dist-packages (from recogym) (4.3)\n",
            "Requirement already satisfied: numba in /usr/local/lib/python3.6/dist-packages (from recogym) (0.40.1)\n",
            "Requirement already satisfied: intel-numpy in /usr/local/lib/python3.6/dist-packages (from recogym) (1.15.1)\n",
            "Requirement already satisfied: torch in /usr/local/lib/python3.6/dist-packages (from recogym) (1.3.1)\n",
            "Requirement already satisfied: tqdm in /usr/local/lib/python3.6/dist-packages (from recogym) (4.28.1)\n",
            "Requirement already satisfied: absl-py in /usr/local/lib/python3.6/dist-packages (from recogym) (0.8.1)\n",
            "Requirement already satisfied: simplegeneric in /usr/local/lib/python3.6/dist-packages (from recogym) (0.8.1)\n",
            "Requirement already satisfied: jupyter in /usr/local/lib/python3.6/dist-packages (from recogym) (1.0.0)\n",
            "Requirement already satisfied: pydaal in /usr/local/lib/python3.6/dist-packages (from intel-scikit-learn->recogym) (2019.0.0.20180713)\n",
            "Requirement already satisfied: scipy in /usr/local/lib/python3.6/dist-packages (from gym->recogym) (1.3.2)\n",
            "Requirement already satisfied: cloudpickle~=1.2.0 in /usr/local/lib/python3.6/dist-packages (from gym->recogym) (1.2.2)\n",
            "Requirement already satisfied: pyglet<=1.3.2,>=1.2.0 in /usr/local/lib/python3.6/dist-packages (from gym->recogym) (1.3.2)\n",
            "Requirement already satisfied: six in /usr/local/lib/python3.6/dist-packages (from gym->recogym) (1.12.0)\n",
            "Requirement already satisfied: numpy>=1.10.4 in /usr/local/lib/python3.6/dist-packages (from gym->recogym) (1.17.4)\n",
            "Requirement already satisfied: opencv-python in /usr/local/lib/python3.6/dist-packages (from gym->recogym) (3.4.7.28)\n",
            "Requirement already satisfied: python-dateutil>=2.6.1 in /usr/local/lib/python3.6/dist-packages (from pandas->recogym) (2.6.1)\n",
            "Requirement already satisfied: pytz>=2017.2 in /usr/local/lib/python3.6/dist-packages (from pandas->recogym) (2018.9)\n",
            "Requirement already satisfied: pyparsing!=2.0.4,!=2.1.2,!=2.1.6,>=2.0.1 in /usr/local/lib/python3.6/dist-packages (from matplotlib->recogym) (2.4.5)\n",
            "Requirement already satisfied: cycler>=0.10 in /usr/local/lib/python3.6/dist-packages (from matplotlib->recogym) (0.10.0)\n",
            "Requirement already satisfied: kiwisolver>=1.0.1 in /usr/local/lib/python3.6/dist-packages (from matplotlib->recogym) (1.1.0)\n",
            "Requirement already satisfied: zope.interface in /usr/local/lib/python3.6/dist-packages (from datetime->recogym) (4.7.1)\n",
            "Requirement already satisfied: llvmlite>=0.25.0dev0 in /usr/local/lib/python3.6/dist-packages (from numba->recogym) (0.30.0)\n",
            "Requirement already satisfied: mkl in /usr/local/lib/python3.6/dist-packages (from intel-numpy->recogym) (2019.0)\n",
            "Requirement already satisfied: mkl-random in /usr/local/lib/python3.6/dist-packages (from intel-numpy->recogym) (1.0.1.1)\n",
            "Requirement already satisfied: icc-rt in /usr/local/lib/python3.6/dist-packages (from intel-numpy->recogym) (2020.0.133)\n",
            "Requirement already satisfied: mkl-fft in /usr/local/lib/python3.6/dist-packages (from intel-numpy->recogym) (1.0.6)\n",
            "Requirement already satisfied: tbb4py in /usr/local/lib/python3.6/dist-packages (from intel-numpy->recogym) (2019.0)\n",
            "Requirement already satisfied: ipykernel in /usr/local/lib/python3.6/dist-packages (from jupyter->recogym) (4.6.1)\n",
            "Requirement already satisfied: qtconsole in /usr/local/lib/python3.6/dist-packages (from jupyter->recogym) (4.6.0)\n",
            "Requirement already satisfied: notebook in /usr/local/lib/python3.6/dist-packages (from jupyter->recogym) (5.2.2)\n",
            "Requirement already satisfied: ipywidgets in /usr/local/lib/python3.6/dist-packages (from jupyter->recogym) (7.5.1)\n",
            "Requirement already satisfied: nbconvert in /usr/local/lib/python3.6/dist-packages (from jupyter->recogym) (5.6.1)\n",
            "Requirement already satisfied: jupyter-console in /usr/local/lib/python3.6/dist-packages (from jupyter->recogym) (5.2.0)\n",
            "Requirement already satisfied: daal==2019.* in /usr/local/lib/python3.6/dist-packages (from pydaal->intel-scikit-learn->recogym) (2019.0)\n",
            "Requirement already satisfied: future in /usr/local/lib/python3.6/dist-packages (from pyglet<=1.3.2,>=1.2.0->gym->recogym) (0.16.0)\n",
            "Requirement already satisfied: setuptools in /usr/local/lib/python3.6/dist-packages (from kiwisolver>=1.0.1->matplotlib->recogym) (41.6.0)\n",
            "Requirement already satisfied: intel-openmp in /usr/local/lib/python3.6/dist-packages (from mkl->intel-numpy->recogym) (2020.0.133)\n",
            "Requirement already satisfied: tbb==2019.* in /usr/local/lib/python3.6/dist-packages (from tbb4py->intel-numpy->recogym) (2019.0)\n",
            "Requirement already satisfied: ipython>=4.0.0 in /usr/local/lib/python3.6/dist-packages (from ipykernel->jupyter->recogym) (5.5.0)\n",
            "Requirement already satisfied: tornado>=4.0 in /usr/local/lib/python3.6/dist-packages (from ipykernel->jupyter->recogym) (4.5.3)\n",
            "Requirement already satisfied: traitlets>=4.1.0 in /usr/local/lib/python3.6/dist-packages (from ipykernel->jupyter->recogym) (4.3.3)\n",
            "Requirement already satisfied: jupyter-client in /usr/local/lib/python3.6/dist-packages (from ipykernel->jupyter->recogym) (5.3.4)\n",
            "Requirement already satisfied: ipython-genutils in /usr/local/lib/python3.6/dist-packages (from qtconsole->jupyter->recogym) (0.2.0)\n",
            "Requirement already satisfied: jupyter-core in /usr/local/lib/python3.6/dist-packages (from qtconsole->jupyter->recogym) (4.6.1)\n",
            "Requirement already satisfied: pygments in /usr/local/lib/python3.6/dist-packages (from qtconsole->jupyter->recogym) (2.1.3)\n",
            "Requirement already satisfied: nbformat in /usr/local/lib/python3.6/dist-packages (from notebook->jupyter->recogym) (4.4.0)\n",
            "Requirement already satisfied: jinja2 in /usr/local/lib/python3.6/dist-packages (from notebook->jupyter->recogym) (2.10.3)\n",
            "Requirement already satisfied: terminado>=0.3.3; sys_platform != \"win32\" in /usr/local/lib/python3.6/dist-packages (from notebook->jupyter->recogym) (0.8.3)\n",
            "Requirement already satisfied: widgetsnbextension~=3.5.0 in /usr/local/lib/python3.6/dist-packages (from ipywidgets->jupyter->recogym) (3.5.1)\n",
            "Requirement already satisfied: testpath in /usr/local/lib/python3.6/dist-packages (from nbconvert->jupyter->recogym) (0.4.4)\n",
            "Requirement already satisfied: pandocfilters>=1.4.1 in /usr/local/lib/python3.6/dist-packages (from nbconvert->jupyter->recogym) (1.4.2)\n",
            "Requirement already satisfied: mistune<2,>=0.8.1 in /usr/local/lib/python3.6/dist-packages (from nbconvert->jupyter->recogym) (0.8.4)\n",
            "Requirement already satisfied: entrypoints>=0.2.2 in /usr/local/lib/python3.6/dist-packages (from nbconvert->jupyter->recogym) (0.3)\n",
            "Requirement already satisfied: defusedxml in /usr/local/lib/python3.6/dist-packages (from nbconvert->jupyter->recogym) (0.6.0)\n",
            "Requirement already satisfied: bleach in /usr/local/lib/python3.6/dist-packages (from nbconvert->jupyter->recogym) (3.1.0)\n",
            "Requirement already satisfied: prompt-toolkit<2.0.0,>=1.0.0 in /usr/local/lib/python3.6/dist-packages (from jupyter-console->jupyter->recogym) (1.0.18)\n",
            "Requirement already satisfied: decorator in /usr/local/lib/python3.6/dist-packages (from ipython>=4.0.0->ipykernel->jupyter->recogym) (4.4.1)\n",
            "Requirement already satisfied: pickleshare in /usr/local/lib/python3.6/dist-packages (from ipython>=4.0.0->ipykernel->jupyter->recogym) (0.7.5)\n",
            "Requirement already satisfied: pexpect; sys_platform != \"win32\" in /usr/local/lib/python3.6/dist-packages (from ipython>=4.0.0->ipykernel->jupyter->recogym) (4.7.0)\n",
            "Requirement already satisfied: pyzmq>=13 in /usr/local/lib/python3.6/dist-packages (from jupyter-client->ipykernel->jupyter->recogym) (17.0.0)\n",
            "Requirement already satisfied: jsonschema!=2.5.0,>=2.4 in /usr/local/lib/python3.6/dist-packages (from nbformat->notebook->jupyter->recogym) (2.6.0)\n",
            "Requirement already satisfied: MarkupSafe>=0.23 in /usr/local/lib/python3.6/dist-packages (from jinja2->notebook->jupyter->recogym) (1.1.1)\n",
            "Requirement already satisfied: ptyprocess; os_name != \"nt\" in /usr/local/lib/python3.6/dist-packages (from terminado>=0.3.3; sys_platform != \"win32\"->notebook->jupyter->recogym) (0.6.0)\n",
            "Requirement already satisfied: webencodings in /usr/local/lib/python3.6/dist-packages (from bleach->nbconvert->jupyter->recogym) (0.5.1)\n",
            "Requirement already satisfied: wcwidth in /usr/local/lib/python3.6/dist-packages (from prompt-toolkit<2.0.0,>=1.0.0->jupyter-console->jupyter->recogym) (0.1.7)\n"
          ],
          "name": "stdout"
        }
      ]
    },
    {
      "cell_type": "markdown",
      "metadata": {
        "id": "c0gTBl6Fjc61",
        "colab_type": "text"
      },
      "source": [
        "## Offline"
      ]
    },
    {
      "cell_type": "code",
      "metadata": {
        "id": "ifsEEYAaiKRS",
        "colab_type": "code",
        "outputId": "7ce63aa6-54b2-43f2-a884-d133aab3c6b3",
        "colab": {
          "base_uri": "https://localhost:8080/",
          "height": 84
        }
      },
      "source": [
        "import gym, recogym\n",
        "\n",
        "# env_0_args is a dictionary of default parameters (i.e. number of products)\n",
        "from recogym import env_1_args, Configuration\n",
        "\n",
        "# You can overwrite environment arguments here:\n",
        "env_1_args['random_seed'] = 42\n",
        "\n",
        "# Initialize the gym for the first time by calling .make() and .init_gym()\n",
        "env = gym.make('reco-gym-v1')\n",
        "env.init_gym(env_1_args)\n",
        "\n",
        "# .reset() env before each episode (one episode per user).\n",
        "env.reset()\n",
        "done = False\n",
        "\n",
        "# Counting how many steps.\n",
        "i = 0\n",
        "\n",
        "observation, reward, done = None, 0, False\n",
        "while not done:\n",
        "    action, observation, reward, done, info = env.step_offline(observation, reward, done)\n",
        "    print(f\"Step: {i} - Action: {action} - Observation: {observation.sessions()} - Reward: {reward}\")\n",
        "    i += 1"
      ],
      "execution_count": 2,
      "outputs": [
        {
          "output_type": "stream",
          "text": [
            "Step: 0 - Action: None - Observation: [{'t': 0, 'u': 0, 'z': 'pageview', 'v': 0}] - Reward: None\n",
            "Step: 1 - Action: {'t': 1, 'u': 0, 'a': 3, 'ps': 0.1, 'ps-a': ()} - Observation: [] - Reward: 0\n",
            "Step: 2 - Action: {'t': 2, 'u': 0, 'a': 4, 'ps': 0.1, 'ps-a': ()} - Observation: [] - Reward: 0\n",
            "Step: 3 - Action: {'t': 3, 'u': 0, 'a': 5, 'ps': 0.1, 'ps-a': ()} - Observation: [] - Reward: 0\n"
          ],
          "name": "stdout"
        }
      ]
    },
    {
      "cell_type": "markdown",
      "metadata": {
        "id": "Dcqm2s_VjWYG",
        "colab_type": "text"
      },
      "source": [
        "## Online"
      ]
    },
    {
      "cell_type": "code",
      "metadata": {
        "id": "zgAlHMH0iO9x",
        "colab_type": "code",
        "outputId": "50a69bab-bd89-4e31-ffed-a95335874598",
        "colab": {
          "base_uri": "https://localhost:8080/",
          "height": 138
        }
      },
      "source": [
        "# Create list of hard coded actions.\n",
        "actions = [None] + [1, 2, 3, 4, 5]\n",
        "\n",
        "# Reset env and set done to False.\n",
        "env.reset()\n",
        "done = False\n",
        "\n",
        "# Counting how many steps.\n",
        "i = 0\n",
        "\n",
        "while not done and i < len(actions):\n",
        "    action = actions[i]\n",
        "    observation, reward, done, info = env.step(action)\n",
        "    print(f\"Step: {i} - Action: {action} - Observation: {observation.sessions()} - Reward: {reward}\")\n",
        "    i += 1"
      ],
      "execution_count": 3,
      "outputs": [
        {
          "output_type": "stream",
          "text": [
            "Step: 0 - Action: None - Observation: [{'t': 0, 'u': 0, 'z': 'pageview', 'v': 1}] - Reward: None\n",
            "Step: 1 - Action: 1 - Observation: [] - Reward: 0\n",
            "Step: 2 - Action: 2 - Observation: [] - Reward: 0\n",
            "Step: 3 - Action: 3 - Observation: [] - Reward: 0\n",
            "Step: 4 - Action: 4 - Observation: [] - Reward: 0\n",
            "Step: 5 - Action: 5 - Observation: [{'t': 6, 'u': 0, 'z': 'pageview', 'v': 4}, {'t': 7, 'u': 0, 'z': 'pageview', 'v': 4}, {'t': 8, 'u': 0, 'z': 'pageview', 'v': 4}, {'t': 9, 'u': 0, 'z': 'pageview', 'v': 4}, {'t': 10, 'u': 0, 'z': 'pageview', 'v': 4}, {'t': 11, 'u': 0, 'z': 'pageview', 'v': 6}, {'t': 12, 'u': 0, 'z': 'pageview', 'v': 4}, {'t': 13, 'u': 0, 'z': 'pageview', 'v': 4}, {'t': 14, 'u': 0, 'z': 'pageview', 'v': 4}, {'t': 15, 'u': 0, 'z': 'pageview', 'v': 6}, {'t': 16, 'u': 0, 'z': 'pageview', 'v': 4}, {'t': 17, 'u': 0, 'z': 'pageview', 'v': 1}, {'t': 18, 'u': 0, 'z': 'pageview', 'v': 4}, {'t': 19, 'u': 0, 'z': 'pageview', 'v': 4}, {'t': 20, 'u': 0, 'z': 'pageview', 'v': 4}, {'t': 21, 'u': 0, 'z': 'pageview', 'v': 4}, {'t': 22, 'u': 0, 'z': 'pageview', 'v': 1}, {'t': 23, 'u': 0, 'z': 'pageview', 'v': 6}] - Reward: 0\n"
          ],
          "name": "stdout"
        }
      ]
    },
    {
      "cell_type": "markdown",
      "metadata": {
        "id": "N5lDxOaOjjNk",
        "colab_type": "text"
      },
      "source": [
        "## Agents"
      ]
    },
    {
      "cell_type": "code",
      "metadata": {
        "id": "ceus-FBWjeO3",
        "colab_type": "code",
        "colab": {}
      },
      "source": [
        "import numpy as np\n",
        "from numpy.random import choice\n",
        "from recogym.agents import Agent"
      ],
      "execution_count": 0,
      "outputs": []
    },
    {
      "cell_type": "code",
      "metadata": {
        "id": "neLlfbS1jow_",
        "colab_type": "code",
        "colab": {}
      },
      "source": [
        "class PopularityAgent(Agent):\n",
        "    def __init__(self, config):\n",
        "        # Set number of products as an attribute of the Agent.\n",
        "        super(PopularityAgent, self).__init__(config)\n",
        "\n",
        "        # Track number of times each item viewed in Organic session.\n",
        "        self.organic_views = np.zeros(self.config.num_products)\n",
        "\n",
        "    def train(self, observation, action, reward, done):\n",
        "        \"\"\"Train method learns from a tuple of data.\n",
        "            this method can be called for offline or online learning\"\"\"\n",
        "\n",
        "        # Adding organic session to organic view counts.\n",
        "        if observation:\n",
        "            for session in observation.sessions():\n",
        "                #print(session)\n",
        "                self.organic_views[session['v']] += 1\n",
        "\n",
        "    def act(self, observation, reward, done):\n",
        "        \"\"\"Act method returns an action based on current observation and past\n",
        "            history\"\"\"\n",
        "\n",
        "        # Choosing action randomly in proportion with number of views.\n",
        "        prob = self.organic_views / sum(self.organic_views)\n",
        "        action = choice(self.config.num_products, p = prob)\n",
        "\n",
        "        return {\n",
        "            **super().act(observation, reward, done),\n",
        "            **{\n",
        "                'a': action,\n",
        "                'ps': prob[action]\n",
        "            }\n",
        "        }\n",
        "\n",
        "    def __str__(self):\n",
        "        return \"Popularity Agent\"\n",
        "\n",
        "    def __repr__(self):\n",
        "        return str(self)"
      ],
      "execution_count": 0,
      "outputs": []
    },
    {
      "cell_type": "code",
      "metadata": {
        "id": "s1a9fcT-j7jD",
        "colab_type": "code",
        "colab": {}
      },
      "source": [
        "from recogym import env_1_args\n",
        "\n",
        "from copy import deepcopy\n",
        "\n",
        "env_1_args['random_seed'] = 42\n",
        "env_1_args['num_products'] = 10\n",
        "\n",
        "env = gym.make('reco-gym-v1')\n",
        "env.init_gym(env_1_args)\n",
        "\n",
        "# Import the random agent.\n",
        "from recogym.agents import RandomAgent, random_args\n",
        "\n",
        "# Create the two agents.\n",
        "num_products = env_1_args['num_products']\n",
        "popularity_agent = PopularityAgent(Configuration(env_1_args))\n",
        "agent_rand = RandomAgent(Configuration({\n",
        "    **env_1_args,\n",
        "    **random_args,\n",
        "}))"
      ],
      "execution_count": 0,
      "outputs": []
    },
    {
      "cell_type": "code",
      "metadata": {
        "id": "YV-CkhO4kCt0",
        "colab_type": "code",
        "outputId": "a796ebf4-f66c-4237-b7c7-e5ff31e92ab3",
        "colab": {
          "base_uri": "https://localhost:8080/",
          "height": 118
        }
      },
      "source": [
        "    \n",
        "# Credible interval of the CTR median and 0.025 0.975 quantile.\n",
        "recogym.test_agent(deepcopy(env), deepcopy(popularity_agent), 100, 100)"
      ],
      "execution_count": 7,
      "outputs": [
        {
          "output_type": "stream",
          "text": [
            "\rOffline Users:   0%|          | 0/100 [00:00<?, ?it/s]"
          ],
          "name": "stderr"
        },
        {
          "output_type": "stream",
          "text": [
            "Start: Agent Training #0\n"
          ],
          "name": "stdout"
        },
        {
          "output_type": "stream",
          "text": [
            "Offline Users: 100%|██████████| 100/100 [00:01<00:00, 55.57it/s]\n",
            "Online Users:   6%|▌         | 6/100 [00:00<00:01, 53.28it/s]"
          ],
          "name": "stderr"
        },
        {
          "output_type": "stream",
          "text": [
            "Start: Agent Testing #0\n"
          ],
          "name": "stdout"
        },
        {
          "output_type": "stream",
          "text": [
            "Online Users: 100%|██████████| 100/100 [00:02<00:00, 47.88it/s]"
          ],
          "name": "stderr"
        },
        {
          "output_type": "stream",
          "text": [
            "End: Agent Testing #0 (3.9404006004333496s)\n"
          ],
          "name": "stdout"
        },
        {
          "output_type": "stream",
          "text": [
            "\n"
          ],
          "name": "stderr"
        },
        {
          "output_type": "execute_result",
          "data": {
            "text/plain": [
              "(0.013166919176256748, 0.010795049195767067, 0.015858328147105638)"
            ]
          },
          "metadata": {
            "tags": []
          },
          "execution_count": 7
        }
      ]
    },
    {
      "cell_type": "code",
      "metadata": {
        "id": "PmaazmEhrpol",
        "colab_type": "code",
        "colab": {}
      },
      "source": [
        "import pandas as pd\n",
        "from sklearn.metrics.pairwise import cosine_similarity\n",
        "\n",
        "class UserSimilarityAgent(Agent):\n",
        "    def __init__(self, config):\n",
        "        # Set number of products as an attribute of the Agent.\n",
        "        super(UserSimilarityAgent, self).__init__(config)\n",
        "\n",
        "        # Track number of times each item viewed in Organic session.\n",
        "        self.user_items = pd.DataFrame(columns=range(self.config.num_products))\n",
        "        \n",
        "        self.organic_views = np.zeros(self.config.num_products)\n",
        "\n",
        "\n",
        "    def train(self, observation, action, reward, done):\n",
        "\n",
        "        # Adding organic session to organic view counts.\n",
        "        if observation:\n",
        "            for session in observation.sessions():\n",
        "                self.organic_views[session['v']] += 1\n",
        "\n",
        "\n",
        "        if observation is not None and len(observation.sessions()) > 0:\n",
        "\n",
        "            user = observation.current_sessions[-1]['u']\n",
        "            if not user in self.user_items.index:\n",
        "                self.user_items.loc[user] = np.zeros((self.config.num_products))\n",
        "\n",
        "            for elt in observation.sessions():\n",
        "                item = elt['v']\n",
        "                self.user_items.loc[[user], [item]] += 1\n",
        "\n",
        "            \n",
        "\n",
        "    def act(self, observation, reward, done):\n",
        "        \"\"\"Act method returns an action based on current observation and past\n",
        "            history\"\"\"\n",
        "            \n",
        "        cos_similarity = cosine_similarity(self.user_items)\n",
        "\n",
        "        prob = self.organic_views / sum(self.organic_views)\n",
        "\n",
        "        if observation is not None and len(observation.current_sessions) > 0:\n",
        "            current_user = observation.current_sessions[-1]['u']\n",
        "            if not current_user in self.user_items.index:\n",
        "                action = choice(self.config.num_products, p = prob)\n",
        "            else:\n",
        "                np.fill_diagonal(cos_similarity, 0)\n",
        "                indexes = list(self.user_items.index)\n",
        "                \n",
        "                most_similar_user = np.argmax(cos_similarity[indexes.index(current_user), :])\n",
        "                most_similar_user_items = self.user_items.iloc[most_similar_user]\n",
        "                action = np.argmax(most_similar_user_items, axis=1)\n",
        "                print(action)\n",
        "        else:\n",
        "            action = choice(self.config.num_products, p = prob)\n",
        "\n",
        "        return {\n",
        "            **super().act(observation, reward, done),\n",
        "            **{\n",
        "                'a': action,\n",
        "                'ps': 1#prob[action]\n",
        "            }\n",
        "        }\n",
        "\n",
        "        def __str__(self):\n",
        "            return \"User Similarity Agent\"\n",
        "\n",
        "        def __repr(self):\n",
        "            return str(self)"
      ],
      "execution_count": 0,
      "outputs": []
    },
    {
      "cell_type": "code",
      "metadata": {
        "id": "TgTxhOTUkJl8",
        "colab_type": "code",
        "colab": {}
      },
      "source": [
        "user_similarity_agent = UserSimilarityAgent(Configuration(env_1_args))"
      ],
      "execution_count": 0,
      "outputs": []
    },
    {
      "cell_type": "code",
      "metadata": {
        "id": "CdV8SpdZxatw",
        "colab_type": "code",
        "outputId": "98827ba9-538e-4630-8a2f-afc7d812eb69",
        "colab": {
          "base_uri": "https://localhost:8080/",
          "height": 118
        }
      },
      "source": [
        "recogym.test_agent(deepcopy(env), deepcopy(user_similarity_agent), 10, 10)"
      ],
      "execution_count": 10,
      "outputs": [
        {
          "output_type": "stream",
          "text": [
            "Start: Agent Training #0\n"
          ],
          "name": "stdout"
        },
        {
          "output_type": "stream",
          "text": [
            "Offline Users: 100%|██████████| 10/10 [00:00<00:00, 14.82it/s]\n",
            "Online Users:  20%|██        | 2/10 [00:00<00:00, 12.17it/s]"
          ],
          "name": "stderr"
        },
        {
          "output_type": "stream",
          "text": [
            "Start: Agent Testing #0\n"
          ],
          "name": "stdout"
        },
        {
          "output_type": "stream",
          "text": [
            "Online Users: 100%|██████████| 10/10 [00:00<00:00, 12.82it/s]"
          ],
          "name": "stderr"
        },
        {
          "output_type": "stream",
          "text": [
            "End: Agent Testing #0 (2.6598355770111084s)\n"
          ],
          "name": "stdout"
        },
        {
          "output_type": "stream",
          "text": [
            "\n"
          ],
          "name": "stderr"
        },
        {
          "output_type": "execute_result",
          "data": {
            "text/plain": [
              "(0.011672477386144022, 0.005806308676390247, 0.020533159744478113)"
            ]
          },
          "metadata": {
            "tags": []
          },
          "execution_count": 10
        }
      ]
    },
    {
      "cell_type": "code",
      "metadata": {
        "id": "zNS1n7B9nvws",
        "colab_type": "code",
        "colab": {}
      },
      "source": [
        "import pandas as pd\n",
        "from sklearn.cluster import KMeans\n",
        "\n",
        "class ClusteringAgent(Agent):\n",
        "    def __init__(self, config, nb_clusters):\n",
        "        # Set number of products as an attribute of the Agent.\n",
        "        super(ClusteringAgent, self).__init__(config)\n",
        "\n",
        "        # Track number of times each item viewed in Organic session.\n",
        "        self.user_items = pd.DataFrame(columns=range(self.config.num_products))\n",
        "        \n",
        "        self.organic_views = np.zeros(self.config.num_products)\n",
        "        self.nb_clusters = nb_clusters\n",
        "        self.kmeans = None\n",
        "        self.nb_sessions = 0    #count the sessions\n",
        "        self.training_rate = 10 #train each training_rate session to allow scaling\n",
        "\n",
        "    def train(self, observation, action, reward, done):\n",
        "\n",
        "        # Adding organic session to organic view counts.\n",
        "        if observation:\n",
        "            for session in observation.sessions():\n",
        "                self.organic_views[session['v']] += 1\n",
        "\n",
        "\n",
        "        if observation is not None and len(observation.sessions()) > 0:\n",
        "\n",
        "            user = observation.current_sessions[-1]['u']\n",
        "            if not user in self.user_items.index:\n",
        "                self.user_items.loc[user] = np.zeros((self.config.num_products))\n",
        "\n",
        "            for elt in observation.sessions():\n",
        "                item = elt['v']\n",
        "                self.user_items.loc[[user], [item]] += 1\n",
        "\n",
        "        if self.user_items.shape[0] > self.nb_clusters and self.nb_sessions % 10 == 0:#if enought data and not trained since a few sessions\n",
        "            self.kmeans = KMeans(n_clusters=self.nb_clusters, random_state=0).fit(self.user_items)\n",
        "\n",
        "        self.nb_sessions += 1\n",
        "\n",
        "    def act(self, observation, reward, done):\n",
        "        \"\"\"Act method returns an action based on current observation and past\n",
        "            history\"\"\"\n",
        "            \n",
        "        prob = self.organic_views / sum(self.organic_views)\n",
        "\n",
        "        if observation is not None and len(observation.current_sessions) > 0 and self.kmeans:\n",
        "            history = np.zeros((self.config.num_products))\n",
        "            for sess in observation.current_sessions:\n",
        "                history[sess['v']] += 1\n",
        "            \n",
        "            history = history.reshape((1, history.shape[0]))#reshape because single data prediction\n",
        "        \n",
        "            pred = self.kmeans.predict(history)\n",
        "            centroid = self.kmeans.cluster_centers_[pred]\n",
        "            action = np.argmax(centroid)\n",
        "\n",
        "        else:\n",
        "            action = choice(self.config.num_products, p = prob)\n",
        "\n",
        "        return {\n",
        "            **super().act(observation, reward, done),\n",
        "            **{\n",
        "                'a': action,\n",
        "                'ps': 1#prob[action]\n",
        "            }\n",
        "        }\n",
        "\n",
        "        def __str__(self):\n",
        "            return \"User Similarity Agent\"\n",
        "\n",
        "        def __repr(self):\n",
        "            return str(self)"
      ],
      "execution_count": 0,
      "outputs": []
    },
    {
      "cell_type": "code",
      "metadata": {
        "id": "CvCHCFNcrzxO",
        "colab_type": "code",
        "colab": {}
      },
      "source": [
        "clustering_agent = ClusteringAgent(Configuration(env_1_args), nb_clusters=10)"
      ],
      "execution_count": 0,
      "outputs": []
    },
    {
      "cell_type": "code",
      "metadata": {
        "id": "9hvfUHfisEgr",
        "colab_type": "code",
        "colab": {
          "base_uri": "https://localhost:8080/",
          "height": 118
        },
        "outputId": "b5ed01ad-6cd5-42e8-a210-ff85380b9e5a"
      },
      "source": [
        "recogym.test_agent(deepcopy(env), deepcopy(clustering_agent), 10, 10)"
      ],
      "execution_count": 63,
      "outputs": [
        {
          "output_type": "stream",
          "text": [
            "Start: Agent Training #0\n"
          ],
          "name": "stdout"
        },
        {
          "output_type": "stream",
          "text": [
            "Offline Users: 100%|██████████| 10/10 [00:04<00:00,  2.35it/s]\n",
            "Online Users:  40%|████      | 4/10 [00:00<00:00, 36.44it/s]"
          ],
          "name": "stderr"
        },
        {
          "output_type": "stream",
          "text": [
            "Start: Agent Testing #0\n"
          ],
          "name": "stdout"
        },
        {
          "output_type": "stream",
          "text": [
            "\rOnline Users: 100%|██████████| 10/10 [00:00<00:00, 39.05it/s]"
          ],
          "name": "stderr"
        },
        {
          "output_type": "stream",
          "text": [
            "End: Agent Testing #0 (6.199362754821777s)\n"
          ],
          "name": "stdout"
        },
        {
          "output_type": "stream",
          "text": [
            "\n"
          ],
          "name": "stderr"
        },
        {
          "output_type": "execute_result",
          "data": {
            "text/plain": [
              "(0.010658530928051257, 0.005074107334803295, 0.01929643202006537)"
            ]
          },
          "metadata": {
            "tags": []
          },
          "execution_count": 63
        }
      ]
    },
    {
      "cell_type": "markdown",
      "metadata": {
        "id": "IKMKYpHxnqDq",
        "colab_type": "text"
      },
      "source": [
        "## Benchmark for our agents"
      ]
    },
    {
      "cell_type": "code",
      "metadata": {
        "id": "DqDxOu0Cxn1k",
        "colab_type": "code",
        "colab": {}
      },
      "source": [
        "import matplotlib.pyplot as plt\n",
        "\n",
        "#simple class that run nb_simulations with a given number of users and plot the resulting curves\n",
        "#just to see which agent is better on the long run\n",
        "\n",
        "class Benchmark:\n",
        "    def __init__(self, agents):\n",
        "        self.agents = agents\n",
        "        self.agents_simu_res = {}\n",
        "        self.agents_scale_res = {}\n",
        "        self.scales = None\n",
        "\n",
        "    def simulate(self, nb_simulations=10, num_offline_users=1000, num_online_users=1000):\n",
        "        self.nb_simulations = nb_simulations\n",
        "\n",
        "        for ag in self.agents:\n",
        "            results = []\n",
        "            for i in range(self.nb_simulations):\n",
        "                \n",
        "                quantiles = recogym.test_agent(deepcopy(env), deepcopy(user_similarity_agent), num_online_users, num_offline_users)\n",
        "                results.append(quantiles)\n",
        "\n",
        "            self.agents_simu_res[str(ag)] = results\n",
        "\n",
        "    def plot_simu_medians(self, quantile=2):#plot median by default\n",
        "        if len(self.agents_simu_res) == 0:\n",
        "            print(\"you need to simulate first\")\n",
        "            return\n",
        "\n",
        "        for k, v in self.agents_simu_res.items():\n",
        "            medians = []\n",
        "\n",
        "            for med in v:\n",
        "                medians.append(med[quantile-1])\n",
        "        \n",
        "            plt.plot(range(1, self.nb_simulations+1), medians, label=k)\n",
        "\n",
        "    def check_scale(self, scales, num_offline_users=1000, num_online_users=1000):\n",
        "        self.scales = scales\n",
        "        for ag in self.agents:\n",
        "            results = []\n",
        "            for nb_users in scales:\n",
        "                quantiles = recogym.test_agent(deepcopy(env), deepcopy(user_similarity_agent), num_online_users, num_offline_users)\n",
        "                results.append(quantiles)\n",
        "            self.agents_scale_res[str(ag)] = results\n",
        "\n",
        "    def plot_scale_res(self, quantile=2):#plot median by default\n",
        "        if len(self.agents_scale_res) == 0:\n",
        "            print(\"you need to check scale first\")\n",
        "            return\n",
        "        \n",
        "        for k, v in self.agents_scale_res.items():\n",
        "            medians = []\n",
        "\n",
        "            for med in v:\n",
        "                medians.append(med[quantile-1])\n",
        "        \n",
        "            plt.plot(self.scales, medians, label=k)"
      ],
      "execution_count": 0,
      "outputs": []
    },
    {
      "cell_type": "code",
      "metadata": {
        "id": "NibxRDkNjJbu",
        "colab_type": "code",
        "colab": {}
      },
      "source": [
        "bench = Benchmark([popularity_agent, user_similarity_agent, clustering_agent])"
      ],
      "execution_count": 0,
      "outputs": []
    },
    {
      "cell_type": "code",
      "metadata": {
        "id": "brXub7J5xoBd",
        "colab_type": "code",
        "colab": {}
      },
      "source": [
        "%%capture\n",
        "bench.simulate(nb_simulations=15, num_offline_users=100, num_online_users=100)"
      ],
      "execution_count": 0,
      "outputs": []
    },
    {
      "cell_type": "code",
      "metadata": {
        "id": "G61lA_LZjU7Z",
        "colab_type": "code",
        "colab": {
          "base_uri": "https://localhost:8080/",
          "height": 265
        },
        "outputId": "9b42e865-d1ec-4d0e-c15b-0d314e4a380d"
      },
      "source": [
        "bench.plot_simu_medians()"
      ],
      "execution_count": 112,
      "outputs": [
        {
          "output_type": "display_data",
          "data": {
            "image/png": "[encoded data removed]",
            "text/plain": [
              "<Figure size 432x288 with 1 Axes>"
            ]
          },
          "metadata": {
            "tags": []
          }
        }
      ]
    },
    {
      "cell_type": "code",
      "metadata": {
        "id": "ynGyJ2DFlNFH",
        "colab_type": "code",
        "colab": {}
      },
      "source": [
        "%%capture\n",
        "bench.check_scale([10, 20, 50, 100, 500, 1000], num_offline_users=100, num_online_users=100)"
      ],
      "execution_count": 0,
      "outputs": []
    },
    {
      "cell_type": "code",
      "metadata": {
        "id": "ZrB5666Cxhwm",
        "colab_type": "code",
        "colab": {
          "base_uri": "https://localhost:8080/",
          "height": 265
        },
        "outputId": "c47322ec-97e2-47a0-d538-a4495337d864"
      },
      "source": [
        "bench.plot_scale_res()"
      ],
      "execution_count": 114,
      "outputs": [
        {
          "output_type": "display_data",
          "data": {
            "image/png": "[encoded data removed]",
            "text/plain": [
              "<Figure size 432x288 with 1 Axes>"
            ]
          },
          "metadata": {
            "tags": []
          }
        }
      ]
    },
    {
      "cell_type": "code",
      "metadata": {
        "id": "jfJ5oGUlyHrE",
        "colab_type": "code",
        "colab": {}
      },
      "source": [
        ""
      ],
      "execution_count": 0,
      "outputs": []
    }
  ]
}