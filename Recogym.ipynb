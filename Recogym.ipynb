{
 "cells": [
  {
   "cell_type": "markdown",
   "metadata": {
    "colab_type": "text",
    "id": "Ls6WrGCAhQ0_"
   },
   "source": [
    "## What is RecoGym?\n",
    "\n",
    "RecoGym is a Python [OpenAI Gym](https://gym.openai.com/) environment for testing recommendation algorithms.  It allows for the testing of both offline and reinforcement-learning based agents.  It provides a way to test algorithms in a toy environment quickly.\n",
    "\n",
    "In this notebook, we will code a simple recommendation agent that suggests an item in proportion to how many times it has been viewed.  We hope to inspire you to create your own agents and test them against our baseline models.\n",
    "\n",
    "In order to make the most out of RecoGym, we suggest you have some experience coding in Python, some background knowledge in recommender systems, and familiarity with the reinforcement learning setup.  Also, be sure to check out the python-based requirements in the README if something below errors."
   ]
  },
  {
   "cell_type": "markdown",
   "metadata": {
    "colab_type": "text",
    "id": "bgAQz37UhQ1C"
   },
   "source": [
    "## Reinforcement Learning Setup\n",
    "\n",
    "RecoGym follows the usual reinforcement learning setup.  This means there are interactions between the environment (the user's behaviour) and the agent (our recommendation algorithm).  The agent receives a reward if the user clicks on the recommendation."
   ]
  },
  {
   "cell_type": "markdown",
   "metadata": {
    "colab_type": "text",
    "id": "HxtqsL1WhQ1F"
   },
   "source": [
    "<img src=\"https://github.com/criteo-research/reco-gym/blob/master/images/rl-setup.png?raw=1\" alt=\"Drawing\" style=\"width: 600px;\"/>"
   ]
  },
  {
   "cell_type": "markdown",
   "metadata": {
    "colab_type": "text",
    "id": "qPOu7WO0hQ1G"
   },
   "source": [
    "## Organic and Bandit\n",
    "\n",
    "Even though our focus is biased towards online advertising, we tried to make RecoGym universal to all types of recommendation.  Hence, we introduce the domain-agnostic terms Organic and Bandit sessions.  An Organic session is an observation of items the user interacts with.  For example, it could be views of products on an e-commerce website, listens to songs while streaming music, or readings of articles on an online newspaper.  A Bandit session is one where we have an opportunity to recommend the user an item and observe their behaviour.  We receive a reward if they click.\n",
    "\n",
    "<img src=\"https://github.com/criteo-research/reco-gym/blob/master/images/organic-bandit.png?raw=1\" alt=\"Drawing\" style=\"width: 450px;\"/>"
   ]
  },
  {
   "cell_type": "markdown",
   "metadata": {
    "colab_type": "text",
    "id": "dOOcVNV-hQ1I"
   },
   "source": [
    "## Offline and Online Learning\n",
    "\n",
    "This project was born out of a desire to improve Criteo's recommendation system by exploring reinforcement learning algorithms. We quickly realised that we couldn't just blindly apply RL algorithms in a production system out of the box. The learning period would be too costly. Instead, we need to leverage the vast amounts of offline training examples we already to make the algorithm perform as good as the current system before releasing into the online production environment.\n",
    "\n",
    "Thus, RecoGym follows a similar flow. An agent is first given access to many offline training examples produced from a fixed policy. Then, they have access to the online system where they choose the actions."
   ]
  },
  {
   "cell_type": "markdown",
   "metadata": {
    "colab_type": "text",
    "id": "a-WG0EbahQ1K"
   },
   "source": [
    "<img src=\"https://github.com/criteo-research/reco-gym/blob/master/images/two-steps.png?raw=1\" alt=\"Drawing\" style=\"width: 450px;\"/>"
   ]
  },
  {
   "cell_type": "markdown",
   "metadata": {
    "colab_type": "text",
    "id": "MSCJ_DkZhQ1M"
   },
   "source": [
    "## Let's see some code - Interacting with the environment \n",
    "\n",
    "\n",
    "The code snippet below shows how to initialise the environment and step through in an 'offline' manner (Here offline means that the environment is generating some recommendations for us).  We print out the results from the environment at each step."
   ]
  },
  {
   "cell_type": "code",
   "execution_count": null,
   "metadata": {
    "colab": {
     "base_uri": "https://localhost:8080/",
     "height": 1000
    },
    "colab_type": "code",
    "id": "3cdjetUkh6I8",
    "outputId": "fe0c0e46-f517-4005-cb9b-2f5e97d6ebd2"
   },
   "outputs": [
    {
     "name": "stdout",
     "output_type": "stream",
     "text": [
      "Requirement already satisfied: recogym in /usr/local/lib/python3.6/dist-packages (0.1.2.3)\n",
      "Requirement already satisfied: datetime in /usr/local/lib/python3.6/dist-packages (from recogym) (4.3)\n",
      "Requirement already satisfied: intel-numpy in /usr/local/lib/python3.6/dist-packages (from recogym) (1.15.1)\n",
      "Requirement already satisfied: absl-py in /usr/local/lib/python3.6/dist-packages (from recogym) (0.8.1)\n",
      "Requirement already satisfied: tqdm in /usr/local/lib/python3.6/dist-packages (from recogym) (4.28.1)\n",
      "Requirement already satisfied: pandas in /usr/local/lib/python3.6/dist-packages (from recogym) (0.25.3)\n",
      "Requirement already satisfied: numba in /usr/local/lib/python3.6/dist-packages (from recogym) (0.40.1)\n",
      "Requirement already satisfied: intel-scipy in /usr/local/lib/python3.6/dist-packages (from recogym) (1.1.0)\n",
      "Requirement already satisfied: matplotlib in /usr/local/lib/python3.6/dist-packages (from recogym) (3.1.1)\n",
      "Requirement already satisfied: torch in /usr/local/lib/python3.6/dist-packages (from recogym) (1.3.1)\n",
      "Requirement already satisfied: jupyter in /usr/local/lib/python3.6/dist-packages (from recogym) (1.0.0)\n",
      "Requirement already satisfied: intel-scikit-learn in /usr/local/lib/python3.6/dist-packages (from recogym) (0.19.2)\n",
      "Requirement already satisfied: simplegeneric in /usr/local/lib/python3.6/dist-packages (from recogym) (0.8.1)\n",
      "Requirement already satisfied: gym in /usr/local/lib/python3.6/dist-packages (from recogym) (0.15.4)\n",
      "Requirement already satisfied: pytz in /usr/local/lib/python3.6/dist-packages (from datetime->recogym) (2018.9)\n",
      "Requirement already satisfied: zope.interface in /usr/local/lib/python3.6/dist-packages (from datetime->recogym) (4.7.1)\n",
      "Requirement already satisfied: mkl in /usr/local/lib/python3.6/dist-packages (from intel-numpy->recogym) (2019.0)\n",
      "Requirement already satisfied: mkl-fft in /usr/local/lib/python3.6/dist-packages (from intel-numpy->recogym) (1.0.6)\n",
      "Requirement already satisfied: icc-rt in /usr/local/lib/python3.6/dist-packages (from intel-numpy->recogym) (2020.0.133)\n",
      "Requirement already satisfied: mkl-random in /usr/local/lib/python3.6/dist-packages (from intel-numpy->recogym) (1.0.1.1)\n",
      "Requirement already satisfied: tbb4py in /usr/local/lib/python3.6/dist-packages (from intel-numpy->recogym) (2019.0)\n",
      "Requirement already satisfied: six in /usr/local/lib/python3.6/dist-packages (from absl-py->recogym) (1.12.0)\n",
      "Requirement already satisfied: numpy>=1.13.3 in /usr/local/lib/python3.6/dist-packages (from pandas->recogym) (1.17.4)\n",
      "Requirement already satisfied: python-dateutil>=2.6.1 in /usr/local/lib/python3.6/dist-packages (from pandas->recogym) (2.6.1)\n",
      "Requirement already satisfied: llvmlite>=0.25.0dev0 in /usr/local/lib/python3.6/dist-packages (from numba->recogym) (0.30.0)\n",
      "Requirement already satisfied: pyparsing!=2.0.4,!=2.1.2,!=2.1.6,>=2.0.1 in /usr/local/lib/python3.6/dist-packages (from matplotlib->recogym) (2.4.5)\n",
      "Requirement already satisfied: kiwisolver>=1.0.1 in /usr/local/lib/python3.6/dist-packages (from matplotlib->recogym) (1.1.0)\n",
      "Requirement already satisfied: cycler>=0.10 in /usr/local/lib/python3.6/dist-packages (from matplotlib->recogym) (0.10.0)\n",
      "Requirement already satisfied: ipykernel in /usr/local/lib/python3.6/dist-packages (from jupyter->recogym) (4.6.1)\n",
      "Requirement already satisfied: jupyter-console in /usr/local/lib/python3.6/dist-packages (from jupyter->recogym) (5.2.0)\n",
      "Requirement already satisfied: ipywidgets in /usr/local/lib/python3.6/dist-packages (from jupyter->recogym) (7.5.1)\n",
      "Requirement already satisfied: nbconvert in /usr/local/lib/python3.6/dist-packages (from jupyter->recogym) (5.6.1)\n",
      "Requirement already satisfied: notebook in /usr/local/lib/python3.6/dist-packages (from jupyter->recogym) (5.2.2)\n",
      "Requirement already satisfied: qtconsole in /usr/local/lib/python3.6/dist-packages (from jupyter->recogym) (4.6.0)\n",
      "Requirement already satisfied: pydaal in /usr/local/lib/python3.6/dist-packages (from intel-scikit-learn->recogym) (2019.0.0.20180713)\n",
      "Requirement already satisfied: pyglet<=1.3.2,>=1.2.0 in /usr/local/lib/python3.6/dist-packages (from gym->recogym) (1.3.2)\n",
      "Requirement already satisfied: scipy in /usr/local/lib/python3.6/dist-packages (from gym->recogym) (1.3.2)\n",
      "Requirement already satisfied: opencv-python in /usr/local/lib/python3.6/dist-packages (from gym->recogym) (3.4.7.28)\n",
      "Requirement already satisfied: cloudpickle~=1.2.0 in /usr/local/lib/python3.6/dist-packages (from gym->recogym) (1.2.2)\n",
      "Requirement already satisfied: setuptools in /usr/local/lib/python3.6/dist-packages (from zope.interface->datetime->recogym) (41.6.0)\n",
      "Requirement already satisfied: intel-openmp in /usr/local/lib/python3.6/dist-packages (from mkl->intel-numpy->recogym) (2020.0.133)\n",
      "Requirement already satisfied: tbb==2019.* in /usr/local/lib/python3.6/dist-packages (from tbb4py->intel-numpy->recogym) (2019.0)\n",
      "Requirement already satisfied: traitlets>=4.1.0 in /usr/local/lib/python3.6/dist-packages (from ipykernel->jupyter->recogym) (4.3.3)\n",
      "Requirement already satisfied: jupyter-client in /usr/local/lib/python3.6/dist-packages (from ipykernel->jupyter->recogym) (5.3.4)\n",
      "Requirement already satisfied: ipython>=4.0.0 in /usr/local/lib/python3.6/dist-packages (from ipykernel->jupyter->recogym) (5.5.0)\n",
      "Requirement already satisfied: tornado>=4.0 in /usr/local/lib/python3.6/dist-packages (from ipykernel->jupyter->recogym) (4.5.3)\n",
      "Requirement already satisfied: prompt-toolkit<2.0.0,>=1.0.0 in /usr/local/lib/python3.6/dist-packages (from jupyter-console->jupyter->recogym) (1.0.18)\n",
      "Requirement already satisfied: pygments in /usr/local/lib/python3.6/dist-packages (from jupyter-console->jupyter->recogym) (2.1.3)\n",
      "Requirement already satisfied: widgetsnbextension~=3.5.0 in /usr/local/lib/python3.6/dist-packages (from ipywidgets->jupyter->recogym) (3.5.1)\n",
      "Requirement already satisfied: nbformat>=4.2.0 in /usr/local/lib/python3.6/dist-packages (from ipywidgets->jupyter->recogym) (4.4.0)\n",
      "Requirement already satisfied: entrypoints>=0.2.2 in /usr/local/lib/python3.6/dist-packages (from nbconvert->jupyter->recogym) (0.3)\n",
      "Requirement already satisfied: pandocfilters>=1.4.1 in /usr/local/lib/python3.6/dist-packages (from nbconvert->jupyter->recogym) (1.4.2)\n",
      "Requirement already satisfied: mistune<2,>=0.8.1 in /usr/local/lib/python3.6/dist-packages (from nbconvert->jupyter->recogym) (0.8.4)\n",
      "Requirement already satisfied: testpath in /usr/local/lib/python3.6/dist-packages (from nbconvert->jupyter->recogym) (0.4.4)\n",
      "Requirement already satisfied: jinja2>=2.4 in /usr/local/lib/python3.6/dist-packages (from nbconvert->jupyter->recogym) (2.10.3)\n",
      "Requirement already satisfied: defusedxml in /usr/local/lib/python3.6/dist-packages (from nbconvert->jupyter->recogym) (0.6.0)\n",
      "Requirement already satisfied: bleach in /usr/local/lib/python3.6/dist-packages (from nbconvert->jupyter->recogym) (3.1.0)\n",
      "Requirement already satisfied: jupyter-core in /usr/local/lib/python3.6/dist-packages (from nbconvert->jupyter->recogym) (4.6.1)\n",
      "Requirement already satisfied: ipython-genutils in /usr/local/lib/python3.6/dist-packages (from notebook->jupyter->recogym) (0.2.0)\n",
      "Requirement already satisfied: terminado>=0.3.3; sys_platform != \"win32\" in /usr/local/lib/python3.6/dist-packages (from notebook->jupyter->recogym) (0.8.3)\n",
      "Requirement already satisfied: daal==2019.* in /usr/local/lib/python3.6/dist-packages (from pydaal->intel-scikit-learn->recogym) (2019.0)\n",
      "Requirement already satisfied: future in /usr/local/lib/python3.6/dist-packages (from pyglet<=1.3.2,>=1.2.0->gym->recogym) (0.16.0)\n",
      "Requirement already satisfied: decorator in /usr/local/lib/python3.6/dist-packages (from traitlets>=4.1.0->ipykernel->jupyter->recogym) (4.4.1)\n",
      "Requirement already satisfied: pyzmq>=13 in /usr/local/lib/python3.6/dist-packages (from jupyter-client->ipykernel->jupyter->recogym) (17.0.0)\n",
      "Requirement already satisfied: pickleshare in /usr/local/lib/python3.6/dist-packages (from ipython>=4.0.0->ipykernel->jupyter->recogym) (0.7.5)\n",
      "Requirement already satisfied: pexpect; sys_platform != \"win32\" in /usr/local/lib/python3.6/dist-packages (from ipython>=4.0.0->ipykernel->jupyter->recogym) (4.7.0)\n",
      "Requirement already satisfied: wcwidth in /usr/local/lib/python3.6/dist-packages (from prompt-toolkit<2.0.0,>=1.0.0->jupyter-console->jupyter->recogym) (0.1.7)\n",
      "Requirement already satisfied: jsonschema!=2.5.0,>=2.4 in /usr/local/lib/python3.6/dist-packages (from nbformat>=4.2.0->ipywidgets->jupyter->recogym) (2.6.0)\n",
      "Requirement already satisfied: MarkupSafe>=0.23 in /usr/local/lib/python3.6/dist-packages (from jinja2>=2.4->nbconvert->jupyter->recogym) (1.1.1)\n",
      "Requirement already satisfied: webencodings in /usr/local/lib/python3.6/dist-packages (from bleach->nbconvert->jupyter->recogym) (0.5.1)\n",
      "Requirement already satisfied: ptyprocess; os_name != \"nt\" in /usr/local/lib/python3.6/dist-packages (from terminado>=0.3.3; sys_platform != \"win32\"->notebook->jupyter->recogym) (0.6.0)\n"
     ]
    }
   ],
   "source": [
    "!pip install recogym"
   ]
  },
  {
   "cell_type": "code",
   "execution_count": null,
   "metadata": {
    "colab": {
     "base_uri": "https://localhost:8080/",
     "height": 124
    },
    "colab_type": "code",
    "id": "hYiG6a-_hQ1N",
    "outputId": "911f2747-1601-4303-8364-1cc48cb386f9"
   },
   "outputs": [
    {
     "name": "stdout",
     "output_type": "stream",
     "text": [
      "{'num_products': 1000, 'num_users': 100, 'random_seed': 42, 'prob_leave_bandit': 0.01, 'prob_leave_organic': 0.01, 'prob_bandit_to_organic': 0.05, 'prob_organic_to_bandit': 0.25, 'normalize_beta': False, 'with_ps_all': False, 'num_clusters': 2, 'phi_var': 0.1, 'K': 5, 'sigma_omega_initial': 1, 'sigma_omega': 0.1, 'number_of_flips': 0, 'sigma_mu_organic': 3, 'change_omega_for_bandits': False}\n",
      "Step: 0 - Action: None - Observation: [{'t': 0, 'u': 0, 'z': 'pageview', 'v': 85}] - Reward: None\n",
      "Step: 1 - Action: {'t': 1, 'u': 0, 'a': 99, 'ps': 0.001, 'ps-a': ()} - Observation: [] - Reward: 0\n",
      "Step: 2 - Action: {'t': 2, 'u': 0, 'a': 308, 'ps': 0.001, 'ps-a': ()} - Observation: [] - Reward: 0\n",
      "Step: 3 - Action: {'t': 3, 'u': 0, 'a': 805, 'ps': 0.001, 'ps-a': ()} - Observation: [] - Reward: 0\n"
     ]
    }
   ],
   "source": [
    "import gym, recogym\n",
    "\n",
    "# env_0_args is a dictionary of default parameters (i.e. number of products)\n",
    "from recogym import env_1_args, Configuration\n",
    "\n",
    "# You can overwrite environment arguments here:\n",
    "env_1_args['random_seed'] = 42\n",
    "env_1_args['num_products'] = 1000\n",
    "\n",
    "print(env_1_args)\n",
    "\n",
    "# Initialize the gym for the first time by calling .make() and .init_gym()\n",
    "env = gym.make('reco-gym-v1')\n",
    "env.init_gym(env_1_args)\n",
    "\n",
    "# .reset() env before each episode (one episode per user).\n",
    "env.reset()\n",
    "done = False\n",
    "\n",
    "# Counting how many steps.\n",
    "i = 0\n",
    "\n",
    "observation, reward, done = None, 0, False\n",
    "while not done:\n",
    "    action, observation, reward, done, info = env.step_offline(observation, reward, done)\n",
    "    print(f\"Step: {i} - Action: {action} - Observation: {observation.sessions()} - Reward: {reward}\")\n",
    "    i += 1"
   ]
  },
  {
   "cell_type": "markdown",
   "metadata": {
    "colab_type": "text",
    "id": "2a98_adyhQ1T"
   },
   "source": [
    "Okay, there's quite a bit going on here:  \n",
    "- `action`, is a number between `0` and `num_products - 1` that references the index of the product recommended.   \n",
    "- `observation` will either be `None` or a session of Organic data, showing the index of products the user views. \n",
    "- `reward` is 0 if the user does not click on the recommended product and 1 if they do.  Notice that when a user clicks on a product (Wherever the reward is 1), they start a new Organic session.\n",
    "- `done` is a True/False flag indicating if the episode (aka user's timeline) is over.  \n",
    "- `info` currently not used, so it is always an empty dictionary.\n",
    "\n",
    "Also, notice that the first `action` is `None`.  In our implementation, the agent observes Organic behaviour before recommending anything.\n",
    "\n",
    "Now, we will show calling the environment in an online manner, where the agent needs to supply an action. For demonstration purposes, we will create a list of hard-coded actions. "
   ]
  },
  {
   "cell_type": "code",
   "execution_count": null,
   "metadata": {
    "colab": {
     "base_uri": "https://localhost:8080/",
     "height": 141
    },
    "colab_type": "code",
    "id": "iLawxE5chQ1V",
    "outputId": "e6863115-21a7-40e8-87b1-abf6e545a1a8"
   },
   "outputs": [
    {
     "name": "stdout",
     "output_type": "stream",
     "text": [
      "Step: 0 - Action: None - Observation: [{'t': 0, 'u': 0, 'z': 'pageview', 'v': 796}] - Reward: None\n",
      "Step: 1 - Action: 1 - Observation: [] - Reward: 0\n",
      "Step: 2 - Action: 2 - Observation: [] - Reward: 0\n",
      "Step: 3 - Action: 3 - Observation: [] - Reward: 0\n",
      "Step: 4 - Action: 4 - Observation: [] - Reward: 0\n",
      "Step: 5 - Action: 5 - Observation: [{'t': 6, 'u': 0, 'z': 'pageview', 'v': 796}, {'t': 7, 'u': 0, 'z': 'pageview', 'v': 796}, {'t': 8, 'u': 0, 'z': 'pageview', 'v': 796}, {'t': 9, 'u': 0, 'z': 'pageview', 'v': 796}, {'t': 10, 'u': 0, 'z': 'pageview', 'v': 796}, {'t': 11, 'u': 0, 'z': 'pageview', 'v': 796}, {'t': 12, 'u': 0, 'z': 'pageview', 'v': 796}, {'t': 13, 'u': 0, 'z': 'pageview', 'v': 796}, {'t': 14, 'u': 0, 'z': 'pageview', 'v': 796}, {'t': 15, 'u': 0, 'z': 'pageview', 'v': 796}, {'t': 16, 'u': 0, 'z': 'pageview', 'v': 796}, {'t': 17, 'u': 0, 'z': 'pageview', 'v': 24}, {'t': 18, 'u': 0, 'z': 'pageview', 'v': 796}, {'t': 19, 'u': 0, 'z': 'pageview', 'v': 796}, {'t': 20, 'u': 0, 'z': 'pageview', 'v': 796}, {'t': 21, 'u': 0, 'z': 'pageview', 'v': 796}, {'t': 22, 'u': 0, 'z': 'pageview', 'v': 546}, {'t': 23, 'u': 0, 'z': 'pageview', 'v': 796}] - Reward: 0\n"
     ]
    }
   ],
   "source": [
    "# Create list of hard coded actions.\n",
    "actions = [None] + [1, 2, 3, 4, 5]\n",
    "\n",
    "# Reset env and set done to False.\n",
    "env.reset()\n",
    "done = False\n",
    "\n",
    "# Counting how many steps.\n",
    "i = 0\n",
    "\n",
    "while not done and i < len(actions):\n",
    "    action = actions[i]\n",
    "    observation, reward, done, info = env.step(action)\n",
    "    print(f\"Step: {i} - Action: {action} - Observation: {observation.sessions()} - Reward: {reward}\")\n",
    "    i += 1"
   ]
  },
  {
   "cell_type": "markdown",
   "metadata": {
    "colab_type": "text",
    "id": "LoYPnVWlhQ1Z"
   },
   "source": [
    "You'll notice that the offline and online APIs are nearly identical.  The only difference is that one calls either env.step_offline() or env.step(action)."
   ]
  },
  {
   "cell_type": "markdown",
   "metadata": {
    "colab_type": "text",
    "id": "y0xHxdCrhQ1b"
   },
   "source": [
    "## Creating our first agent\n",
    "\n",
    "Now that we see have seen how the offline and online versions of the environment work, it is time to code our first recommendation agent!  Technically, an agent can be anything that produces actions for the environment to use.  However, we will show you the object-oriented way we like to create agents.\n",
    "\n",
    "Below is the code for a very simple agent - the popularity based agent. The popularity based agent records merely how many times a user sees each product organically, then when required to make a recommendation, the agent chooses a product randomly in proportion with a number of times the user has viewed it."
   ]
  },
  {
   "cell_type": "code",
   "execution_count": null,
   "metadata": {
    "colab": {},
    "colab_type": "code",
    "id": "3a5K3ObFhQ1c"
   },
   "outputs": [],
   "source": [
    "import numpy as np\n",
    "from numpy.random import choice\n",
    "from recogym.agents import Agent\n",
    "\n",
    "# Define an Agent class.\n",
    "class PopularityAgent(Agent):\n",
    "    def __init__(self, config):\n",
    "        # Set number of products as an attribute of the Agent.\n",
    "        super(PopularityAgent, self).__init__(config)\n",
    "\n",
    "        # Track number of times each item viewed in Organic session.\n",
    "        self.organic_views = np.zeros(self.config.num_products)\n",
    "\n",
    "    def train(self, observation, action, reward, done):\n",
    "        \"\"\"Train method learns from a tuple of data.\n",
    "            this method can be called for offline or online learning\"\"\"\n",
    "\n",
    "        # Adding organic session to organic view counts.\n",
    "        if observation:\n",
    "            for session in observation.sessions():\n",
    "                self.organic_views[session['v']] += 1\n",
    "\n",
    "    def act(self, observation, reward, done):\n",
    "        \"\"\"Act method returns an action based on current observation and past\n",
    "            history\"\"\"\n",
    "\n",
    "        # Choosing action randomly in proportion with number of views.\n",
    "        prob = self.organic_views / sum(self.organic_views)\n",
    "        action = choice(self.config.num_products, p = prob)\n",
    "\n",
    "        return {\n",
    "            **super().act(observation, reward, done),\n",
    "            **{\n",
    "                'a': action,\n",
    "                'ps': prob[action]\n",
    "            }\n",
    "        }"
   ]
  },
  {
   "cell_type": "markdown",
   "metadata": {
    "colab_type": "text",
    "id": "taKq1EmnhQ1j"
   },
   "source": [
    "The `PopularityAgent` class above demonstrates our preferred way to create agents for RecoGym. Notice how we have both a `train` and `act` method present. The `train` method is designed to take in training data from the environments `step_offline` method and thus has nothing to return, while the `act` method must return an action to pass back into the environment. \n",
    "\n",
    "The code below highlights how one would use this agent for first offline training and then using the learned knowledge to make recommendations online."
   ]
  },
  {
   "cell_type": "code",
   "execution_count": null,
   "metadata": {
    "colab": {
     "base_uri": "https://localhost:8080/",
     "height": 34
    },
    "colab_type": "code",
    "id": "dj75KREdhQ1j",
    "outputId": "0fc4661e-39ed-458d-a5d5-685143e8a525"
   },
   "outputs": [
    {
     "name": "stdout",
     "output_type": "stream",
     "text": [
      "Click Through Rate: 0.0211\n"
     ]
    }
   ],
   "source": [
    "# Instantiate instance of PopularityAgent class.\n",
    "num_products = 1000\n",
    "agent = PopularityAgent(Configuration({\n",
    "    **env_1_args,\n",
    "    'num_products': num_products,\n",
    "}))\n",
    "\n",
    "# Resets random seed back to 42, or whatever we set it to in env_0_args.\n",
    "env.reset_random_seed()\n",
    "\n",
    "# Train on 1000 users offline.\n",
    "num_offline_users = 1000\n",
    "\n",
    "for _ in range(num_offline_users):\n",
    "\n",
    "    # Reset env and set done to False.\n",
    "    env.reset()\n",
    "    done = False\n",
    "\n",
    "    observation, reward, done = None, 0, False\n",
    "    while not done:\n",
    "        old_observation = observation\n",
    "        action, observation, reward, done, info = env.step_offline(observation, reward, done)\n",
    "        agent.train(old_observation, action, reward, done)\n",
    "\n",
    "# Train on 100 users online and track click through rate.\n",
    "num_online_users = 100\n",
    "num_clicks, num_events = 0, 0\n",
    "\n",
    "for _ in range(num_online_users):\n",
    "\n",
    "    # Reset env and set done to False.\n",
    "    env.reset()\n",
    "    observation, _, done, _ = env.step(None)\n",
    "    reward = None\n",
    "    done = None\n",
    "    while not done:\n",
    "        action = agent.act(observation, reward, done)\n",
    "        observation, reward, done, info = env.step(action['a'])\n",
    "\n",
    "        # Used for calculating click through rate.\n",
    "        num_clicks += 1 if reward == 1 and reward is not None else 0\n",
    "        num_events += 1\n",
    "\n",
    "ctr = num_clicks / num_events\n",
    "\n",
    "print(f\"Click Through Rate: {ctr:.4f}\")"
   ]
  },
  {
   "cell_type": "markdown",
   "metadata": {
    "colab_type": "text",
    "id": "q6SWoHXwhQ1o"
   },
   "source": [
    "## Testing our first agent\n",
    "\n",
    "Now we have created our popularity based agent, and we should test it against an even simpler baseline - one that performs no learning and recommends products uniformly at random. To do this, we will first load a more complex version of the toy data environment called `reco-gym-v1`.\n",
    "\n",
    "Next, we will load another agent for our agent to compete against each other. Here you can see we make use of the `RandomAgent` and create an instance of it in addition to our `PopularityAgent`."
   ]
  },
  {
   "cell_type": "code",
   "execution_count": null,
   "metadata": {
    "colab": {},
    "colab_type": "code",
    "id": "Yll39wBzhQ1p"
   },
   "outputs": [],
   "source": [
    "import gym, recogym\n",
    "from recogym import env_1_args\n",
    "\n",
    "from copy import deepcopy\n",
    "\n",
    "env_1_args['random_seed'] = 42\n",
    "\n",
    "env = gym.make('reco-gym-v1')\n",
    "env.init_gym(env_1_args)\n",
    "\n",
    "# Import the random agent.\n",
    "from recogym.agents import RandomAgent, random_args\n",
    "\n",
    "# Create the two agents.\n",
    "num_products = env_1_args['num_products']\n",
    "popularity_agent = PopularityAgent(Configuration(env_1_args))\n",
    "agent_rand = RandomAgent(Configuration({\n",
    "    **env_1_args,\n",
    "    **random_args,\n",
    "}))"
   ]
  },
  {
   "cell_type": "markdown",
   "metadata": {
    "colab_type": "text",
    "id": "fszDuoVjhQ1t"
   },
   "source": [
    "Now we have instances of our two agents. We can use the `test_agent` method from RecoGym and compare there performance.\n",
    "\n",
    "To use `test_agent`, one must provide a copy of the current env, a copy of the agent class, the number of training users and the number of testing users. "
   ]
  },
  {
   "cell_type": "code",
   "execution_count": null,
   "metadata": {
    "colab": {
     "base_uri": "https://localhost:8080/",
     "height": 121
    },
    "colab_type": "code",
    "id": "1CdVik-RhQ1u",
    "outputId": "5057cb5d-1188-4ec4-aab2-777a4446f14d"
   },
   "outputs": [
    {
     "name": "stderr",
     "output_type": "stream",
     "text": [
      "Offline Users:   0%|          | 0/1000 [00:00<?, ?it/s]"
     ]
    },
    {
     "name": "stdout",
     "output_type": "stream",
     "text": [
      "Start: Agent Training #0\n"
     ]
    },
    {
     "name": "stderr",
     "output_type": "stream",
     "text": [
      "Offline Users: 100%|██████████| 1000/1000 [00:26<00:00, 37.96it/s]\n",
      "Online Users:   1%|          | 9/1000 [00:00<00:11, 86.85it/s]"
     ]
    },
    {
     "name": "stdout",
     "output_type": "stream",
     "text": [
      "Start: Agent Testing #0\n"
     ]
    },
    {
     "name": "stderr",
     "output_type": "stream",
     "text": [
      "Online Users: 100%|██████████| 1000/1000 [00:27<00:00, 36.93it/s]"
     ]
    },
    {
     "name": "stdout",
     "output_type": "stream",
     "text": [
      "End: Agent Testing #0 (53.527989864349365s)\n"
     ]
    },
    {
     "name": "stderr",
     "output_type": "stream",
     "text": [
      "\n"
     ]
    },
    {
     "data": {
      "text/plain": [
       "(0.009399448768349045, 0.008734101723232421, 0.01009743054491552)"
      ]
     },
     "execution_count": 7,
     "metadata": {
      "tags": []
     },
     "output_type": "execute_result"
    }
   ],
   "source": [
    "# Credible interval of the CTR median and 0.025 0.975 quantile.\n",
    "recogym.test_agent(deepcopy(env), deepcopy(agent_rand), 1000, 1000)"
   ]
  },
  {
   "cell_type": "code",
   "execution_count": null,
   "metadata": {
    "colab": {
     "base_uri": "https://localhost:8080/",
     "height": 121
    },
    "colab_type": "code",
    "id": "QUbTYZemhQ1x",
    "outputId": "e6bcb57b-b767-430e-ec2e-847f8370e96e"
   },
   "outputs": [
    {
     "name": "stderr",
     "output_type": "stream",
     "text": [
      "Offline Users:   0%|          | 0/1000 [00:00<?, ?it/s]"
     ]
    },
    {
     "name": "stdout",
     "output_type": "stream",
     "text": [
      "Start: Agent Training #0\n"
     ]
    },
    {
     "name": "stderr",
     "output_type": "stream",
     "text": [
      "Offline Users: 100%|██████████| 1000/1000 [00:26<00:00, 37.82it/s]\n",
      "Online Users:   0%|          | 4/1000 [00:00<00:29, 34.16it/s]"
     ]
    },
    {
     "name": "stdout",
     "output_type": "stream",
     "text": [
      "Start: Agent Testing #0\n"
     ]
    },
    {
     "name": "stderr",
     "output_type": "stream",
     "text": [
      "Online Users: 100%|██████████| 1000/1000 [00:44<00:00, 23.91it/s]"
     ]
    },
    {
     "name": "stdout",
     "output_type": "stream",
     "text": [
      "End: Agent Testing #0 (71.12142872810364s)\n"
     ]
    },
    {
     "name": "stderr",
     "output_type": "stream",
     "text": [
      "\n"
     ]
    },
    {
     "data": {
      "text/plain": [
       "(0.021129952289653392, 0.02011222379366329, 0.022180696366972064)"
      ]
     },
     "execution_count": 8,
     "metadata": {
      "tags": []
     },
     "output_type": "execute_result"
    }
   ],
   "source": [
    "# Credible interval of the CTR median and 0.025 0.975 quantile.\n",
    "recogym.test_agent(deepcopy(env), deepcopy(popularity_agent), 1000, 1000) "
   ]
  },
  {
   "cell_type": "markdown",
   "metadata": {
    "colab_type": "text",
    "id": "QGL3wNKthQ12"
   },
   "source": [
    "We see an improvement in the click-through rate for the popularity agent."
   ]
  },
  {
   "cell_type": "code",
   "execution_count": null,
   "metadata": {
    "colab": {},
    "colab_type": "code",
    "id": "U6oQxZyjkqur"
   },
   "outputs": [],
   "source": [
    "class OverallPopularityAgent(Agent):\n",
    "    def __init__(self, config):\n",
    "        # Set number of products as an attribute of the Agent.\n",
    "        super(OverallPopularityAgent, self).__init__(config)\n",
    "\n",
    "        # Track number of times each item viewed in Organic session.\n",
    "        self.organic_views = np.zeros(self.config.num_products)\n",
    "\n",
    "    def train(self, observation, action, reward, done):\n",
    "        \"\"\"Train method learns from a tuple of data.\n",
    "            this method can be called for offline or online learning\"\"\"\n",
    "\n",
    "        # Adding organic session to organic view counts.\n",
    "        if observation:\n",
    "            for session in observation.sessions():\n",
    "                self.organic_views[session['v']] += 1\n",
    "\n",
    "    def act(self, observation, reward, done):\n",
    "        \"\"\"Act method returns an action based on current observation and past\n",
    "            history\"\"\"\n",
    "\n",
    "        # Choosing action randomly in proportion with number of views.\n",
    "        prob = self.organic_views / sum(self.organic_views)\n",
    "        action = choice(self.config.num_products, p = prob)\n",
    "\n",
    "        return {\n",
    "            **super().act(observation, reward, done),\n",
    "            **{\n",
    "                'a': action,\n",
    "                'ps': prob[action]\n",
    "            }\n",
    "        }\n",
    "    def infos(self):\n",
    "        return self.organic_views"
   ]
  },
  {
   "cell_type": "code",
   "execution_count": null,
   "metadata": {
    "colab": {},
    "colab_type": "code",
    "id": "yhhjo9fflAeM"
   },
   "outputs": [],
   "source": [
    "import sys\n",
    "class Logger:\n",
    "    def __init__(self, level, out=sys.stdout):\n",
    "        self.level = level\n",
    "        self.out = out\n",
    "    def log(self, content, level=0):\n",
    "        if level <= self.level:\n",
    "            self.out.write(str(content))\n",
    "    def logn(self, content, level=0):\n",
    "        self.log(str(content) + \"\\n\", level)"
   ]
  },
  {
   "cell_type": "code",
   "execution_count": null,
   "metadata": {
    "colab": {},
    "colab_type": "code",
    "id": "2C-oyy2Ol8AM"
   },
   "outputs": [],
   "source": [
    "class ExperimentRunner:\n",
    "    def __init__(self, env, agent, num_offline_users, num_online_users, verbose=0):\n",
    "        self.env = env\n",
    "        self.agent = agent\n",
    "        self.num_offline_users = num_offline_users\n",
    "        self.num_online_users = num_online_users\n",
    "        self.logger = Logger(verbose)\n",
    "    \n",
    "    def run_offline(self):\n",
    "        self.env.reset_random_seed()\n",
    "        for _ in range(self.num_offline_users):\n",
    "            # Reset env and set done to False.\n",
    "            self.env.reset()\n",
    "            done = False\n",
    "\n",
    "            observation, reward, done = None, 0, False\n",
    "            while not done:\n",
    "                old_observation = observation\n",
    "                action, observation, reward, done, info = self.env.step_offline(observation, reward, done)\n",
    "                self.agent.train(old_observation, action, reward, done)\n",
    "\n",
    "    def run_online(self):\n",
    "        # Train on 100 users online and track click through rate.\n",
    "        num_online_users = 100\n",
    "        num_clicks, num_events = 0, 0\n",
    "\n",
    "        for _ in range(num_online_users):\n",
    "\n",
    "            # Reset env and set done to False.\n",
    "            self.env.reset()\n",
    "            observation, _, done, _ = self.env.step(None)\n",
    "            reward = None\n",
    "            done = None\n",
    "            while not done:\n",
    "                action = self.agent.act(observation, reward, done)\n",
    "                observation, reward, done, info = self.env.step(action['a'])\n",
    "\n",
    "                # Used for calculating click through rate.\n",
    "                num_clicks += 1 if reward == 1 and reward is not None else 0\n",
    "                num_events += 1\n",
    "\n",
    "        ctr = num_clicks / num_events\n",
    "\n",
    "        self.logger.logn(f\"Click Through Rate: {ctr:.4f}\")\n",
    "\n",
    "    def run(self):\n",
    "        self.run_offline()\n",
    "        self.run_online()\n",
    "        self.logger.logn(self.agent.infos())\n",
    "        return self.agent.infos()"
   ]
  },
  {
   "cell_type": "code",
   "execution_count": null,
   "metadata": {
    "colab": {
     "base_uri": "https://localhost:8080/",
     "height": 1000
    },
    "colab_type": "code",
    "id": "iUN23MOLnGS8",
    "outputId": "1a202d4b-a38b-43cd-8f5d-7a0afdda21a4"
   },
   "outputs": [
    {
     "name": "stdout",
     "output_type": "stream",
     "text": [
      "Click Through Rate: 0.0204\n",
      "[0.000e+00 0.000e+00 0.000e+00 0.000e+00 1.000e+00 0.000e+00 4.000e+00\n",
      " 5.000e+00 0.000e+00 0.000e+00 6.000e+00 1.000e+00 0.000e+00 0.000e+00\n",
      " 1.000e+00 0.000e+00 0.000e+00 2.100e+01 0.000e+00 1.000e+00 0.000e+00\n",
      " 0.000e+00 0.000e+00 0.000e+00 1.830e+02 0.000e+00 1.000e+00 0.000e+00\n",
      " 7.000e+00 0.000e+00 0.000e+00 5.000e+00 0.000e+00 0.000e+00 1.000e+00\n",
      " 8.020e+02 7.900e+01 0.000e+00 1.100e+01 0.000e+00 1.000e+00 0.000e+00\n",
      " 0.000e+00 0.000e+00 3.600e+01 4.000e+00 0.000e+00 1.000e+00 2.000e+00\n",
      " 0.000e+00 1.000e+01 0.000e+00 9.000e+00 0.000e+00 0.000e+00 0.000e+00\n",
      " 1.000e+00 1.000e+00 0.000e+00 0.000e+00 0.000e+00 3.000e+00 0.000e+00\n",
      " 0.000e+00 6.000e+00 0.000e+00 0.000e+00 1.400e+01 0.000e+00 0.000e+00\n",
      " 0.000e+00 0.000e+00 0.000e+00 0.000e+00 1.000e+00 0.000e+00 0.000e+00\n",
      " 2.000e+00 1.000e+00 3.000e+01 0.000e+00 1.000e+00 0.000e+00 0.000e+00\n",
      " 1.100e+01 4.650e+02 0.000e+00 1.000e+00 1.000e+00 0.000e+00 0.000e+00\n",
      " 0.000e+00 0.000e+00 8.000e+00 2.000e+00 1.000e+00 3.000e+00 0.000e+00\n",
      " 0.000e+00 0.000e+00 1.400e+01 1.000e+00 0.000e+00 0.000e+00 1.000e+00\n",
      " 0.000e+00 0.000e+00 2.000e+00 0.000e+00 1.000e+00 0.000e+00 1.570e+02\n",
      " 0.000e+00 0.000e+00 0.000e+00 2.000e+00 5.100e+01 0.000e+00 0.000e+00\n",
      " 2.000e+00 0.000e+00 0.000e+00 1.000e+00 0.000e+00 4.000e+00 0.000e+00\n",
      " 1.000e+00 0.000e+00 0.000e+00 2.000e+00 4.000e+00 0.000e+00 0.000e+00\n",
      " 6.000e+00 0.000e+00 2.000e+00 0.000e+00 0.000e+00 0.000e+00 0.000e+00\n",
      " 0.000e+00 1.100e+01 0.000e+00 0.000e+00 4.000e+00 0.000e+00 1.000e+00\n",
      " 1.000e+00 5.000e+00 0.000e+00 3.700e+02 0.000e+00 2.000e+00 0.000e+00\n",
      " 0.000e+00 0.000e+00 0.000e+00 8.380e+02 0.000e+00 0.000e+00 0.000e+00\n",
      " 0.000e+00 0.000e+00 0.000e+00 3.000e+00 6.000e+00 0.000e+00 0.000e+00\n",
      " 0.000e+00 0.000e+00 0.000e+00 0.000e+00 1.000e+00 0.000e+00 0.000e+00\n",
      " 4.900e+01 0.000e+00 0.000e+00 1.000e+00 0.000e+00 0.000e+00 0.000e+00\n",
      " 0.000e+00 0.000e+00 4.000e+00 0.000e+00 0.000e+00 0.000e+00 0.000e+00\n",
      " 4.700e+01 0.000e+00 0.000e+00 0.000e+00 0.000e+00 0.000e+00 0.000e+00\n",
      " 1.000e+00 0.000e+00 0.000e+00 0.000e+00 0.000e+00 0.000e+00 0.000e+00\n",
      " 1.000e+00 8.060e+02 1.000e+00 9.000e+00 0.000e+00 0.000e+00 0.000e+00\n",
      " 0.000e+00 0.000e+00 1.000e+00 1.000e+00 0.000e+00 2.000e+00 1.000e+00\n",
      " 0.000e+00 0.000e+00 0.000e+00 5.710e+02 1.000e+00 0.000e+00 0.000e+00\n",
      " 1.144e+03 0.000e+00 0.000e+00 0.000e+00 2.000e+00 5.000e+00 5.340e+02\n",
      " 1.000e+00 0.000e+00 0.000e+00 1.000e+00 1.330e+02 0.000e+00 7.000e+00\n",
      " 0.000e+00 0.000e+00 0.000e+00 0.000e+00 5.000e+00 5.000e+00 0.000e+00\n",
      " 0.000e+00 1.000e+00 0.000e+00 3.000e+00 0.000e+00 0.000e+00 0.000e+00\n",
      " 0.000e+00 0.000e+00 0.000e+00 0.000e+00 0.000e+00 0.000e+00 0.000e+00\n",
      " 2.600e+01 3.000e+00 0.000e+00 0.000e+00 1.000e+00 0.000e+00 0.000e+00\n",
      " 1.000e+01 0.000e+00 0.000e+00 3.400e+01 2.300e+01 1.390e+03 0.000e+00\n",
      " 0.000e+00 0.000e+00 1.000e+00 0.000e+00 0.000e+00 0.000e+00 0.000e+00\n",
      " 0.000e+00 2.000e+00 2.000e+00 0.000e+00 1.300e+01 6.000e+00 0.000e+00\n",
      " 6.000e+00 0.000e+00 4.000e+00 1.210e+02 1.000e+00 0.000e+00 0.000e+00\n",
      " 9.000e+00 0.000e+00 0.000e+00 2.900e+01 4.000e+00 1.000e+00 0.000e+00\n",
      " 0.000e+00 5.000e+00 1.000e+00 0.000e+00 8.000e+00 0.000e+00 0.000e+00\n",
      " 0.000e+00 0.000e+00 0.000e+00 1.000e+01 0.000e+00 0.000e+00 0.000e+00\n",
      " 0.000e+00 0.000e+00 0.000e+00 1.200e+01 2.000e+00 0.000e+00 0.000e+00\n",
      " 4.000e+00 5.000e+00 0.000e+00 0.000e+00 0.000e+00 0.000e+00 0.000e+00\n",
      " 0.000e+00 0.000e+00 0.000e+00 3.000e+00 7.000e+00 0.000e+00 0.000e+00\n",
      " 0.000e+00 0.000e+00 0.000e+00 2.000e+00 0.000e+00 0.000e+00 0.000e+00\n",
      " 0.000e+00 0.000e+00 2.900e+01 0.000e+00 0.000e+00 0.000e+00 0.000e+00\n",
      " 5.000e+00 0.000e+00 0.000e+00 5.000e+00 0.000e+00 3.000e+00 0.000e+00\n",
      " 0.000e+00 0.000e+00 0.000e+00 1.000e+00 1.000e+00 0.000e+00 0.000e+00\n",
      " 0.000e+00 0.000e+00 3.000e+00 0.000e+00 0.000e+00 2.600e+01 0.000e+00\n",
      " 0.000e+00 0.000e+00 0.000e+00 1.000e+00 1.000e+00 5.920e+02 0.000e+00\n",
      " 0.000e+00 0.000e+00 0.000e+00 0.000e+00 0.000e+00 1.300e+01 3.000e+01\n",
      " 2.000e+00 5.700e+01 0.000e+00 0.000e+00 0.000e+00 0.000e+00 1.100e+01\n",
      " 0.000e+00 0.000e+00 0.000e+00 1.000e+00 0.000e+00 1.000e+00 0.000e+00\n",
      " 0.000e+00 0.000e+00 0.000e+00 1.000e+00 0.000e+00 0.000e+00 0.000e+00\n",
      " 0.000e+00 5.400e+01 0.000e+00 0.000e+00 0.000e+00 0.000e+00 0.000e+00\n",
      " 2.000e+01 0.000e+00 0.000e+00 0.000e+00 0.000e+00 0.000e+00 0.000e+00\n",
      " 0.000e+00 0.000e+00 0.000e+00 2.000e+00 0.000e+00 1.000e+00 2.000e+00\n",
      " 1.000e+00 0.000e+00 0.000e+00 0.000e+00 0.000e+00 1.000e+00 0.000e+00\n",
      " 0.000e+00 1.000e+00 1.000e+00 7.000e+00 1.000e+00 0.000e+00 0.000e+00\n",
      " 0.000e+00 0.000e+00 0.000e+00 2.000e+00 0.000e+00 0.000e+00 1.900e+01\n",
      " 2.000e+00 0.000e+00 0.000e+00 0.000e+00 1.400e+01 0.000e+00 1.000e+00\n",
      " 1.900e+01 0.000e+00 0.000e+00 0.000e+00 0.000e+00 0.000e+00 9.000e+00\n",
      " 2.000e+00 0.000e+00 0.000e+00 0.000e+00 0.000e+00 0.000e+00 0.000e+00\n",
      " 1.000e+00 8.000e+00 1.000e+00 0.000e+00 0.000e+00 0.000e+00 2.500e+01\n",
      " 0.000e+00 0.000e+00 0.000e+00 4.000e+00 5.000e+01 0.000e+00 0.000e+00\n",
      " 0.000e+00 0.000e+00 0.000e+00 1.000e+00 1.000e+00 0.000e+00 0.000e+00\n",
      " 0.000e+00 1.000e+00 0.000e+00 5.000e+01 4.000e+00 0.000e+00 0.000e+00\n",
      " 0.000e+00 0.000e+00 1.100e+01 4.000e+00 1.300e+01 0.000e+00 0.000e+00\n",
      " 0.000e+00 2.000e+00 0.000e+00 0.000e+00 1.000e+00 1.000e+00 3.000e+00\n",
      " 5.000e+00 0.000e+00 0.000e+00 5.000e+01 0.000e+00 0.000e+00 0.000e+00\n",
      " 0.000e+00 0.000e+00 0.000e+00 0.000e+00 0.000e+00 0.000e+00 0.000e+00\n",
      " 0.000e+00 2.000e+00 0.000e+00 0.000e+00 0.000e+00 1.200e+01 0.000e+00\n",
      " 1.600e+01 1.000e+00 0.000e+00 5.000e+02 0.000e+00 0.000e+00 0.000e+00\n",
      " 8.000e+00 2.700e+01 1.800e+01 2.000e+00 1.000e+00 0.000e+00 0.000e+00\n",
      " 1.330e+02 1.000e+00 0.000e+00 2.000e+00 0.000e+00 0.000e+00 0.000e+00\n",
      " 0.000e+00 0.000e+00 0.000e+00 1.000e+00 5.000e+00 0.000e+00 5.000e+00\n",
      " 1.000e+00 0.000e+00 0.000e+00 1.000e+00 0.000e+00 1.000e+00 6.000e+00\n",
      " 1.100e+01 2.000e+00 0.000e+00 0.000e+00 0.000e+00 0.000e+00 0.000e+00\n",
      " 0.000e+00 0.000e+00 3.000e+00 0.000e+00 0.000e+00 4.500e+01 4.400e+01\n",
      " 1.000e+00 1.500e+01 0.000e+00 2.000e+00 0.000e+00 0.000e+00 0.000e+00\n",
      " 2.000e+00 3.250e+02 0.000e+00 0.000e+00 0.000e+00 0.000e+00 5.300e+01\n",
      " 0.000e+00 1.000e+00 0.000e+00 0.000e+00 0.000e+00 1.000e+00 0.000e+00\n",
      " 0.000e+00 8.500e+01 2.000e+00 0.000e+00 0.000e+00 0.000e+00 4.000e+00\n",
      " 0.000e+00 2.000e+00 1.900e+01 2.000e+00 0.000e+00 0.000e+00 0.000e+00\n",
      " 0.000e+00 0.000e+00 0.000e+00 0.000e+00 0.000e+00 0.000e+00 0.000e+00\n",
      " 2.000e+00 8.000e+00 0.000e+00 0.000e+00 2.000e+00 0.000e+00 0.000e+00\n",
      " 0.000e+00 9.000e+00 0.000e+00 0.000e+00 0.000e+00 5.000e+00 7.800e+01\n",
      " 1.000e+00 1.000e+00 0.000e+00 2.000e+00 0.000e+00 0.000e+00 4.400e+01\n",
      " 1.000e+00 0.000e+00 0.000e+00 2.100e+01 1.130e+02 5.000e+00 0.000e+00\n",
      " 0.000e+00 0.000e+00 1.000e+01 0.000e+00 0.000e+00 1.600e+01 0.000e+00\n",
      " 7.900e+01 0.000e+00 1.000e+00 0.000e+00 0.000e+00 0.000e+00 1.000e+00\n",
      " 0.000e+00 2.000e+00 9.000e+00 0.000e+00 7.000e+00 1.210e+02 0.000e+00\n",
      " 0.000e+00 8.030e+02 0.000e+00 0.000e+00 0.000e+00 4.000e+00 2.000e+00\n",
      " 0.000e+00 0.000e+00 3.000e+00 0.000e+00 0.000e+00 0.000e+00 0.000e+00\n",
      " 1.100e+01 0.000e+00 0.000e+00 0.000e+00 2.000e+00 0.000e+00 2.000e+00\n",
      " 0.000e+00 7.000e+00 8.000e+00 0.000e+00 0.000e+00 0.000e+00 1.000e+00\n",
      " 0.000e+00 0.000e+00 0.000e+00 2.000e+00 0.000e+00 0.000e+00 1.300e+01\n",
      " 0.000e+00 0.000e+00 2.100e+01 4.000e+00 0.000e+00 1.000e+01 0.000e+00\n",
      " 0.000e+00 0.000e+00 1.000e+00 1.000e+00 2.000e+00 0.000e+00 0.000e+00\n",
      " 2.200e+01 0.000e+00 0.000e+00 1.000e+00 0.000e+00 0.000e+00 0.000e+00\n",
      " 0.000e+00 0.000e+00 0.000e+00 1.000e+00 4.000e+00 0.000e+00 0.000e+00\n",
      " 0.000e+00 2.000e+00 3.900e+01 0.000e+00 0.000e+00 0.000e+00 0.000e+00\n",
      " 0.000e+00 0.000e+00 0.000e+00 2.000e+00 0.000e+00 2.000e+00 1.000e+00\n",
      " 0.000e+00 0.000e+00 0.000e+00 4.000e+00 0.000e+00 1.000e+00 0.000e+00\n",
      " 0.000e+00 0.000e+00 0.000e+00 0.000e+00 1.000e+00 5.000e+00 0.000e+00\n",
      " 0.000e+00 0.000e+00 0.000e+00 0.000e+00 0.000e+00 0.000e+00 0.000e+00\n",
      " 2.100e+01 0.000e+00 0.000e+00 0.000e+00 0.000e+00 0.000e+00 2.000e+00\n",
      " 0.000e+00 1.000e+00 0.000e+00 0.000e+00 0.000e+00 1.000e+00 2.800e+01\n",
      " 2.000e+00 0.000e+00 0.000e+00 5.200e+01 0.000e+00 0.000e+00 0.000e+00\n",
      " 0.000e+00 0.000e+00 1.000e+00 0.000e+00 0.000e+00 4.182e+03 0.000e+00\n",
      " 1.100e+01 0.000e+00 0.000e+00 0.000e+00 0.000e+00 1.600e+01 8.500e+01\n",
      " 0.000e+00 0.000e+00 0.000e+00 6.440e+02 0.000e+00 2.000e+00 8.000e+00\n",
      " 0.000e+00 0.000e+00 0.000e+00 3.000e+00 0.000e+00 0.000e+00 0.000e+00\n",
      " 0.000e+00 0.000e+00 1.000e+00 0.000e+00 9.000e+00 0.000e+00 0.000e+00\n",
      " 0.000e+00 0.000e+00 0.000e+00 2.700e+01 0.000e+00 0.000e+00 0.000e+00\n",
      " 1.000e+00 0.000e+00 0.000e+00 0.000e+00 1.600e+01 0.000e+00 0.000e+00\n",
      " 1.000e+00 0.000e+00 0.000e+00 0.000e+00 8.000e+00 0.000e+00 1.718e+03\n",
      " 0.000e+00 0.000e+00 0.000e+00 0.000e+00 0.000e+00 0.000e+00 0.000e+00\n",
      " 0.000e+00 0.000e+00 0.000e+00 0.000e+00 0.000e+00 0.000e+00 1.100e+01\n",
      " 5.000e+00 0.000e+00 0.000e+00 0.000e+00 0.000e+00 0.000e+00 0.000e+00\n",
      " 0.000e+00 0.000e+00 0.000e+00 0.000e+00 0.000e+00 0.000e+00 1.700e+01\n",
      " 0.000e+00 0.000e+00 1.000e+00 0.000e+00 0.000e+00 0.000e+00 6.000e+00\n",
      " 1.000e+00 0.000e+00 0.000e+00 1.900e+01 0.000e+00 0.000e+00 0.000e+00\n",
      " 0.000e+00 0.000e+00 3.000e+00 0.000e+00 0.000e+00 1.000e+00 3.000e+00\n",
      " 0.000e+00 2.000e+00 0.000e+00 3.800e+01 1.000e+00 0.000e+00 0.000e+00\n",
      " 1.000e+00 0.000e+00 0.000e+00 0.000e+00 0.000e+00 6.300e+01 0.000e+00\n",
      " 0.000e+00 0.000e+00 7.000e+00 0.000e+00 0.000e+00 0.000e+00 2.000e+00\n",
      " 0.000e+00 2.000e+00 0.000e+00 1.100e+01 0.000e+00 6.000e+00 2.000e+00\n",
      " 0.000e+00 0.000e+00 1.000e+00 6.800e+01 1.000e+01 4.000e+00 0.000e+00\n",
      " 0.000e+00 0.000e+00 0.000e+00 4.300e+01 0.000e+00 4.000e+00 0.000e+00\n",
      " 2.000e+00 4.800e+01 0.000e+00 2.000e+00 0.000e+00 0.000e+00 0.000e+00\n",
      " 5.600e+01 0.000e+00 5.000e+00 0.000e+00 0.000e+00 0.000e+00 1.000e+00\n",
      " 0.000e+00 2.000e+00 4.000e+00 4.200e+01 0.000e+00 0.000e+00 0.000e+00\n",
      " 4.390e+02 0.000e+00 2.190e+02 2.000e+00 0.000e+00 5.000e+00 0.000e+00\n",
      " 6.000e+00 5.000e+00 0.000e+00 0.000e+00 4.900e+01 0.000e+00 0.000e+00\n",
      " 0.000e+00 1.200e+01 0.000e+00 3.000e+01 1.000e+00 0.000e+00 1.000e+00\n",
      " 0.000e+00 2.700e+01 4.900e+01 1.000e+00 2.800e+01 0.000e+00 0.000e+00\n",
      " 0.000e+00 0.000e+00 0.000e+00 0.000e+00 1.000e+00 0.000e+00 1.000e+00\n",
      " 1.700e+01 0.000e+00 2.000e+00 0.000e+00 3.000e+00 0.000e+00]\n"
     ]
    },
    {
     "data": {
      "text/plain": [
       "array([0.000e+00, 0.000e+00, 0.000e+00, 0.000e+00, 1.000e+00, 0.000e+00,\n",
       "       4.000e+00, 5.000e+00, 0.000e+00, 0.000e+00, 6.000e+00, 1.000e+00,\n",
       "       0.000e+00, 0.000e+00, 1.000e+00, 0.000e+00, 0.000e+00, 2.100e+01,\n",
       "       0.000e+00, 1.000e+00, 0.000e+00, 0.000e+00, 0.000e+00, 0.000e+00,\n",
       "       1.830e+02, 0.000e+00, 1.000e+00, 0.000e+00, 7.000e+00, 0.000e+00,\n",
       "       0.000e+00, 5.000e+00, 0.000e+00, 0.000e+00, 1.000e+00, 8.020e+02,\n",
       "       7.900e+01, 0.000e+00, 1.100e+01, 0.000e+00, 1.000e+00, 0.000e+00,\n",
       "       0.000e+00, 0.000e+00, 3.600e+01, 4.000e+00, 0.000e+00, 1.000e+00,\n",
       "       2.000e+00, 0.000e+00, 1.000e+01, 0.000e+00, 9.000e+00, 0.000e+00,\n",
       "       0.000e+00, 0.000e+00, 1.000e+00, 1.000e+00, 0.000e+00, 0.000e+00,\n",
       "       0.000e+00, 3.000e+00, 0.000e+00, 0.000e+00, 6.000e+00, 0.000e+00,\n",
       "       0.000e+00, 1.400e+01, 0.000e+00, 0.000e+00, 0.000e+00, 0.000e+00,\n",
       "       0.000e+00, 0.000e+00, 1.000e+00, 0.000e+00, 0.000e+00, 2.000e+00,\n",
       "       1.000e+00, 3.000e+01, 0.000e+00, 1.000e+00, 0.000e+00, 0.000e+00,\n",
       "       1.100e+01, 4.650e+02, 0.000e+00, 1.000e+00, 1.000e+00, 0.000e+00,\n",
       "       0.000e+00, 0.000e+00, 0.000e+00, 8.000e+00, 2.000e+00, 1.000e+00,\n",
       "       3.000e+00, 0.000e+00, 0.000e+00, 0.000e+00, 1.400e+01, 1.000e+00,\n",
       "       0.000e+00, 0.000e+00, 1.000e+00, 0.000e+00, 0.000e+00, 2.000e+00,\n",
       "       0.000e+00, 1.000e+00, 0.000e+00, 1.570e+02, 0.000e+00, 0.000e+00,\n",
       "       0.000e+00, 2.000e+00, 5.100e+01, 0.000e+00, 0.000e+00, 2.000e+00,\n",
       "       0.000e+00, 0.000e+00, 1.000e+00, 0.000e+00, 4.000e+00, 0.000e+00,\n",
       "       1.000e+00, 0.000e+00, 0.000e+00, 2.000e+00, 4.000e+00, 0.000e+00,\n",
       "       0.000e+00, 6.000e+00, 0.000e+00, 2.000e+00, 0.000e+00, 0.000e+00,\n",
       "       0.000e+00, 0.000e+00, 0.000e+00, 1.100e+01, 0.000e+00, 0.000e+00,\n",
       "       4.000e+00, 0.000e+00, 1.000e+00, 1.000e+00, 5.000e+00, 0.000e+00,\n",
       "       3.700e+02, 0.000e+00, 2.000e+00, 0.000e+00, 0.000e+00, 0.000e+00,\n",
       "       0.000e+00, 8.380e+02, 0.000e+00, 0.000e+00, 0.000e+00, 0.000e+00,\n",
       "       0.000e+00, 0.000e+00, 3.000e+00, 6.000e+00, 0.000e+00, 0.000e+00,\n",
       "       0.000e+00, 0.000e+00, 0.000e+00, 0.000e+00, 1.000e+00, 0.000e+00,\n",
       "       0.000e+00, 4.900e+01, 0.000e+00, 0.000e+00, 1.000e+00, 0.000e+00,\n",
       "       0.000e+00, 0.000e+00, 0.000e+00, 0.000e+00, 4.000e+00, 0.000e+00,\n",
       "       0.000e+00, 0.000e+00, 0.000e+00, 4.700e+01, 0.000e+00, 0.000e+00,\n",
       "       0.000e+00, 0.000e+00, 0.000e+00, 0.000e+00, 1.000e+00, 0.000e+00,\n",
       "       0.000e+00, 0.000e+00, 0.000e+00, 0.000e+00, 0.000e+00, 1.000e+00,\n",
       "       8.060e+02, 1.000e+00, 9.000e+00, 0.000e+00, 0.000e+00, 0.000e+00,\n",
       "       0.000e+00, 0.000e+00, 1.000e+00, 1.000e+00, 0.000e+00, 2.000e+00,\n",
       "       1.000e+00, 0.000e+00, 0.000e+00, 0.000e+00, 5.710e+02, 1.000e+00,\n",
       "       0.000e+00, 0.000e+00, 1.144e+03, 0.000e+00, 0.000e+00, 0.000e+00,\n",
       "       2.000e+00, 5.000e+00, 5.340e+02, 1.000e+00, 0.000e+00, 0.000e+00,\n",
       "       1.000e+00, 1.330e+02, 0.000e+00, 7.000e+00, 0.000e+00, 0.000e+00,\n",
       "       0.000e+00, 0.000e+00, 5.000e+00, 5.000e+00, 0.000e+00, 0.000e+00,\n",
       "       1.000e+00, 0.000e+00, 3.000e+00, 0.000e+00, 0.000e+00, 0.000e+00,\n",
       "       0.000e+00, 0.000e+00, 0.000e+00, 0.000e+00, 0.000e+00, 0.000e+00,\n",
       "       0.000e+00, 2.600e+01, 3.000e+00, 0.000e+00, 0.000e+00, 1.000e+00,\n",
       "       0.000e+00, 0.000e+00, 1.000e+01, 0.000e+00, 0.000e+00, 3.400e+01,\n",
       "       2.300e+01, 1.390e+03, 0.000e+00, 0.000e+00, 0.000e+00, 1.000e+00,\n",
       "       0.000e+00, 0.000e+00, 0.000e+00, 0.000e+00, 0.000e+00, 2.000e+00,\n",
       "       2.000e+00, 0.000e+00, 1.300e+01, 6.000e+00, 0.000e+00, 6.000e+00,\n",
       "       0.000e+00, 4.000e+00, 1.210e+02, 1.000e+00, 0.000e+00, 0.000e+00,\n",
       "       9.000e+00, 0.000e+00, 0.000e+00, 2.900e+01, 4.000e+00, 1.000e+00,\n",
       "       0.000e+00, 0.000e+00, 5.000e+00, 1.000e+00, 0.000e+00, 8.000e+00,\n",
       "       0.000e+00, 0.000e+00, 0.000e+00, 0.000e+00, 0.000e+00, 1.000e+01,\n",
       "       0.000e+00, 0.000e+00, 0.000e+00, 0.000e+00, 0.000e+00, 0.000e+00,\n",
       "       1.200e+01, 2.000e+00, 0.000e+00, 0.000e+00, 4.000e+00, 5.000e+00,\n",
       "       0.000e+00, 0.000e+00, 0.000e+00, 0.000e+00, 0.000e+00, 0.000e+00,\n",
       "       0.000e+00, 0.000e+00, 3.000e+00, 7.000e+00, 0.000e+00, 0.000e+00,\n",
       "       0.000e+00, 0.000e+00, 0.000e+00, 2.000e+00, 0.000e+00, 0.000e+00,\n",
       "       0.000e+00, 0.000e+00, 0.000e+00, 2.900e+01, 0.000e+00, 0.000e+00,\n",
       "       0.000e+00, 0.000e+00, 5.000e+00, 0.000e+00, 0.000e+00, 5.000e+00,\n",
       "       0.000e+00, 3.000e+00, 0.000e+00, 0.000e+00, 0.000e+00, 0.000e+00,\n",
       "       1.000e+00, 1.000e+00, 0.000e+00, 0.000e+00, 0.000e+00, 0.000e+00,\n",
       "       3.000e+00, 0.000e+00, 0.000e+00, 2.600e+01, 0.000e+00, 0.000e+00,\n",
       "       0.000e+00, 0.000e+00, 1.000e+00, 1.000e+00, 5.920e+02, 0.000e+00,\n",
       "       0.000e+00, 0.000e+00, 0.000e+00, 0.000e+00, 0.000e+00, 1.300e+01,\n",
       "       3.000e+01, 2.000e+00, 5.700e+01, 0.000e+00, 0.000e+00, 0.000e+00,\n",
       "       0.000e+00, 1.100e+01, 0.000e+00, 0.000e+00, 0.000e+00, 1.000e+00,\n",
       "       0.000e+00, 1.000e+00, 0.000e+00, 0.000e+00, 0.000e+00, 0.000e+00,\n",
       "       1.000e+00, 0.000e+00, 0.000e+00, 0.000e+00, 0.000e+00, 5.400e+01,\n",
       "       0.000e+00, 0.000e+00, 0.000e+00, 0.000e+00, 0.000e+00, 2.000e+01,\n",
       "       0.000e+00, 0.000e+00, 0.000e+00, 0.000e+00, 0.000e+00, 0.000e+00,\n",
       "       0.000e+00, 0.000e+00, 0.000e+00, 2.000e+00, 0.000e+00, 1.000e+00,\n",
       "       2.000e+00, 1.000e+00, 0.000e+00, 0.000e+00, 0.000e+00, 0.000e+00,\n",
       "       1.000e+00, 0.000e+00, 0.000e+00, 1.000e+00, 1.000e+00, 7.000e+00,\n",
       "       1.000e+00, 0.000e+00, 0.000e+00, 0.000e+00, 0.000e+00, 0.000e+00,\n",
       "       2.000e+00, 0.000e+00, 0.000e+00, 1.900e+01, 2.000e+00, 0.000e+00,\n",
       "       0.000e+00, 0.000e+00, 1.400e+01, 0.000e+00, 1.000e+00, 1.900e+01,\n",
       "       0.000e+00, 0.000e+00, 0.000e+00, 0.000e+00, 0.000e+00, 9.000e+00,\n",
       "       2.000e+00, 0.000e+00, 0.000e+00, 0.000e+00, 0.000e+00, 0.000e+00,\n",
       "       0.000e+00, 1.000e+00, 8.000e+00, 1.000e+00, 0.000e+00, 0.000e+00,\n",
       "       0.000e+00, 2.500e+01, 0.000e+00, 0.000e+00, 0.000e+00, 4.000e+00,\n",
       "       5.000e+01, 0.000e+00, 0.000e+00, 0.000e+00, 0.000e+00, 0.000e+00,\n",
       "       1.000e+00, 1.000e+00, 0.000e+00, 0.000e+00, 0.000e+00, 1.000e+00,\n",
       "       0.000e+00, 5.000e+01, 4.000e+00, 0.000e+00, 0.000e+00, 0.000e+00,\n",
       "       0.000e+00, 1.100e+01, 4.000e+00, 1.300e+01, 0.000e+00, 0.000e+00,\n",
       "       0.000e+00, 2.000e+00, 0.000e+00, 0.000e+00, 1.000e+00, 1.000e+00,\n",
       "       3.000e+00, 5.000e+00, 0.000e+00, 0.000e+00, 5.000e+01, 0.000e+00,\n",
       "       0.000e+00, 0.000e+00, 0.000e+00, 0.000e+00, 0.000e+00, 0.000e+00,\n",
       "       0.000e+00, 0.000e+00, 0.000e+00, 0.000e+00, 2.000e+00, 0.000e+00,\n",
       "       0.000e+00, 0.000e+00, 1.200e+01, 0.000e+00, 1.600e+01, 1.000e+00,\n",
       "       0.000e+00, 5.000e+02, 0.000e+00, 0.000e+00, 0.000e+00, 8.000e+00,\n",
       "       2.700e+01, 1.800e+01, 2.000e+00, 1.000e+00, 0.000e+00, 0.000e+00,\n",
       "       1.330e+02, 1.000e+00, 0.000e+00, 2.000e+00, 0.000e+00, 0.000e+00,\n",
       "       0.000e+00, 0.000e+00, 0.000e+00, 0.000e+00, 1.000e+00, 5.000e+00,\n",
       "       0.000e+00, 5.000e+00, 1.000e+00, 0.000e+00, 0.000e+00, 1.000e+00,\n",
       "       0.000e+00, 1.000e+00, 6.000e+00, 1.100e+01, 2.000e+00, 0.000e+00,\n",
       "       0.000e+00, 0.000e+00, 0.000e+00, 0.000e+00, 0.000e+00, 0.000e+00,\n",
       "       3.000e+00, 0.000e+00, 0.000e+00, 4.500e+01, 4.400e+01, 1.000e+00,\n",
       "       1.500e+01, 0.000e+00, 2.000e+00, 0.000e+00, 0.000e+00, 0.000e+00,\n",
       "       2.000e+00, 3.250e+02, 0.000e+00, 0.000e+00, 0.000e+00, 0.000e+00,\n",
       "       5.300e+01, 0.000e+00, 1.000e+00, 0.000e+00, 0.000e+00, 0.000e+00,\n",
       "       1.000e+00, 0.000e+00, 0.000e+00, 8.500e+01, 2.000e+00, 0.000e+00,\n",
       "       0.000e+00, 0.000e+00, 4.000e+00, 0.000e+00, 2.000e+00, 1.900e+01,\n",
       "       2.000e+00, 0.000e+00, 0.000e+00, 0.000e+00, 0.000e+00, 0.000e+00,\n",
       "       0.000e+00, 0.000e+00, 0.000e+00, 0.000e+00, 0.000e+00, 2.000e+00,\n",
       "       8.000e+00, 0.000e+00, 0.000e+00, 2.000e+00, 0.000e+00, 0.000e+00,\n",
       "       0.000e+00, 9.000e+00, 0.000e+00, 0.000e+00, 0.000e+00, 5.000e+00,\n",
       "       7.800e+01, 1.000e+00, 1.000e+00, 0.000e+00, 2.000e+00, 0.000e+00,\n",
       "       0.000e+00, 4.400e+01, 1.000e+00, 0.000e+00, 0.000e+00, 2.100e+01,\n",
       "       1.130e+02, 5.000e+00, 0.000e+00, 0.000e+00, 0.000e+00, 1.000e+01,\n",
       "       0.000e+00, 0.000e+00, 1.600e+01, 0.000e+00, 7.900e+01, 0.000e+00,\n",
       "       1.000e+00, 0.000e+00, 0.000e+00, 0.000e+00, 1.000e+00, 0.000e+00,\n",
       "       2.000e+00, 9.000e+00, 0.000e+00, 7.000e+00, 1.210e+02, 0.000e+00,\n",
       "       0.000e+00, 8.030e+02, 0.000e+00, 0.000e+00, 0.000e+00, 4.000e+00,\n",
       "       2.000e+00, 0.000e+00, 0.000e+00, 3.000e+00, 0.000e+00, 0.000e+00,\n",
       "       0.000e+00, 0.000e+00, 1.100e+01, 0.000e+00, 0.000e+00, 0.000e+00,\n",
       "       2.000e+00, 0.000e+00, 2.000e+00, 0.000e+00, 7.000e+00, 8.000e+00,\n",
       "       0.000e+00, 0.000e+00, 0.000e+00, 1.000e+00, 0.000e+00, 0.000e+00,\n",
       "       0.000e+00, 2.000e+00, 0.000e+00, 0.000e+00, 1.300e+01, 0.000e+00,\n",
       "       0.000e+00, 2.100e+01, 4.000e+00, 0.000e+00, 1.000e+01, 0.000e+00,\n",
       "       0.000e+00, 0.000e+00, 1.000e+00, 1.000e+00, 2.000e+00, 0.000e+00,\n",
       "       0.000e+00, 2.200e+01, 0.000e+00, 0.000e+00, 1.000e+00, 0.000e+00,\n",
       "       0.000e+00, 0.000e+00, 0.000e+00, 0.000e+00, 0.000e+00, 1.000e+00,\n",
       "       4.000e+00, 0.000e+00, 0.000e+00, 0.000e+00, 2.000e+00, 3.900e+01,\n",
       "       0.000e+00, 0.000e+00, 0.000e+00, 0.000e+00, 0.000e+00, 0.000e+00,\n",
       "       0.000e+00, 2.000e+00, 0.000e+00, 2.000e+00, 1.000e+00, 0.000e+00,\n",
       "       0.000e+00, 0.000e+00, 4.000e+00, 0.000e+00, 1.000e+00, 0.000e+00,\n",
       "       0.000e+00, 0.000e+00, 0.000e+00, 0.000e+00, 1.000e+00, 5.000e+00,\n",
       "       0.000e+00, 0.000e+00, 0.000e+00, 0.000e+00, 0.000e+00, 0.000e+00,\n",
       "       0.000e+00, 0.000e+00, 2.100e+01, 0.000e+00, 0.000e+00, 0.000e+00,\n",
       "       0.000e+00, 0.000e+00, 2.000e+00, 0.000e+00, 1.000e+00, 0.000e+00,\n",
       "       0.000e+00, 0.000e+00, 1.000e+00, 2.800e+01, 2.000e+00, 0.000e+00,\n",
       "       0.000e+00, 5.200e+01, 0.000e+00, 0.000e+00, 0.000e+00, 0.000e+00,\n",
       "       0.000e+00, 1.000e+00, 0.000e+00, 0.000e+00, 4.182e+03, 0.000e+00,\n",
       "       1.100e+01, 0.000e+00, 0.000e+00, 0.000e+00, 0.000e+00, 1.600e+01,\n",
       "       8.500e+01, 0.000e+00, 0.000e+00, 0.000e+00, 6.440e+02, 0.000e+00,\n",
       "       2.000e+00, 8.000e+00, 0.000e+00, 0.000e+00, 0.000e+00, 3.000e+00,\n",
       "       0.000e+00, 0.000e+00, 0.000e+00, 0.000e+00, 0.000e+00, 1.000e+00,\n",
       "       0.000e+00, 9.000e+00, 0.000e+00, 0.000e+00, 0.000e+00, 0.000e+00,\n",
       "       0.000e+00, 2.700e+01, 0.000e+00, 0.000e+00, 0.000e+00, 1.000e+00,\n",
       "       0.000e+00, 0.000e+00, 0.000e+00, 1.600e+01, 0.000e+00, 0.000e+00,\n",
       "       1.000e+00, 0.000e+00, 0.000e+00, 0.000e+00, 8.000e+00, 0.000e+00,\n",
       "       1.718e+03, 0.000e+00, 0.000e+00, 0.000e+00, 0.000e+00, 0.000e+00,\n",
       "       0.000e+00, 0.000e+00, 0.000e+00, 0.000e+00, 0.000e+00, 0.000e+00,\n",
       "       0.000e+00, 0.000e+00, 1.100e+01, 5.000e+00, 0.000e+00, 0.000e+00,\n",
       "       0.000e+00, 0.000e+00, 0.000e+00, 0.000e+00, 0.000e+00, 0.000e+00,\n",
       "       0.000e+00, 0.000e+00, 0.000e+00, 0.000e+00, 1.700e+01, 0.000e+00,\n",
       "       0.000e+00, 1.000e+00, 0.000e+00, 0.000e+00, 0.000e+00, 6.000e+00,\n",
       "       1.000e+00, 0.000e+00, 0.000e+00, 1.900e+01, 0.000e+00, 0.000e+00,\n",
       "       0.000e+00, 0.000e+00, 0.000e+00, 3.000e+00, 0.000e+00, 0.000e+00,\n",
       "       1.000e+00, 3.000e+00, 0.000e+00, 2.000e+00, 0.000e+00, 3.800e+01,\n",
       "       1.000e+00, 0.000e+00, 0.000e+00, 1.000e+00, 0.000e+00, 0.000e+00,\n",
       "       0.000e+00, 0.000e+00, 6.300e+01, 0.000e+00, 0.000e+00, 0.000e+00,\n",
       "       7.000e+00, 0.000e+00, 0.000e+00, 0.000e+00, 2.000e+00, 0.000e+00,\n",
       "       2.000e+00, 0.000e+00, 1.100e+01, 0.000e+00, 6.000e+00, 2.000e+00,\n",
       "       0.000e+00, 0.000e+00, 1.000e+00, 6.800e+01, 1.000e+01, 4.000e+00,\n",
       "       0.000e+00, 0.000e+00, 0.000e+00, 0.000e+00, 4.300e+01, 0.000e+00,\n",
       "       4.000e+00, 0.000e+00, 2.000e+00, 4.800e+01, 0.000e+00, 2.000e+00,\n",
       "       0.000e+00, 0.000e+00, 0.000e+00, 5.600e+01, 0.000e+00, 5.000e+00,\n",
       "       0.000e+00, 0.000e+00, 0.000e+00, 1.000e+00, 0.000e+00, 2.000e+00,\n",
       "       4.000e+00, 4.200e+01, 0.000e+00, 0.000e+00, 0.000e+00, 4.390e+02,\n",
       "       0.000e+00, 2.190e+02, 2.000e+00, 0.000e+00, 5.000e+00, 0.000e+00,\n",
       "       6.000e+00, 5.000e+00, 0.000e+00, 0.000e+00, 4.900e+01, 0.000e+00,\n",
       "       0.000e+00, 0.000e+00, 1.200e+01, 0.000e+00, 3.000e+01, 1.000e+00,\n",
       "       0.000e+00, 1.000e+00, 0.000e+00, 2.700e+01, 4.900e+01, 1.000e+00,\n",
       "       2.800e+01, 0.000e+00, 0.000e+00, 0.000e+00, 0.000e+00, 0.000e+00,\n",
       "       0.000e+00, 1.000e+00, 0.000e+00, 1.000e+00, 1.700e+01, 0.000e+00,\n",
       "       2.000e+00, 0.000e+00, 3.000e+00, 0.000e+00])"
      ]
     },
     "execution_count": 12,
     "metadata": {
      "tags": []
     },
     "output_type": "execute_result"
    }
   ],
   "source": [
    "num_products = env_1_args['num_products']\n",
    "popularity_agent = OverallPopularityAgent(Configuration(env_1_args))\n",
    "exp_run = ExperimentRunner(deepcopy(env), deepcopy(popularity_agent), 1000, 1000)\n",
    "exp_run.run()"
   ]
  },
  {
   "cell_type": "code",
   "execution_count": null,
   "metadata": {
    "colab": {},
    "colab_type": "code",
    "id": "5K6pVnTJnqFE"
   },
   "outputs": [],
   "source": [
    "import numpy as np\n",
    "\n",
    "class Graph:\n",
    "    def __init__(self, num_items):\n",
    "        self.adj = np.zeros((num_items, num_items))\n",
    "    \n",
    "    def add(self, from_node, to_node, value=1):\n",
    "        self.adj[from_node, to_node] += value\n",
    "\n",
    "    def __str__(self):\n",
    "        return str(self.adj)\n",
    "    \n",
    "    def __repr__(self):\n",
    "        return str(self)"
   ]
  },
  {
   "cell_type": "code",
   "execution_count": null,
   "metadata": {
    "colab": {},
    "colab_type": "code",
    "id": "6aloRzbNUst3"
   },
   "outputs": [],
   "source": [
    "class SimpleGraphMatrixAgent(Agent):\n",
    "    def __init__(self, config):\n",
    "        # Set number of products as an attribute of the Agent.\n",
    "        super(SimpleGraphMatrixAgent, self).__init__(config)\n",
    "\n",
    "        # Track number of times each item viewed in Organic session.\n",
    "        self.organic_views = Graph(self.config.num_products)\n",
    "\n",
    "    def train(self, observation, action, reward, done):\n",
    "        \"\"\"Train method learns from a tuple of data.\n",
    "            this method can be called for offline or online learning\"\"\"\n",
    "\n",
    "        # Adding organic session to organic view counts.\n",
    "        if observation:\n",
    "            previous_item = None\n",
    "            for session in observation.sessions():\n",
    "                current_item = session['v']\n",
    "                if previous_item is not None:\n",
    "                    self.organic_views.add(previous_item, current_item)\n",
    "                previous_item = current_item\n",
    "    def act(self, observation, reward, done):\n",
    "        \"\"\"Act method returns an action based on current observation and past\n",
    "            history\"\"\"\n",
    "\n",
    "        # Choosing action randomly in proportion with number of views.\n",
    "        if observation is not None and len(observation.current_sessions) > 0:\n",
    "            current_items, counts = np.unique([sess['v'] for sess in observation.current_sessions], return_counts=True)\n",
    "            probas = counts / np.sum(counts) # Numerical stability\n",
    "            node = np.random.choice(current_items, p = probas)\n",
    "            potentials = self.organic_views.adj[node, :]\n",
    "            action = node\n",
    "            #print(current_items, counts)\n",
    "            #print(potentials)\n",
    "            #prob = self.organic_views / sum(self.organic_views)\n",
    "        else:\n",
    "            action = choice(self.config.num_products)#, p = prob)\n",
    "\n",
    "        return {\n",
    "            **super().act(observation, reward, done),\n",
    "            **{\n",
    "                'a': action,\n",
    "                'ps': 1 #prob[action]\n",
    "            }\n",
    "        }\n",
    "    def infos(self):\n",
    "        return self.organic_views"
   ]
  },
  {
   "cell_type": "code",
   "execution_count": null,
   "metadata": {
    "colab": {
     "base_uri": "https://localhost:8080/",
     "height": 278
    },
    "colab_type": "code",
    "id": "g7F0-PvabIRT",
    "outputId": "c567915d-2492-4a18-d366-3d32f04131fe"
   },
   "outputs": [
    {
     "name": "stdout",
     "output_type": "stream",
     "text": [
      "Click Through Rate: 0.0111\n",
      "[[0. 0. 0. ... 0. 0. 0.]\n",
      " [0. 0. 0. ... 0. 0. 0.]\n",
      " [0. 0. 0. ... 0. 0. 0.]\n",
      " ...\n",
      " [0. 0. 0. ... 0. 0. 0.]\n",
      " [0. 0. 0. ... 0. 0. 0.]\n",
      " [0. 0. 0. ... 0. 0. 0.]]\n"
     ]
    },
    {
     "data": {
      "text/plain": [
       "[[0. 0. 0. ... 0. 0. 0.]\n",
       " [0. 0. 0. ... 0. 0. 0.]\n",
       " [0. 0. 0. ... 0. 0. 0.]\n",
       " ...\n",
       " [0. 0. 0. ... 0. 0. 0.]\n",
       " [0. 0. 0. ... 0. 0. 0.]\n",
       " [0. 0. 0. ... 0. 0. 0.]]"
      ]
     },
     "execution_count": 15,
     "metadata": {
      "tags": []
     },
     "output_type": "execute_result"
    }
   ],
   "source": [
    "num_products = env_1_args['num_products']\n",
    "simple_graph_matrix_agent = SimpleGraphMatrixAgent(Configuration(env_1_args))\n",
    "exp_run = ExperimentRunner(deepcopy(env), deepcopy(simple_graph_matrix_agent), 1000, 1000)\n",
    "exp_run.run()"
   ]
  },
  {
   "cell_type": "code",
   "execution_count": null,
   "metadata": {
    "colab": {},
    "colab_type": "code",
    "id": "_Q83VJdmbXTY"
   },
   "outputs": [],
   "source": [
    "class GraphMatrixAgent(Agent):\n",
    "    def __init__(self, config):\n",
    "        # Set number of products as an attribute of the Agent.\n",
    "        super(GraphMatrixAgent, self).__init__(config)\n",
    "\n",
    "        # Track number of times each item viewed in Organic session.\n",
    "        self.organic_views = Graph(self.config.num_products)\n",
    "\n",
    "    def train(self, observation, action, reward, done):\n",
    "        \"\"\"Train method learns from a tuple of data.\n",
    "            this method can be called for offline or online learning\"\"\"\n",
    "\n",
    "        # Adding organic session to organic view counts.\n",
    "        if observation:\n",
    "            previous_item = None\n",
    "            for session in observation.sessions():\n",
    "                current_item = session['v']\n",
    "                if previous_item is not None:\n",
    "                    self.organic_views.add(previous_item, current_item)\n",
    "                previous_item = current_item\n",
    "    def act(self, observation, reward, done):\n",
    "        \"\"\"Act method returns an action based on current observation and past\n",
    "            history\"\"\"\n",
    "        # Choosing action randomly in proportion with number of views.\n",
    "        if observation is not None and len(observation.current_sessions) > 0:\n",
    "            current_items, counts = np.unique([sess['v'] for sess in observation.current_sessions], return_counts=True)\n",
    "            probas = counts / np.sum(counts) # Numerical stability\n",
    "            node = np.random.choice(current_items, p = probas)\n",
    "            potentials = self.organic_views.adj[node, :]\n",
    "            action = node\n",
    "            mask = np.ones(self.config.num_products)\n",
    "            #mask[np.array(current_items)] = 0\n",
    "            sum_potentials = np.sum(potentials * mask)\n",
    "            if sum_potentials != 0:\n",
    "                next_probas = (potentials * mask) / sum_potentials\n",
    "                actions = np.random.choice(np.arange(len(potentials)), p = next_probas)\n",
    "            else:\n",
    "                action = choice(self.config.num_products)\n",
    "            #prob = self.organic_views / sum(self.organic_views)\n",
    "        else:\n",
    "            action = choice(self.config.num_products)#, p = prob)\n",
    "\n",
    "        return {\n",
    "            **super().act(observation, reward, done),\n",
    "            **{\n",
    "                'a': action,\n",
    "                'ps': 1 #prob[action]\n",
    "            }\n",
    "        }\n",
    "    def infos(self):\n",
    "        return self.organic_views"
   ]
  },
  {
   "cell_type": "code",
   "execution_count": null,
   "metadata": {
    "colab": {
     "base_uri": "https://localhost:8080/",
     "height": 278
    },
    "colab_type": "code",
    "id": "kHwBwoM3hhMb",
    "outputId": "f7ae4760-8532-4aaf-91d8-2b4b9d2714d4"
   },
   "outputs": [
    {
     "name": "stdout",
     "output_type": "stream",
     "text": [
      "Click Through Rate: 0.0121\n",
      "[[0. 0. 0. ... 0. 0. 0.]\n",
      " [0. 0. 0. ... 0. 0. 0.]\n",
      " [0. 0. 0. ... 0. 0. 0.]\n",
      " ...\n",
      " [0. 0. 0. ... 0. 0. 0.]\n",
      " [0. 0. 0. ... 0. 0. 0.]\n",
      " [0. 0. 0. ... 0. 0. 0.]]\n"
     ]
    },
    {
     "data": {
      "text/plain": [
       "[[0. 0. 0. ... 0. 0. 0.]\n",
       " [0. 0. 0. ... 0. 0. 0.]\n",
       " [0. 0. 0. ... 0. 0. 0.]\n",
       " ...\n",
       " [0. 0. 0. ... 0. 0. 0.]\n",
       " [0. 0. 0. ... 0. 0. 0.]\n",
       " [0. 0. 0. ... 0. 0. 0.]]"
      ]
     },
     "execution_count": 17,
     "metadata": {
      "tags": []
     },
     "output_type": "execute_result"
    }
   ],
   "source": [
    "num_products = env_1_args['num_products']\n",
    "graph_matrix_agent = GraphMatrixAgent(Configuration(env_1_args))\n",
    "exp_run = ExperimentRunner(deepcopy(env), deepcopy(graph_matrix_agent), 1000, 1000)\n",
    "exp_run.run()"
   ]
  },
  {
   "cell_type": "code",
   "execution_count": null,
   "metadata": {
    "colab": {},
    "colab_type": "code",
    "id": "5ixiIIw5hmHf"
   },
   "outputs": [],
   "source": [
    "class UnseenGraphMatrixAgent(Agent):\n",
    "    def __init__(self, config):\n",
    "        # Set number of products as an attribute of the Agent.\n",
    "        super(UnseenGraphMatrixAgent, self).__init__(config)\n",
    "\n",
    "        # Track number of times each item viewed in Organic session.\n",
    "        self.organic_views = Graph(self.config.num_products)\n",
    "\n",
    "    def train(self, observation, action, reward, done):\n",
    "        \"\"\"Train method learns from a tuple of data.\n",
    "            this method can be called for offline or online learning\"\"\"\n",
    "\n",
    "        # Adding organic session to organic view counts.\n",
    "        if observation:\n",
    "            previous_item = None\n",
    "            for session in observation.sessions():\n",
    "                current_item = session['v']\n",
    "                if previous_item is not None:\n",
    "                    self.organic_views.add(previous_item, current_item)\n",
    "                previous_item = current_item\n",
    "    def act(self, observation, reward, done):\n",
    "        \"\"\"Act method returns an action based on current observation and past\n",
    "            history\"\"\"\n",
    "        # Choosing action randomly in proportion with number of views.\n",
    "        if observation is not None and len(observation.current_sessions) > 0:\n",
    "            current_items, counts = np.unique([sess['v'] for sess in observation.current_sessions], return_counts=True)\n",
    "            probas = counts / np.sum(counts) # Numerical stability\n",
    "            node = np.random.choice(current_items, p = probas)\n",
    "            potentials = self.organic_views.adj[node, :]\n",
    "            action = node\n",
    "            mask = np.ones(self.config.num_products)\n",
    "            mask[np.array(current_items)] = 0\n",
    "            sum_potentials = np.sum(potentials * mask)\n",
    "            if sum_potentials != 0:\n",
    "                next_probas = (potentials * mask) / sum_potentials\n",
    "                actions = np.random.choice(np.arange(len(potentials)), p = next_probas)\n",
    "            else:\n",
    "                action = choice(self.config.num_products)\n",
    "            #prob = self.organic_views / sum(self.organic_views)\n",
    "        else:\n",
    "            action = choice(self.config.num_products)#, p = prob)\n",
    "\n",
    "        return {\n",
    "            **super().act(observation, reward, done),\n",
    "            **{\n",
    "                'a': action,\n",
    "                'ps': 1 #prob[action]\n",
    "            }\n",
    "        }\n",
    "    def infos(self):\n",
    "        return self.organic_views"
   ]
  },
  {
   "cell_type": "code",
   "execution_count": null,
   "metadata": {
    "colab": {
     "base_uri": "https://localhost:8080/",
     "height": 278
    },
    "colab_type": "code",
    "id": "RqWHWw8Siol3",
    "outputId": "a9fb6528-bbba-4871-c090-3c1633e1b7f1"
   },
   "outputs": [
    {
     "name": "stdout",
     "output_type": "stream",
     "text": [
      "Click Through Rate: 0.0112\n",
      "[[0. 0. 0. ... 0. 0. 0.]\n",
      " [0. 0. 0. ... 0. 0. 0.]\n",
      " [0. 0. 0. ... 0. 0. 0.]\n",
      " ...\n",
      " [0. 0. 0. ... 0. 0. 0.]\n",
      " [0. 0. 0. ... 0. 0. 0.]\n",
      " [0. 0. 0. ... 0. 0. 0.]]\n"
     ]
    },
    {
     "data": {
      "text/plain": [
       "[[0. 0. 0. ... 0. 0. 0.]\n",
       " [0. 0. 0. ... 0. 0. 0.]\n",
       " [0. 0. 0. ... 0. 0. 0.]\n",
       " ...\n",
       " [0. 0. 0. ... 0. 0. 0.]\n",
       " [0. 0. 0. ... 0. 0. 0.]\n",
       " [0. 0. 0. ... 0. 0. 0.]]"
      ]
     },
     "execution_count": 19,
     "metadata": {
      "tags": []
     },
     "output_type": "execute_result"
    }
   ],
   "source": [
    "num_products = env_1_args['num_products']\n",
    "unseen_graph_matrix_agent = UnseenGraphMatrixAgent(Configuration(env_1_args))\n",
    "exp_run = ExperimentRunner(deepcopy(env), deepcopy(unseen_graph_matrix_agent), 1000, 1000)\n",
    "exp_run.run()"
   ]
  },
  {
   "cell_type": "code",
   "execution_count": null,
   "metadata": {
    "colab": {
     "base_uri": "https://localhost:8080/",
     "height": 278
    },
    "colab_type": "code",
    "id": "Zq51l8t6isDL",
    "outputId": "13a10a3b-22bf-475a-de7d-3ebf7e39fd4f"
   },
   "outputs": [
    {
     "name": "stdout",
     "output_type": "stream",
     "text": [
      "Click Through Rate: 0.0107\n",
      "[[0. 0. 0. ... 0. 0. 0.]\n",
      " [0. 0. 0. ... 0. 0. 0.]\n",
      " [0. 0. 0. ... 0. 0. 0.]\n",
      " ...\n",
      " [0. 0. 0. ... 0. 0. 0.]\n",
      " [0. 0. 0. ... 0. 0. 0.]\n",
      " [0. 0. 0. ... 0. 0. 0.]]\n"
     ]
    },
    {
     "data": {
      "text/plain": [
       "[[0. 0. 0. ... 0. 0. 0.]\n",
       " [0. 0. 0. ... 0. 0. 0.]\n",
       " [0. 0. 0. ... 0. 0. 0.]\n",
       " ...\n",
       " [0. 0. 0. ... 0. 0. 0.]\n",
       " [0. 0. 0. ... 0. 0. 0.]\n",
       " [0. 0. 0. ... 0. 0. 0.]]"
      ]
     },
     "execution_count": 20,
     "metadata": {
      "tags": []
     },
     "output_type": "execute_result"
    }
   ],
   "source": [
    "def test_agent(env, agent, offline=1000, online=1000):\n",
    "    num_products = env_1_args['num_products']\n",
    "    exp_run = ExperimentRunner(deepcopy(env), deepcopy(agent), offline, online)\n",
    "    return exp_run.run()\n",
    "test_agent(env, UnseenGraphMatrixAgent(Configuration(env_1_args)))"
   ]
  },
  {
   "cell_type": "code",
   "execution_count": null,
   "metadata": {
    "colab": {
     "base_uri": "https://localhost:8080/",
     "height": 121
    },
    "colab_type": "code",
    "id": "V99NmdJZ7ZUD",
    "outputId": "96d9a3c1-6ce0-45af-d335-ca666cd09370"
   },
   "outputs": [
    {
     "name": "stderr",
     "output_type": "stream",
     "text": [
      "Offline Users:   0%|          | 0/1000 [00:00<?, ?it/s]"
     ]
    },
    {
     "name": "stdout",
     "output_type": "stream",
     "text": [
      "Start: Agent Training #0\n"
     ]
    },
    {
     "name": "stderr",
     "output_type": "stream",
     "text": [
      "Offline Users: 100%|██████████| 1000/1000 [00:26<00:00, 37.58it/s]\n",
      "Online Users:   1%|          | 9/1000 [00:00<00:11, 84.92it/s]"
     ]
    },
    {
     "name": "stdout",
     "output_type": "stream",
     "text": [
      "Start: Agent Testing #0\n"
     ]
    },
    {
     "name": "stderr",
     "output_type": "stream",
     "text": [
      "Online Users: 100%|██████████| 1000/1000 [00:28<00:00, 35.22it/s]"
     ]
    },
    {
     "name": "stdout",
     "output_type": "stream",
     "text": [
      "End: Agent Testing #0 (55.12728524208069s)\n"
     ]
    },
    {
     "name": "stderr",
     "output_type": "stream",
     "text": [
      "\n"
     ]
    },
    {
     "data": {
      "text/plain": [
       "(0.011705780504272742, 0.01096036363171598, 0.012483844660423848)"
      ]
     },
     "execution_count": 21,
     "metadata": {
      "tags": []
     },
     "output_type": "execute_result"
    }
   ],
   "source": [
    "recogym.test_agent(deepcopy(env), UnseenGraphMatrixAgent(Configuration(env_1_args)), 1000, 1000)"
   ]
  },
  {
   "cell_type": "code",
   "execution_count": null,
   "metadata": {
    "colab": {},
    "colab_type": "code",
    "id": "HporZElM9kEq"
   },
   "outputs": [],
   "source": [
    "class RewardMaskGraphMatrixAgent(Agent):\n",
    "    def __init__(self, config, penalty):\n",
    "        # Set number of products as an attribute of the Agent.\n",
    "        super(RewardMaskGraphMatrixAgent, self).__init__(config)\n",
    "\n",
    "        # Track number of times each item viewed in Organic session.\n",
    "        self.organic_views = Graph(self.config.num_products)\n",
    "        self.current_user = None\n",
    "        self.current_user_failed_reco = []\n",
    "        self.last_reco = None\n",
    "        self.penalty = penalty\n",
    "\n",
    "    def train(self, observation, action, reward, done):\n",
    "        \"\"\"Train method learns from a tuple of data.\n",
    "            this method can be called for offline or online learning\"\"\"\n",
    "\n",
    "        # Adding organic session to organic view counts.\n",
    "        if observation:\n",
    "            previous_item = None\n",
    "            for session in observation.sessions():\n",
    "                current_item = session['v']\n",
    "                if previous_item is not None:\n",
    "                    self.organic_views.add(previous_item, current_item)\n",
    "                previous_item = current_item\n",
    "\n",
    "    def act(self, observation, reward, done):\n",
    "        \"\"\"Act method returns an action based on current observation and past\n",
    "            history\"\"\"\n",
    "        # Choosing action randomly in proportion with number of views.\n",
    "        if observation is not None and len(observation.current_sessions) > 0:\n",
    "            current_user = observation.current_sessions[-1]['u']\n",
    "            if current_user != self.current_user:\n",
    "                self.current_user = current_user\n",
    "                self.current_user_failed_reco = []\n",
    "                self.last_reco = None\n",
    "            if reward is not None and reward == 0 and self.last_reco is not None:\n",
    "                self.current_user_failed_reco.append(self.last_reco)\n",
    "\n",
    "            current_items, counts = np.unique([sess['v'] for sess in observation.current_sessions], return_counts=True)\n",
    "            probas = counts / np.sum(counts) # Numerical stability\n",
    "            node = np.random.choice(current_items, p = probas)\n",
    "            potentials = self.organic_views.adj[node, :]\n",
    "            action = node\n",
    "            mask = np.ones(self.config.num_products)\n",
    "            #print(np.array(self.current_user_failed_reco))\n",
    "            if len(self.current_user_failed_reco) > 0:\n",
    "                mask[np.array(self.current_user_failed_reco)] = self.penalty\n",
    "            sum_potentials = np.sum(potentials * mask)\n",
    "            if sum_potentials != 0:\n",
    "                next_probas = (potentials * mask) / sum_potentials\n",
    "                actions = np.random.choice(np.arange(len(potentials)), p = next_probas)\n",
    "            else:\n",
    "                action = choice(self.config.num_products)\n",
    "            #prob = self.organic_views / sum(self.organic_views)\n",
    "        else:\n",
    "            action = choice(self.config.num_products)#, p = prob)\n",
    "        self.last_reco = action\n",
    "        return {\n",
    "            **super().act(observation, reward, done),\n",
    "            **{\n",
    "                'a': action,\n",
    "                'ps': 1 #prob[action]\n",
    "            }\n",
    "        }\n",
    "    def infos(self):\n",
    "        return self.organic_views.adj"
   ]
  },
  {
   "cell_type": "code",
   "execution_count": null,
   "metadata": {
    "colab": {},
    "colab_type": "code",
    "id": "GPW8gfnKJXRK"
   },
   "outputs": [],
   "source": []
  },
  {
   "cell_type": "code",
   "execution_count": null,
   "metadata": {
    "colab": {
     "base_uri": "https://localhost:8080/",
     "height": 121
    },
    "colab_type": "code",
    "id": "28IjcIBM_rOq",
    "outputId": "0789000b-22ce-41d4-f1a9-e7391e8d1bdc"
   },
   "outputs": [
    {
     "name": "stderr",
     "output_type": "stream",
     "text": [
      "Offline Users:   0%|          | 0/1000 [00:00<?, ?it/s]"
     ]
    },
    {
     "name": "stdout",
     "output_type": "stream",
     "text": [
      "Start: Agent Training #0\n"
     ]
    },
    {
     "name": "stderr",
     "output_type": "stream",
     "text": [
      "Offline Users: 100%|██████████| 1000/1000 [00:26<00:00, 37.40it/s]\n",
      "Online Users:   1%|          | 9/1000 [00:00<00:11, 86.90it/s]"
     ]
    },
    {
     "name": "stdout",
     "output_type": "stream",
     "text": [
      "Start: Agent Testing #0\n"
     ]
    },
    {
     "name": "stderr",
     "output_type": "stream",
     "text": [
      "Online Users: 100%|██████████| 1000/1000 [00:28<00:00, 34.92it/s]"
     ]
    },
    {
     "name": "stdout",
     "output_type": "stream",
     "text": [
      "End: Agent Testing #0 (55.48922944068909s)\n"
     ]
    },
    {
     "name": "stderr",
     "output_type": "stream",
     "text": [
      "\n"
     ]
    },
    {
     "data": {
      "text/plain": [
       "(0.011471146580103536, 0.010734128390334153, 0.012240754518659913)"
      ]
     },
     "execution_count": 24,
     "metadata": {
      "tags": []
     },
     "output_type": "execute_result"
    }
   ],
   "source": [
    "recogym.test_agent(deepcopy(env), RewardMaskGraphMatrixAgent(Configuration(env_1_args), 0.5), 1000, 1000)"
   ]
  },
  {
   "cell_type": "code",
   "execution_count": null,
   "metadata": {
    "colab": {
     "base_uri": "https://localhost:8080/",
     "height": 156
    },
    "colab_type": "code",
    "id": "GDPgW2NK_wYS",
    "outputId": "7428e2b1-9f8f-4b99-eba6-b6577d534f85"
   },
   "outputs": [
    {
     "name": "stdout",
     "output_type": "stream",
     "text": [
      "Click Through Rate: 0.0123\n",
      "[[0. 0. 0. ... 0. 0. 0.]\n",
      " [0. 0. 0. ... 0. 0. 0.]\n",
      " [0. 0. 0. ... 0. 0. 0.]\n",
      " ...\n",
      " [0. 0. 0. ... 0. 0. 0.]\n",
      " [0. 0. 0. ... 0. 0. 0.]\n",
      " [0. 0. 0. ... 0. 0. 0.]]\n"
     ]
    }
   ],
   "source": [
    "import matplotlib.pyplot as plt\n",
    "infos = test_agent(deepcopy(env), RewardMaskGraphMatrixAgent(Configuration(env_1_args), 0.5), 1000, 1000)"
   ]
  },
  {
   "cell_type": "code",
   "execution_count": null,
   "metadata": {
    "colab": {
     "base_uri": "https://localhost:8080/",
     "height": 1000
    },
    "colab_type": "code",
    "id": "TfVar9jhFUtE",
    "outputId": "3376ad90-d858-4cf6-aa40-c23951ae98a6"
   },
   "outputs": [
    {
     "name": "stdout",
     "output_type": "stream",
     "text": [
      "[    0     0     0     0    15     0    29    14     0     3    98     9\n",
      "     1     0     8     0     0   173     0     2     1     0     2     0\n",
      "  1223     0     1     1    83     0     0    68     8     0     6  5003\n",
      "   767     0    63     3     5     1     0     0   201    22     0     4\n",
      "    26     0    89     3    53     0     0     0    21     1     0     0\n",
      "     1    16     0     0    34     0     1    86     1     3     0     0\n",
      "     7     0     6     4     4    30    14   217     1     0     3     0\n",
      "    80  4542     9    11     8     0     0     0     0    67    19     4\n",
      "    27     0     0     0    70     2     1     1     3     9     0     1\n",
      "     0     1     0  1190     0     1     0    12   416     1     0     9\n",
      "     0     4     3     0    52     0     1     0     2     7    38     1\n",
      "     5    30     0     5     4     4     0     1     0    52     6     0\n",
      "    58     1     2     1    28     1  2686     0    13     1     1     1\n",
      "     2  7100     0     0     0     0     0     1    12    23     1     0\n",
      "     0     0     7     0     3     0     5   276     0     0     2     2\n",
      "     0     0     0     1    36     0     1     0     0   313     0     0\n",
      "     1     0     0     5     9     0     0    11     0     0     4     7\n",
      "  6933     6    45     0     0     7     1     0    19     5     2    14\n",
      "     9     0     0     0  4208     3     0     0  8371     0     1     3\n",
      "     4    86  2625    12     3     3     2  1267     0    53     3     8\n",
      "     0     0    14    17    11     2     0     0    11     7     0     0\n",
      "     0     0     0     0     0     2     0   192    27     0     3     8\n",
      "    12     0    70     0     0   133   155 10520     0     5     0    20\n",
      "     0     0     0     2     1    13    82     1   120    20     0    43\n",
      "     0    17  1189     6     0     0    46     0     0   138    46     6\n",
      "     0     0    27     7     0    30     1     1     0     0     0    57\n",
      "     0     0     0     2     0     0    68     7     2     0    26    40\n",
      "     7     3     1     8     3     0     0     0    20    36     0     1\n",
      "     0     0     0    18     0     0     0     0     0   214     0     0\n",
      "     0     0    53     8     4    39     0    14     0     0     0     0\n",
      "    12     1     0     0     0     0    30     0     0   179     0     0\n",
      "     0     0     6    30  3915     0     1     0     0     1     1   110\n",
      "   147    45   400     0     0     0     0    91     0     0     0     5\n",
      "     3     3     0     1     0     0     3     1     1     3     0   402\n",
      "     0     9     0     0     0   155     0     6     0     0     0     0\n",
      "     1     0    10     4     1    10    12     4     0     0     0     0\n",
      "     3     0     6     3     2    65     6     0     0     0     0     2\n",
      "     3     1     0   139     9     0     1     8    88     0    13    76\n",
      "     1     0     0     1     2    70    24     1     0     3     6     1\n",
      "     0     2    84     4     2     2     0   227     0     2     1    39\n",
      "   427     6     3     1     0     8     1     5     0     0     0    23\n",
      "     1   412    16     0     1     1     0    80     6    82     1     0\n",
      "     0    39     0     0     4     2    27    60     4     1   288     0\n",
      "     3     4     0     0     0     0     6     0     0     0    28     0\n",
      "     0     0    58     0    61     2     1  3906     0     0     0    63\n",
      "   232   146    39     2     6     0  1021     6     1    34     0     1\n",
      "     0     1     0     0     3    28     0    24     1     1     0    13\n",
      "     0    13    59   101     4     0     1     2     0     0     0     0\n",
      "    18     1     0   244   313    28   118     3    17     0     0     0\n",
      "    22  2007     0     1     1     5   420     0     4     1     0     2\n",
      "     8     2     0   636    15     0     0     0     8     1    21   162\n",
      "    20     0     0     0     0     0     4     0     0     0     0    11\n",
      "    81     2     6    14     0     1     3    50     0     1     0    17\n",
      "   569     0     2     8     5     0     0   273    11     0     6   127\n",
      "  1079    31     1     3     1    61     0     0   112     1   837     2\n",
      "     2     0     1     0     1     0    26    35     0    77   868     3\n",
      "     1  6007     2     1     6    52     8     2     0     7     0     1\n",
      "     1     0    93     0     0     0    17     0     6     0    98    56\n",
      "     5     1     0     6     1     0     1     2     3     0   106     7\n",
      "     0   149    48     0    92     4     4     0     8     1    13     0\n",
      "     0   215     0     0     2     0     0     0     2     0     0    17\n",
      "    18     0     2     0     9   269     0     1     3     0     6     0\n",
      "     0     9     0     2     3     1     0     1    45     0     3     1\n",
      "     2     0     0    10     6    15     0     0     2     1    10     3\n",
      "     3     0   189     2     7     1     2     0     6     0     3     3\n",
      "     0     0     3   297     2     0     0   441     0     0     0     0\n",
      "     5    15     1     0 29342     4    50     0     2     5     0   139\n",
      "   729     3     0     1  4992     2    21    59     1     0     0    16\n",
      "     0     1     0     2     3     3     0    73     0     0     0     0\n",
      "     2   174     0     0     0    10     3     0     0   133     1     5\n",
      "     5     0     0     0    50     0 14991     0     0     0     1     0\n",
      "     5     0     0     0     0     0     0     0   121    38     0     0\n",
      "     0     0     0     0     0     1     0     0     2     0   104     0\n",
      "     0     3     0     4     0    52    48     0     0   122     1     0\n",
      "     0     0     0    28     0     0     4    21     0    26     2   282\n",
      "     3     0     0    22     0     0     0     0   591     0     0     0\n",
      "    99     6     1     0    11     0    12     0   106     1    25    10\n",
      "     0     0    13   401    48    18     1     0     1     0   262     3\n",
      "    44     0    18   355     0     7     0     0     2   319     0    37\n",
      "     0     0     0     1     0    15    25   343    23     9     1  3704\n",
      "     0  1582     4     0    20     1    44    49     1     0   550     1\n",
      "     9     0   110     0   181    12     1    11     0   167   347     4\n",
      "   200     0     0     2     5     1     4     4     0     4   193     3\n",
      "    26     0     6     0]\n",
      "[[0. 0. 0. ... 0. 0. 0.]\n",
      " [0. 0. 0. ... 0. 0. 0.]\n",
      " [0. 0. 0. ... 0. 0. 0.]\n",
      " ...\n",
      " [0. 0. 0. ... 0. 0. 0.]\n",
      " [0. 0. 0. ... 0. 0. 0.]\n",
      " [0. 0. 0. ... 0. 0. 0.]]\n"
     ]
    }
   ],
   "source": [
    "print(infos.sum(axis=0).astype(np.int))\n",
    "print(infos)"
   ]
  },
  {
   "cell_type": "code",
   "execution_count": null,
   "metadata": {
    "colab": {
     "base_uri": "https://localhost:8080/",
     "height": 286
    },
    "colab_type": "code",
    "id": "zNoYAuZAFvkF",
    "outputId": "72ffaf46-a0ab-4ce8-cd99-912f7774ed80"
   },
   "outputs": [
    {
     "data": {
      "text/plain": [
       "<matplotlib.image.AxesImage at 0x7fb7e12b3eb8>"
      ]
     },
     "execution_count": 35,
     "metadata": {
      "tags": []
     },
     "output_type": "execute_result"
    },
    {
     "data": {
      "image/png": "[encoded data removed]",
      "text/plain": [
       "<Figure size 432x288 with 1 Axes>"
      ]
     },
     "metadata": {
      "tags": []
     },
     "output_type": "display_data"
    }
   ],
   "source": [
    "plt.imshow(infos, cmap='gray')"
   ]
  },
  {
   "cell_type": "code",
   "execution_count": null,
   "metadata": {
    "colab": {},
    "colab_type": "code",
    "id": "xcvezBi4GtgW"
   },
   "outputs": [],
   "source": [
    "class TemporalGraphMatrixAgent(Agent):\n",
    "    def __init__(self, config):\n",
    "        # Set number of products as an attribute of the Agent.\n",
    "        super(TemporalGraphMatrixAgent, self).__init__(config)\n",
    "\n",
    "        # Track number of times each item viewed in Organic session.\n",
    "        self.organic_views = Graph(self.config.num_products)\n",
    "        self.organic_views_time = Graph(self.config.num_products)\n",
    "\n",
    "    def train(self, observation, action, reward, done):\n",
    "        \"\"\"Train method learns from a tuple of data.\n",
    "            this method can be called for offline or online learning\"\"\"\n",
    "\n",
    "        # Adding organic session to organic view counts.\n",
    "        if observation:\n",
    "            previous_item = None\n",
    "            for session in observation.sessions():\n",
    "                current_item = session['v']\n",
    "                current_time_step = session['t']\n",
    "                if previous_item is not None:\n",
    "                    self.organic_views_time.add(previous_item, current_item, cu)\n",
    "                    self.organic_views.add(previous_item, current_item)\n",
    "                previous_item = current_item\n",
    "\n",
    "    def act(self, observation, reward, done):\n",
    "        \"\"\"Act method returns an action based on current observation and past\n",
    "            history\"\"\"\n",
    "        # Choosing action randomly in proportion with number of views.\n",
    "        if observation is not None and len(observation.current_sessions) > 0:\n",
    "            current_user = observation.current_sessions[-1]['u']\n",
    "            current_items, counts = np.unique([sess['v'] for sess in observation.current_sessions], return_counts=True)\n",
    "            probas = counts / np.sum(counts) # Numerical stability\n",
    "            node = np.random.choice(current_items, p = probas)\n",
    "            potentials = self.organic_views.adj[node, :]\n",
    "            action = node\n",
    "            mask = np.ones(self.config.num_products)\n",
    "            #print(np.array(self.current_user_failed_reco))\n",
    "            if len(self.current_user_failed_reco) > 0:\n",
    "                mask[np.array(self.current_user_failed_reco)] = self.penalty\n",
    "            sum_potentials = np.sum(potentials * mask)\n",
    "            if sum_potentials != 0:\n",
    "                next_probas = (potentials * mask) / sum_potentials\n",
    "                actions = np.random.choice(np.arange(len(potentials)), p = next_probas)\n",
    "            else:\n",
    "                action = choice(self.config.num_products)\n",
    "            #prob = self.organic_views / sum(self.organic_views)\n",
    "        else:\n",
    "            action = choice(self.config.num_products)#, p = prob)\n",
    "        self.last_reco = action\n",
    "        return {\n",
    "            **super().act(observation, reward, done),\n",
    "            **{\n",
    "                'a': action,\n",
    "                'ps': 1 #prob[action]\n",
    "            }\n",
    "        }\n",
    "    def infos(self):\n",
    "        return self.organic_views.adj"
   ]
  },
  {
   "cell_type": "code",
   "execution_count": null,
   "metadata": {
    "colab": {},
    "colab_type": "code",
    "id": "EnmAuA0cLVZz"
   },
   "outputs": [],
   "source": []
  }
 ],
 "metadata": {
  "colab": {
   "name": "Recogym.ipynb",
   "provenance": []
  },
  "kernelspec": {
   "display_name": "Python 3",
   "language": "python",
   "name": "python3"
  },
  "language_info": {
   "codemirror_mode": {
    "name": "ipython",
    "version": 3
   },
   "file_extension": ".py",
   "mimetype": "text/x-python",
   "name": "python",
   "nbconvert_exporter": "python",
   "pygments_lexer": "ipython3",
   "version": "3.6.9"
  }
 },
 "nbformat": 4,
 "nbformat_minor": 4
}
